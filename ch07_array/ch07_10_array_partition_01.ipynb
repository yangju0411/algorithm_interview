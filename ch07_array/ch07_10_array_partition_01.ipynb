{
 "cells": [
  {
   "cell_type": "markdown",
   "metadata": {},
   "source": [
    "리트코드 https://leetcode.com/problems/array-partition-i/"
   ]
  },
  {
   "cell_type": "markdown",
   "metadata": {},
   "source": [
    "2n의 숫자열이 주어졌을 때 모든 i를 사용하여 가능한 $min(a_{i}, b_{i})$들의 합 중에서 가장 큰 수를 출력하는 문제"
   ]
  },
  {
   "cell_type": "code",
   "execution_count": 1,
   "metadata": {
    "ExecuteTime": {
     "end_time": "2021-07-22T07:20:12.840826Z",
     "start_time": "2021-07-22T07:20:12.833890Z"
    }
   },
   "outputs": [],
   "source": [
    "import collections\n",
    "import heapq\n",
    "import functools\n",
    "import itertools\n",
    "import re\n",
    "import sys\n",
    "import math\n",
    "import bisect\n",
    "from typing import *"
   ]
  },
  {
   "cell_type": "code",
   "execution_count": 2,
   "metadata": {
    "ExecuteTime": {
     "end_time": "2021-07-22T07:23:48.426010Z",
     "start_time": "2021-07-22T07:23:48.419240Z"
    }
   },
   "outputs": [],
   "source": [
    "nums1 = [1,4,3,2]\n",
    "nums2 = [6,2,6,5,1,2]"
   ]
  },
  {
   "cell_type": "markdown",
   "metadata": {},
   "source": [
    "# 오름차순 풀이 "
   ]
  },
  {
   "cell_type": "code",
   "execution_count": 3,
   "metadata": {
    "ExecuteTime": {
     "end_time": "2021-07-22T07:28:49.187850Z",
     "start_time": "2021-07-22T07:28:49.180262Z"
    }
   },
   "outputs": [],
   "source": [
    "def arrayPairSum(nums: List[int]) -> int:\n",
    "    sum = 0\n",
    "    pair = []\n",
    "    nums.sort()\n",
    "    \n",
    "    for n in nums:\n",
    "        #앞에서부터 오름차순으로 페어를 만들어서 합 계산\n",
    "        pair.append(n)\n",
    "        if len(pair) == 2: # 한 쌍이 만들어지면 sum에 최솟값을 더해주고 pair를 비어주고\n",
    "            sum += min(pair)\n",
    "            pair = []\n",
    "            \n",
    "    return sum"
   ]
  },
  {
   "cell_type": "code",
   "execution_count": 4,
   "metadata": {
    "ExecuteTime": {
     "end_time": "2021-07-22T07:31:49.722981Z",
     "start_time": "2021-07-22T07:31:49.708694Z"
    }
   },
   "outputs": [
    {
     "data": {
      "text/plain": [
       "4"
      ]
     },
     "execution_count": 4,
     "metadata": {},
     "output_type": "execute_result"
    }
   ],
   "source": [
    "arrayPairSum(nums1)"
   ]
  },
  {
   "cell_type": "code",
   "execution_count": 5,
   "metadata": {
    "ExecuteTime": {
     "end_time": "2021-07-22T07:31:56.388798Z",
     "start_time": "2021-07-22T07:31:56.381005Z"
    }
   },
   "outputs": [
    {
     "data": {
      "text/plain": [
       "9"
      ]
     },
     "execution_count": 5,
     "metadata": {},
     "output_type": "execute_result"
    }
   ],
   "source": [
    "arrayPairSum(nums2)"
   ]
  },
  {
   "cell_type": "markdown",
   "metadata": {},
   "source": [
    "최소값의 합이 최대가 되는 것은 결국 최소값이 최대가 되어야 하는 것이므로 뒤에서부터 내림차순으로 정렬하여 주면 항상 최소값이 최대가 된다. 이 때 문제에서 원소가 2n으로 짝수인 배열이므로 앞에서부터 오름차순도 결과는 같다."
   ]
  },
  {
   "cell_type": "markdown",
   "metadata": {},
   "source": [
    "# 짝수 번째  값 계산"
   ]
  },
  {
   "cell_type": "code",
   "execution_count": 6,
   "metadata": {
    "ExecuteTime": {
     "end_time": "2021-07-22T07:34:35.897237Z",
     "start_time": "2021-07-22T07:34:35.892072Z"
    }
   },
   "outputs": [],
   "source": [
    "nums1 = [1,4,3,2]\n",
    "nums2 = [6,2,6,5,1,2]"
   ]
  },
  {
   "cell_type": "code",
   "execution_count": 7,
   "metadata": {
    "ExecuteTime": {
     "end_time": "2021-07-22T07:35:08.514912Z",
     "start_time": "2021-07-22T07:35:08.508111Z"
    }
   },
   "outputs": [],
   "source": [
    "def arrayPairSum(nums: List[int]) -> int:\n",
    "    sum = 0\n",
    "    nums.sort()\n",
    "    \n",
    "    for i, n in enumerate(nums):\n",
    "        if i % 2 == 0:\n",
    "            sum += n\n",
    "    \n",
    "    return sum"
   ]
  },
  {
   "cell_type": "code",
   "execution_count": 8,
   "metadata": {
    "ExecuteTime": {
     "end_time": "2021-07-22T07:35:13.870401Z",
     "start_time": "2021-07-22T07:35:13.862471Z"
    }
   },
   "outputs": [
    {
     "data": {
      "text/plain": [
       "4"
      ]
     },
     "execution_count": 8,
     "metadata": {},
     "output_type": "execute_result"
    }
   ],
   "source": [
    "arrayPairSum(nums1)"
   ]
  },
  {
   "cell_type": "code",
   "execution_count": 9,
   "metadata": {
    "ExecuteTime": {
     "end_time": "2021-07-22T07:35:18.875112Z",
     "start_time": "2021-07-22T07:35:18.867818Z"
    }
   },
   "outputs": [
    {
     "data": {
      "text/plain": [
       "9"
      ]
     },
     "execution_count": 9,
     "metadata": {},
     "output_type": "execute_result"
    }
   ],
   "source": [
    "arrayPairSum(nums2)"
   ]
  },
  {
   "cell_type": "markdown",
   "metadata": {},
   "source": [
    "2n의 배열이므로 정렬해주면 짝수 번이 최소값이다.(0부터 인덱스 시작이고 0을 포함한 짝수) <br>\n",
    "이러면 짝을 지어주는 불필요한 작업을 하지 않아 효율적이다."
   ]
  },
  {
   "cell_type": "markdown",
   "metadata": {},
   "source": [
    "# 파이써닉한 방법"
   ]
  },
  {
   "cell_type": "code",
   "execution_count": 10,
   "metadata": {
    "ExecuteTime": {
     "end_time": "2021-07-22T07:37:32.219617Z",
     "start_time": "2021-07-22T07:37:32.213401Z"
    }
   },
   "outputs": [],
   "source": [
    "def arrayPairSum(nums: List[int]) -> int:\n",
    "    return sum(sorted(nums)[::2])"
   ]
  },
  {
   "cell_type": "code",
   "execution_count": 11,
   "metadata": {
    "ExecuteTime": {
     "end_time": "2021-07-22T07:37:36.312650Z",
     "start_time": "2021-07-22T07:37:36.300319Z"
    }
   },
   "outputs": [
    {
     "data": {
      "text/plain": [
       "4"
      ]
     },
     "execution_count": 11,
     "metadata": {},
     "output_type": "execute_result"
    }
   ],
   "source": [
    "arrayPairSum(nums1)"
   ]
  },
  {
   "cell_type": "code",
   "execution_count": 12,
   "metadata": {
    "ExecuteTime": {
     "end_time": "2021-07-22T07:37:39.260313Z",
     "start_time": "2021-07-22T07:37:39.252202Z"
    }
   },
   "outputs": [
    {
     "data": {
      "text/plain": [
       "9"
      ]
     },
     "execution_count": 12,
     "metadata": {},
     "output_type": "execute_result"
    }
   ],
   "source": [
    "arrayPairSum(nums2)"
   ]
  },
  {
   "cell_type": "markdown",
   "metadata": {},
   "source": [
    "2번 풀이를 파이써닉하게 한 줄로 바꾼 것이다."
   ]
  }
 ],
 "metadata": {
  "kernelspec": {
   "display_name": "Python 3",
   "language": "python",
   "name": "python3"
  },
  "language_info": {
   "codemirror_mode": {
    "name": "ipython",
    "version": 3
   },
   "file_extension": ".py",
   "mimetype": "text/x-python",
   "name": "python",
   "nbconvert_exporter": "python",
   "pygments_lexer": "ipython3",
   "version": "3.7.1"
  },
  "toc": {
   "base_numbering": 1,
   "nav_menu": {},
   "number_sections": true,
   "sideBar": true,
   "skip_h1_title": false,
   "title_cell": "Table of Contents",
   "title_sidebar": "Contents",
   "toc_cell": false,
   "toc_position": {},
   "toc_section_display": true,
   "toc_window_display": false
  }
 },
 "nbformat": 4,
 "nbformat_minor": 2
}
