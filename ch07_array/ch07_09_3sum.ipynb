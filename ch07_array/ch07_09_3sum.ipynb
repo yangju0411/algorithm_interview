{
 "cells": [
  {
   "cell_type": "markdown",
   "metadata": {},
   "source": [
    "리트코드 세 수의 합: https://leetcode.com/problems/3sum/"
   ]
  },
  {
   "cell_type": "code",
   "execution_count": 1,
   "metadata": {
    "ExecuteTime": {
     "end_time": "2021-07-22T07:11:50.730611Z",
     "start_time": "2021-07-22T07:11:50.722503Z"
    }
   },
   "outputs": [],
   "source": [
    "import collections\n",
    "import heapq\n",
    "import functools\n",
    "import itertools\n",
    "import re\n",
    "import sys\n",
    "import math\n",
    "import bisect\n",
    "from typing import *"
   ]
  },
  {
   "cell_type": "code",
   "execution_count": 2,
   "metadata": {
    "ExecuteTime": {
     "end_time": "2021-07-22T07:11:50.742947Z",
     "start_time": "2021-07-22T07:11:50.735007Z"
    }
   },
   "outputs": [],
   "source": [
    "nums1 = [-1,0,1,2,-1,-4]\n",
    "nums2 = []\n",
    "nums3 = [0]"
   ]
  },
  {
   "cell_type": "markdown",
   "metadata": {},
   "source": [
    "# 브루트 포스로 계산"
   ]
  },
  {
   "cell_type": "code",
   "execution_count": 3,
   "metadata": {
    "ExecuteTime": {
     "end_time": "2021-07-22T07:11:50.766430Z",
     "start_time": "2021-07-22T07:11:50.748739Z"
    }
   },
   "outputs": [],
   "source": [
    "def threeSum(nums: List[int]) -> List[List[int]]:\n",
    "    result = []\n",
    "    nums.sort() #정렬\n",
    "    \n",
    "    for i in range(len(nums) - 2):\n",
    "        if i > 0 and nums[i] == nums[i - 1]:\n",
    "            continue\n",
    "        for j in range(i + 1, len(nums) - 1):\n",
    "            if j > i + 1 and nums[j] == nums[j - 1]:\n",
    "                continue\n",
    "            for k in  range(j + 1, len(nums)):\n",
    "                if k > j + 1 and nums[k] == nums[k - 1]:\n",
    "                    continue\n",
    "                if nums[i] + nums[j] + nums[k] == 0:\n",
    "                    result.append([nums[i], nums[j], nums[k]])\n",
    "    return result"
   ]
  },
  {
   "cell_type": "code",
   "execution_count": 4,
   "metadata": {
    "ExecuteTime": {
     "end_time": "2021-07-22T07:11:50.786308Z",
     "start_time": "2021-07-22T07:11:50.770970Z"
    }
   },
   "outputs": [
    {
     "data": {
      "text/plain": [
       "[[-1, -1, 2], [-1, 0, 1]]"
      ]
     },
     "execution_count": 4,
     "metadata": {},
     "output_type": "execute_result"
    }
   ],
   "source": [
    "threeSum(nums1)"
   ]
  },
  {
   "cell_type": "code",
   "execution_count": 5,
   "metadata": {
    "ExecuteTime": {
     "end_time": "2021-07-22T07:11:50.808310Z",
     "start_time": "2021-07-22T07:11:50.790833Z"
    }
   },
   "outputs": [
    {
     "data": {
      "text/plain": [
       "[]"
      ]
     },
     "execution_count": 5,
     "metadata": {},
     "output_type": "execute_result"
    }
   ],
   "source": [
    "threeSum(nums2)"
   ]
  },
  {
   "cell_type": "code",
   "execution_count": 6,
   "metadata": {
    "ExecuteTime": {
     "end_time": "2021-07-22T07:11:50.839105Z",
     "start_time": "2021-07-22T07:11:50.814025Z"
    }
   },
   "outputs": [
    {
     "data": {
      "text/plain": [
       "[]"
      ]
     },
     "execution_count": 6,
     "metadata": {},
     "output_type": "execute_result"
    }
   ],
   "source": [
    "threeSum(nums3)"
   ]
  },
  {
   "cell_type": "markdown",
   "metadata": {},
   "source": [
    "풀이는 맞으나 리트코드에 제출하면 Time Limit Exceeded가 뜬다. <br>\n",
    "3중첩 반복문으로 시간 복잡도가 O(n^3)인 코드라 매우 비효율적이기 때문이다. <br>\n",
    "O(n^2) 이내로 줄여보자"
   ]
  },
  {
   "cell_type": "markdown",
   "metadata": {},
   "source": [
    "# 투 포인터로 합 계산"
   ]
  },
  {
   "cell_type": "code",
   "execution_count": 7,
   "metadata": {
    "ExecuteTime": {
     "end_time": "2021-07-22T07:11:50.892886Z",
     "start_time": "2021-07-22T07:11:50.844801Z"
    }
   },
   "outputs": [],
   "source": [
    "nums1 = [-1,0,1,2,-1,-4]\n",
    "nums2 = []\n",
    "nums3 = [0]"
   ]
  },
  {
   "cell_type": "code",
   "execution_count": 8,
   "metadata": {
    "ExecuteTime": {
     "end_time": "2021-07-22T07:11:50.922232Z",
     "start_time": "2021-07-22T07:11:50.898069Z"
    }
   },
   "outputs": [],
   "source": [
    "def threeSum(nums: List[int]) -> List[List[int]]:\n",
    "    result = []\n",
    "    nums.sort() #정렬\n",
    "    \n",
    "    for i in range(len(nums) - 2):\n",
    "        if i > 0 and nums[i] == nums[i - 1]:\n",
    "            continue\n",
    "            \n",
    "        left, right = i + 1, len(nums) - 1\n",
    "        \n",
    "        while left < right:\n",
    "            sum = nums[i] + nums[left] + nums[right]\n",
    "            \n",
    "            if sum < 0: # 정렬되어 있으므로 합이 0보다 작으면 왼쪽 포인터를 앞으로 보내야 합이 커진다. 반대도 마찬가지\n",
    "                left += 1\n",
    "            elif sum > 0:\n",
    "                right -= 1\n",
    "            else: \n",
    "                result.append((nums[i], nums[left], nums[right]))\n",
    "                \n",
    "                while left < right and nums[left] == nums[left + 1]: # 중복을 처리하며 포인터를 다음으로 넘김\n",
    "                    left += 1\n",
    "                while left < right and nums[right] == nums[right - 1]:\n",
    "                    right -= 1\n",
    "                    \n",
    "                left += 1\n",
    "                right -= 1\n",
    "    return result"
   ]
  },
  {
   "cell_type": "code",
   "execution_count": 9,
   "metadata": {
    "ExecuteTime": {
     "end_time": "2021-07-22T07:11:50.942435Z",
     "start_time": "2021-07-22T07:11:50.925707Z"
    }
   },
   "outputs": [
    {
     "data": {
      "text/plain": [
       "[(-1, -1, 2), (-1, 0, 1)]"
      ]
     },
     "execution_count": 9,
     "metadata": {},
     "output_type": "execute_result"
    }
   ],
   "source": [
    "threeSum(nums1)"
   ]
  },
  {
   "cell_type": "code",
   "execution_count": 10,
   "metadata": {
    "ExecuteTime": {
     "end_time": "2021-07-22T07:11:50.960371Z",
     "start_time": "2021-07-22T07:11:50.949501Z"
    }
   },
   "outputs": [
    {
     "data": {
      "text/plain": [
       "[]"
      ]
     },
     "execution_count": 10,
     "metadata": {},
     "output_type": "execute_result"
    }
   ],
   "source": [
    "threeSum(nums2)"
   ]
  },
  {
   "cell_type": "code",
   "execution_count": 11,
   "metadata": {
    "ExecuteTime": {
     "end_time": "2021-07-22T07:11:50.995496Z",
     "start_time": "2021-07-22T07:11:50.967537Z"
    }
   },
   "outputs": [
    {
     "data": {
      "text/plain": [
       "[]"
      ]
     },
     "execution_count": 11,
     "metadata": {},
     "output_type": "execute_result"
    }
   ],
   "source": [
    "threeSum(nums3)"
   ]
  },
  {
   "cell_type": "markdown",
   "metadata": {},
   "source": [
    "이 풀이의 시간 복잡도는 O(n^2)이다. <br>\n",
    "i를 축으로 하고 i 뒤의 수의 양 끝에 포인터를 두어 이 포인터를 좁혀가면서 답을 찾는다."
   ]
  },
  {
   "cell_type": "markdown",
   "metadata": {},
   "source": [
    "## 투 포인터 "
   ]
  },
  {
   "cell_type": "markdown",
   "metadata": {},
   "source": [
    "투 포인터는 두가지 지점을 기준으로 범위를 좁혀 나가는 실전적인 알고리즘 문제 풀이 전략이다. <br>\n",
    "일반적으로 배열이 정렬되어 있을 때 유용하다. <br>\n",
    "슬라이딩 윈도우 sliding window와 유사한 점이 많다."
   ]
  }
 ],
 "metadata": {
  "kernelspec": {
   "display_name": "Python 3",
   "language": "python",
   "name": "python3"
  },
  "language_info": {
   "codemirror_mode": {
    "name": "ipython",
    "version": 3
   },
   "file_extension": ".py",
   "mimetype": "text/x-python",
   "name": "python",
   "nbconvert_exporter": "python",
   "pygments_lexer": "ipython3",
   "version": "3.7.1"
  },
  "toc": {
   "base_numbering": 1,
   "nav_menu": {},
   "number_sections": true,
   "sideBar": true,
   "skip_h1_title": false,
   "title_cell": "Table of Contents",
   "title_sidebar": "Contents",
   "toc_cell": false,
   "toc_position": {},
   "toc_section_display": true,
   "toc_window_display": false
  }
 },
 "nbformat": 4,
 "nbformat_minor": 2
}
