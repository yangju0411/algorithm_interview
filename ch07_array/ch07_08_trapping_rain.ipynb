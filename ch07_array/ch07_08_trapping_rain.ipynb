{
 "cells": [
  {
   "cell_type": "markdown",
   "metadata": {},
   "source": [
    "리트코드 빗물 트래핑: https://leetcode.com/problems/trapping-rain-water/"
   ]
  },
  {
   "cell_type": "code",
   "execution_count": 1,
   "metadata": {
    "ExecuteTime": {
     "end_time": "2021-06-24T09:14:55.609368Z",
     "start_time": "2021-06-24T09:14:55.602680Z"
    }
   },
   "outputs": [],
   "source": [
    "import collections\n",
    "import heapq\n",
    "import functools\n",
    "import itertools\n",
    "import re\n",
    "import sys\n",
    "import math\n",
    "import bisect\n",
    "from typing import *"
   ]
  },
  {
   "cell_type": "code",
   "execution_count": 2,
   "metadata": {
    "ExecuteTime": {
     "end_time": "2021-06-24T09:14:55.625514Z",
     "start_time": "2021-06-24T09:14:55.615323Z"
    }
   },
   "outputs": [],
   "source": [
    "height1 = [0,1,0,2,1,0,1,3,2,1,2,1]\n",
    "height2 = [4,2,0,3,2,5]"
   ]
  },
  {
   "cell_type": "markdown",
   "metadata": {},
   "source": [
    "# 투 포인터를 최대로 이동"
   ]
  },
  {
   "cell_type": "code",
   "execution_count": 3,
   "metadata": {
    "ExecuteTime": {
     "end_time": "2021-06-24T09:14:55.645944Z",
     "start_time": "2021-06-24T09:14:55.631142Z"
    }
   },
   "outputs": [],
   "source": [
    "def trap(height: List[int]) -> int:\n",
    "    if not height: return 0\n",
    "    \n",
    "    volume = 0\n",
    "    left, right = 0, len(height) - 1\n",
    "    left_max, right_max = height[left], height[right]\n",
    "    \n",
    "    while left < right:\n",
    "        left_max, right_max = max(height[left], left_max), max(height[right], right_max)\n",
    "        \n",
    "        if left_max <= right_max:\n",
    "            volume += left_max - height[left]\n",
    "            left += 1\n",
    "        else:\n",
    "            volume += right_max - height[right]\n",
    "            right -= 1\n",
    "    return volume"
   ]
  },
  {
   "cell_type": "code",
   "execution_count": 4,
   "metadata": {
    "ExecuteTime": {
     "end_time": "2021-06-24T09:14:55.669305Z",
     "start_time": "2021-06-24T09:14:55.653027Z"
    }
   },
   "outputs": [
    {
     "data": {
      "text/plain": [
       "6"
      ]
     },
     "execution_count": 4,
     "metadata": {},
     "output_type": "execute_result"
    }
   ],
   "source": [
    "trap(height1)"
   ]
  },
  {
   "cell_type": "code",
   "execution_count": 5,
   "metadata": {
    "ExecuteTime": {
     "end_time": "2021-06-24T09:14:55.692506Z",
     "start_time": "2021-06-24T09:14:55.673765Z"
    }
   },
   "outputs": [
    {
     "data": {
      "text/plain": [
       "9"
      ]
     },
     "execution_count": 5,
     "metadata": {},
     "output_type": "execute_result"
    }
   ],
   "source": [
    "trap(height2)"
   ]
  },
  {
   "cell_type": "markdown",
   "metadata": {},
   "source": [
    "최대 높이를 갱신해가며 저장한 후 포인터를 움직여 빼준 것들을 더해주면 부피가 나온다. <br>\n",
    "두 포인터가 만나면 함수가 종료되는데 이 때 두 포인터가 만나는 지점은 최대 높이인 지점이다. 어느 한 쪽이 먼저 높이가 최대인 지점을 만나면 거기서 멈추게 되는 구조이기 때문이다. <br>"
   ]
  },
  {
   "cell_type": "markdown",
   "metadata": {},
   "source": [
    "# 스택 쌓기 "
   ]
  },
  {
   "cell_type": "code",
   "execution_count": 6,
   "metadata": {
    "ExecuteTime": {
     "end_time": "2021-06-24T09:14:55.715155Z",
     "start_time": "2021-06-24T09:14:55.699536Z"
    }
   },
   "outputs": [],
   "source": [
    "def trap(height: List[int]) -> int:\n",
    "    stack = [] #인덱스를 담는 스택\n",
    "    volume = 0\n",
    "    \n",
    "    for i in range(len(height)):\n",
    "        #변곡점을 만나는 경우(현재 지점의 높이가 직전 높이보다 높은 경우)\n",
    "        while stack and height[i] > height[stack[-1]]:\n",
    "            top = stack.pop() # 이전 높이를 pop함\n",
    "            \n",
    "            if not len(stack): # 이 때 스택이 비었으면 while 멈춤\n",
    "                break # 이 부분 덕분에 첫번째 높이가 0인 경우가 처리 가능해짐\n",
    "            \n",
    "            #전전 높이와의 차이만큼 물 높이를 처리함\n",
    "            distance = i - stack[-1] -1 # 아까 직전 높이는 top이 되었으므로 stack[-1]은 전전 높이임.\n",
    "            waters = min(height[i], height[stack[-1]]) - height[top]\n",
    "            \n",
    "            volume += distance * waters\n",
    "            \n",
    "        stack.append(i)\n",
    "    return volume"
   ]
  },
  {
   "cell_type": "code",
   "execution_count": 7,
   "metadata": {
    "ExecuteTime": {
     "end_time": "2021-06-24T09:14:55.738103Z",
     "start_time": "2021-06-24T09:14:55.725153Z"
    }
   },
   "outputs": [
    {
     "data": {
      "text/plain": [
       "6"
      ]
     },
     "execution_count": 7,
     "metadata": {},
     "output_type": "execute_result"
    }
   ],
   "source": [
    "trap(height1)"
   ]
  },
  {
   "cell_type": "code",
   "execution_count": 8,
   "metadata": {
    "ExecuteTime": {
     "end_time": "2021-06-24T09:14:55.756085Z",
     "start_time": "2021-06-24T09:14:55.745842Z"
    }
   },
   "outputs": [
    {
     "data": {
      "text/plain": [
       "9"
      ]
     },
     "execution_count": 8,
     "metadata": {},
     "output_type": "execute_result"
    }
   ],
   "source": [
    "trap(height2)"
   ]
  },
  {
   "cell_type": "markdown",
   "metadata": {},
   "source": [
    "왼쪽부터 스택에 높이의 인덱스를 쌓는다. 이전 지점보다 현재 지점의 높이가 높은 변곡점을 만날 때 스택에 있는 것들을 pop하여 부피를 계산한다. <br>"
   ]
  }
 ],
 "metadata": {
  "kernelspec": {
   "display_name": "Python 3",
   "language": "python",
   "name": "python3"
  },
  "language_info": {
   "codemirror_mode": {
    "name": "ipython",
    "version": 3
   },
   "file_extension": ".py",
   "mimetype": "text/x-python",
   "name": "python",
   "nbconvert_exporter": "python",
   "pygments_lexer": "ipython3",
   "version": "3.7.1"
  },
  "toc": {
   "base_numbering": 1,
   "nav_menu": {},
   "number_sections": true,
   "sideBar": true,
   "skip_h1_title": false,
   "title_cell": "Table of Contents",
   "title_sidebar": "Contents",
   "toc_cell": false,
   "toc_position": {},
   "toc_section_display": true,
   "toc_window_display": false
  }
 },
 "nbformat": 4,
 "nbformat_minor": 2
}
