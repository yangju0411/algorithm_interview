{
 "cells": [
  {
   "cell_type": "markdown",
   "metadata": {},
   "source": [
    "리트코드: https://leetcode.com/problems/best-time-to-buy-and-sell-stock/"
   ]
  },
  {
   "cell_type": "code",
   "execution_count": 1,
   "metadata": {
    "ExecuteTime": {
     "end_time": "2021-07-23T08:35:18.293267Z",
     "start_time": "2021-07-23T08:35:18.285299Z"
    }
   },
   "outputs": [],
   "source": [
    "import collections\n",
    "import heapq\n",
    "import functools\n",
    "import itertools\n",
    "import re\n",
    "import sys\n",
    "import math\n",
    "import bisect\n",
    "from typing import *"
   ]
  },
  {
   "cell_type": "code",
   "execution_count": 2,
   "metadata": {
    "ExecuteTime": {
     "end_time": "2021-07-23T08:35:18.311968Z",
     "start_time": "2021-07-23T08:35:18.299950Z"
    }
   },
   "outputs": [],
   "source": [
    "prices1 = [7,1,5,3,6,4]\n",
    "prices2 = [7,6,4,3,1]"
   ]
  },
  {
   "cell_type": "markdown",
   "metadata": {},
   "source": [
    "# 브루트 포스"
   ]
  },
  {
   "cell_type": "code",
   "execution_count": 3,
   "metadata": {
    "ExecuteTime": {
     "end_time": "2021-07-23T08:35:18.334152Z",
     "start_time": "2021-07-23T08:35:18.318698Z"
    }
   },
   "outputs": [],
   "source": [
    "def maxProfit(prices: List[int]) -> int:\n",
    "    max_profit = 0\n",
    "    \n",
    "    for i, price in enumerate(prices):\n",
    "        for j in range(i, len(prices)):\n",
    "            max_profit = max(prices[j] - price, max_profit)\n",
    "    \n",
    "    return max_profit"
   ]
  },
  {
   "cell_type": "code",
   "execution_count": 4,
   "metadata": {
    "ExecuteTime": {
     "end_time": "2021-07-23T08:35:18.361206Z",
     "start_time": "2021-07-23T08:35:18.342279Z"
    }
   },
   "outputs": [
    {
     "data": {
      "text/plain": [
       "5"
      ]
     },
     "execution_count": 4,
     "metadata": {},
     "output_type": "execute_result"
    }
   ],
   "source": [
    "maxProfit(prices1)"
   ]
  },
  {
   "cell_type": "code",
   "execution_count": 5,
   "metadata": {
    "ExecuteTime": {
     "end_time": "2021-07-23T08:35:18.377027Z",
     "start_time": "2021-07-23T08:35:18.368127Z"
    }
   },
   "outputs": [
    {
     "data": {
      "text/plain": [
       "0"
      ]
     },
     "execution_count": 5,
     "metadata": {},
     "output_type": "execute_result"
    }
   ],
   "source": [
    "maxProfit(prices2)"
   ]
  },
  {
   "cell_type": "markdown",
   "metadata": {},
   "source": [
    "모두 계산해보는 비효율적인 방법으로 O(n^2)"
   ]
  },
  {
   "cell_type": "markdown",
   "metadata": {},
   "source": [
    "# 저점과 현재 값의 차이 계산"
   ]
  },
  {
   "cell_type": "code",
   "execution_count": 6,
   "metadata": {
    "ExecuteTime": {
     "end_time": "2021-07-23T08:35:18.393402Z",
     "start_time": "2021-07-23T08:35:18.381211Z"
    }
   },
   "outputs": [],
   "source": [
    "def maxProfit(prices: List[int]) -> int:\n",
    "    max_profit = 0\n",
    "    min_price = sys.maxsize\n",
    "    \n",
    "    for price in prices:\n",
    "        min_price = min(min_price, price)\n",
    "        max_profit = max(price - min_price, max_profit)\n",
    "        \n",
    "    return max_profit"
   ]
  },
  {
   "cell_type": "code",
   "execution_count": 7,
   "metadata": {
    "ExecuteTime": {
     "end_time": "2021-07-23T08:35:18.413742Z",
     "start_time": "2021-07-23T08:35:18.404200Z"
    }
   },
   "outputs": [
    {
     "data": {
      "text/plain": [
       "5"
      ]
     },
     "execution_count": 7,
     "metadata": {},
     "output_type": "execute_result"
    }
   ],
   "source": [
    "maxProfit(prices1)"
   ]
  },
  {
   "cell_type": "code",
   "execution_count": 8,
   "metadata": {
    "ExecuteTime": {
     "end_time": "2021-07-23T08:35:18.430234Z",
     "start_time": "2021-07-23T08:35:18.420325Z"
    }
   },
   "outputs": [
    {
     "data": {
      "text/plain": [
       "0"
      ]
     },
     "execution_count": 8,
     "metadata": {},
     "output_type": "execute_result"
    }
   ],
   "source": [
    "maxProfit(prices2)"
   ]
  },
  {
   "cell_type": "markdown",
   "metadata": {},
   "source": [
    "최소 가격을 저장하는 변수와 최대 이익을 저장하는 변수를 만들어 주어 O(n)으로 끝내는 알고리즘이다. <br>\n",
    "알고리즘 문제를 풀 때 최댓값과 최솟값 변수는 보통 시스템 최솟값이나 최댓값으로 초기화시켜두는 것이 향후 들어오는 값들과 비교할 때 오류가 날 확률이 적다. 여기서는 sys.maxsize로 시스템 최댓값을 최소 가격 변수에 주어 어떤 가격이 들어오든 그 가격보다 크도록 주었다. 문제에서 보통 테스트 케이스의 범위를 주는데 시스템 최댓값이 아닌 문제에서 준 가격의 최댓값인 10의 4승을 사용해도 될 것이다. 그러나 일반적으로 임의의 값을 주는 것은 지양한다."
   ]
  },
  {
   "cell_type": "markdown",
   "metadata": {},
   "source": [
    "**sys.maxsize**, **sys.maxsize**, **float('inf')**, **float('-inf')** <br>\n",
    "파이썬에서는 위처럼 시스템 최댓값 혹은 무한대를 사용한다. 매우 크거나 매우 작은 임의의 숫자를 집어 넣는 경우는 파이썬의 numeric 자료형이 **임의 정밀도 Arbitarary-Precision**를 지원하여 사실상 무한대로 값이 늘어날 수 있기 때문에 더 큰 값이 들어와도 교체 되지 않을 수 있다. 그렇게 때문에 최대, 최솟값 변수에 임의의 수를 지정하는 것은 지양해야 한다."
   ]
  }
 ],
 "metadata": {
  "kernelspec": {
   "display_name": "Python 3",
   "language": "python",
   "name": "python3"
  },
  "language_info": {
   "codemirror_mode": {
    "name": "ipython",
    "version": 3
   },
   "file_extension": ".py",
   "mimetype": "text/x-python",
   "name": "python",
   "nbconvert_exporter": "python",
   "pygments_lexer": "ipython3",
   "version": "3.7.1"
  },
  "toc": {
   "base_numbering": 1,
   "nav_menu": {},
   "number_sections": true,
   "sideBar": true,
   "skip_h1_title": false,
   "title_cell": "Table of Contents",
   "title_sidebar": "Contents",
   "toc_cell": false,
   "toc_position": {},
   "toc_section_display": true,
   "toc_window_display": false
  }
 },
 "nbformat": 4,
 "nbformat_minor": 2
}
