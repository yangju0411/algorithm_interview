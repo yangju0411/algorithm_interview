{
 "cells": [
  {
   "cell_type": "markdown",
   "metadata": {},
   "source": [
    "리트코드 두 수의 합: https://leetcode.com/problems/two-sum/"
   ]
  },
  {
   "cell_type": "code",
   "execution_count": 1,
   "metadata": {
    "ExecuteTime": {
     "end_time": "2021-06-24T08:28:50.080440Z",
     "start_time": "2021-06-24T08:28:50.072674Z"
    }
   },
   "outputs": [],
   "source": [
    "import collections\n",
    "import heapq\n",
    "import functools\n",
    "import itertools\n",
    "import re\n",
    "import sys\n",
    "import math\n",
    "import bisect\n",
    "from typing import *"
   ]
  },
  {
   "cell_type": "code",
   "execution_count": 2,
   "metadata": {
    "ExecuteTime": {
     "end_time": "2021-06-24T08:28:50.096067Z",
     "start_time": "2021-06-24T08:28:50.085706Z"
    }
   },
   "outputs": [],
   "source": [
    "nums1 = [2,7,11,15]\n",
    "target1 = 9"
   ]
  },
  {
   "cell_type": "code",
   "execution_count": 3,
   "metadata": {
    "ExecuteTime": {
     "end_time": "2021-06-24T08:28:50.117213Z",
     "start_time": "2021-06-24T08:28:50.103241Z"
    }
   },
   "outputs": [],
   "source": [
    "nums2 = [3,2,4]\n",
    "target2 = 6"
   ]
  },
  {
   "cell_type": "markdown",
   "metadata": {},
   "source": [
    "#  브루트 포스로 계산"
   ]
  },
  {
   "cell_type": "code",
   "execution_count": 4,
   "metadata": {
    "ExecuteTime": {
     "end_time": "2021-06-24T08:28:50.132090Z",
     "start_time": "2021-06-24T08:28:50.122697Z"
    }
   },
   "outputs": [],
   "source": [
    "def twoSum(nums: List[int], target: int) -> List[int]:\n",
    "    for i in range(len(nums)):\n",
    "        for j in range(i + 1, len(nums)):\n",
    "            if nums[i] + nums[j] == target:\n",
    "                return [i, j]"
   ]
  },
  {
   "cell_type": "code",
   "execution_count": 5,
   "metadata": {
    "ExecuteTime": {
     "end_time": "2021-06-24T08:28:50.163859Z",
     "start_time": "2021-06-24T08:28:50.138248Z"
    }
   },
   "outputs": [
    {
     "data": {
      "text/plain": [
       "[0, 1]"
      ]
     },
     "execution_count": 5,
     "metadata": {},
     "output_type": "execute_result"
    }
   ],
   "source": [
    "twoSum(nums1, target1)"
   ]
  },
  {
   "cell_type": "code",
   "execution_count": 6,
   "metadata": {
    "ExecuteTime": {
     "end_time": "2021-06-24T08:28:50.182712Z",
     "start_time": "2021-06-24T08:28:50.168262Z"
    }
   },
   "outputs": [
    {
     "data": {
      "text/plain": [
       "[1, 2]"
      ]
     },
     "execution_count": 6,
     "metadata": {},
     "output_type": "execute_result"
    }
   ],
   "source": [
    "twoSum(nums2, target2)"
   ]
  },
  {
   "cell_type": "markdown",
   "metadata": {},
   "source": [
    "모든 가능한 수를 다 더해보는 방법으로 이 경우 시간 복잡도는 O(n^2)이다. 브루트 포싱보다 더 효율적인 방법을 찾아본다."
   ]
  },
  {
   "cell_type": "markdown",
   "metadata": {},
   "source": [
    "# in을 이용한 탐색 "
   ]
  },
  {
   "cell_type": "code",
   "execution_count": 7,
   "metadata": {
    "ExecuteTime": {
     "end_time": "2021-06-24T08:28:50.199693Z",
     "start_time": "2021-06-24T08:28:50.186868Z"
    }
   },
   "outputs": [],
   "source": [
    "def twoSum(nums: List[int], target: int) -> List[int]:\n",
    "    for i, n in enumerate(nums):\n",
    "        complement = target - n\n",
    "        \n",
    "        if complement in nums[i + 1:]:\n",
    "            return [i, nums[i + 1:].index(complement) + (i + 1)]"
   ]
  },
  {
   "cell_type": "code",
   "execution_count": 8,
   "metadata": {
    "ExecuteTime": {
     "end_time": "2021-06-24T08:28:50.219332Z",
     "start_time": "2021-06-24T08:28:50.211301Z"
    }
   },
   "outputs": [
    {
     "name": "stdout",
     "output_type": "stream",
     "text": [
      "[0, 1]\n",
      "[1, 2]\n"
     ]
    }
   ],
   "source": [
    "print(twoSum(nums1, target1))\n",
    "print(twoSum(nums2, target2))"
   ]
  },
  {
   "cell_type": "markdown",
   "metadata": {},
   "source": [
    "첫 수를 target에서 뺀 것이 첫 수를 제외한 배열에 존재하는지 in 연산자를 통해 확인해주는 방법이다. in 연산자의 시간 복잡도도 O(n)이라 브루트 포싱 방법과 똑같이 O(n^2)이지만 이쪽이 더 빠르다고 한다. <br>\n",
    "enumerate에 리스트를 넣으면 (인덱스, 원소)의 튜플을 반환해준다. <br>\n",
    "리스트의 index() 메서드는 찾는 값을 넣어주면 해당 원소의 위치를 반환하여 준다."
   ]
  },
  {
   "cell_type": "markdown",
   "metadata": {},
   "source": [
    "# 딕셔너리 사용하여 첫 수를 뺀 결과를 키로 조회 "
   ]
  },
  {
   "cell_type": "code",
   "execution_count": 9,
   "metadata": {
    "ExecuteTime": {
     "end_time": "2021-06-24T08:28:50.243711Z",
     "start_time": "2021-06-24T08:28:50.226547Z"
    }
   },
   "outputs": [],
   "source": [
    "def twoSum(nums: List[int], target: int) -> List[int]:\n",
    "    nums_map = {}\n",
    "    \n",
    "    for i, n in enumerate(nums):\n",
    "        nums_map[n] = i\n",
    "        \n",
    "    for i, n in enumerate(nums):\n",
    "        if target - n in nums_map and i != nums_map[target - n]:\n",
    "            return [i, nums_map[target - n]]"
   ]
  },
  {
   "cell_type": "code",
   "execution_count": 10,
   "metadata": {
    "ExecuteTime": {
     "end_time": "2021-06-24T08:28:50.259859Z",
     "start_time": "2021-06-24T08:28:50.248186Z"
    }
   },
   "outputs": [
    {
     "name": "stdout",
     "output_type": "stream",
     "text": [
      "[0, 1]\n",
      "[1, 2]\n",
      "[0, 1]\n"
     ]
    }
   ],
   "source": [
    "print(twoSum(nums1, target1))\n",
    "print(twoSum(nums2, target2))\n",
    "print(twoSum([3, 3], 6))"
   ]
  },
  {
   "cell_type": "markdown",
   "metadata": {},
   "source": [
    "수를 key 인덱스를 value로 미리 딕셔너리를 만들어준 후 타겟에서 첫 수를 뺀 값을 반복에서 조회한다. <br>\n",
    "딕셔너리의 조회는 O(1)이므로 이 방법은 O(n)이 된다. "
   ]
  },
  {
   "cell_type": "markdown",
   "metadata": {},
   "source": [
    "# 3번째 방법에서 딕셔너리 조회 구조 개선"
   ]
  },
  {
   "cell_type": "code",
   "execution_count": 11,
   "metadata": {
    "ExecuteTime": {
     "end_time": "2021-06-24T08:28:50.276429Z",
     "start_time": "2021-06-24T08:28:50.266068Z"
    }
   },
   "outputs": [],
   "source": [
    "def twoSum(nums: List[int], target: int) -> List[int]:\n",
    "    nums_map = {}\n",
    "    \n",
    "    for i, n in enumerate(nums):\n",
    "        if target - n in nums_map:\n",
    "            return [nums_map[target - n], i]\n",
    "        nums_map[n] = i"
   ]
  },
  {
   "cell_type": "code",
   "execution_count": 12,
   "metadata": {
    "ExecuteTime": {
     "end_time": "2021-06-24T08:28:50.294820Z",
     "start_time": "2021-06-24T08:28:50.281843Z"
    }
   },
   "outputs": [
    {
     "name": "stdout",
     "output_type": "stream",
     "text": [
      "[0, 1]\n",
      "[1, 2]\n",
      "[0, 1]\n"
     ]
    }
   ],
   "source": [
    "print(twoSum(nums1, target1))\n",
    "print(twoSum(nums2, target2))\n",
    "print(twoSum([3, 3], 6))"
   ]
  },
  {
   "cell_type": "markdown",
   "metadata": {},
   "source": [
    "전체를 모두 저장하지 말고 정답을 찾았을 때 바로 함수를 빠져 나오는 방식으로 개선함. 딱히 성능 향상은 없지만 코드는 간결해짐. <br>\n",
    "이전에 들어간 값을 찾는 코드라 3번째 방법과는 return할 때 순서가 달라짐."
   ]
  }
 ],
 "metadata": {
  "kernelspec": {
   "display_name": "Python 3",
   "language": "python",
   "name": "python3"
  },
  "language_info": {
   "codemirror_mode": {
    "name": "ipython",
    "version": 3
   },
   "file_extension": ".py",
   "mimetype": "text/x-python",
   "name": "python",
   "nbconvert_exporter": "python",
   "pygments_lexer": "ipython3",
   "version": "3.7.1"
  },
  "toc": {
   "base_numbering": 1,
   "nav_menu": {},
   "number_sections": true,
   "sideBar": true,
   "skip_h1_title": false,
   "title_cell": "Table of Contents",
   "title_sidebar": "Contents",
   "toc_cell": false,
   "toc_position": {},
   "toc_section_display": true,
   "toc_window_display": false
  }
 },
 "nbformat": 4,
 "nbformat_minor": 2
}
