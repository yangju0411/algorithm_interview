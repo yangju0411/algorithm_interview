{
 "cells": [
  {
   "cell_type": "markdown",
   "metadata": {},
   "source": [
    "리트코드 문자열 뒤집기: https://leetcode.com/problems/reverse-string/"
   ]
  },
  {
   "cell_type": "code",
   "execution_count": 1,
   "metadata": {
    "ExecuteTime": {
     "end_time": "2021-06-21T07:27:42.361711Z",
     "start_time": "2021-06-21T07:27:42.354767Z"
    }
   },
   "outputs": [],
   "source": [
    "import collections\n",
    "import heapq\n",
    "import functools\n",
    "import itertools\n",
    "import re\n",
    "import sys\n",
    "import math\n",
    "import bisect\n",
    "from typing import *"
   ]
  },
  {
   "cell_type": "code",
   "execution_count": 2,
   "metadata": {
    "ExecuteTime": {
     "end_time": "2021-06-21T07:28:11.634689Z",
     "start_time": "2021-06-21T07:28:11.629298Z"
    }
   },
   "outputs": [],
   "source": [
    "str1 = [\"h\",\"e\",\"l\",\"l\",\"o\"]\n",
    "str2 = [\"H\",\"a\",\"n\",\"n\",\"a\",\"h\"]"
   ]
  },
  {
   "cell_type": "markdown",
   "metadata": {},
   "source": [
    "# 투 포인터를 이용한 스왑"
   ]
  },
  {
   "cell_type": "code",
   "execution_count": 3,
   "metadata": {
    "ExecuteTime": {
     "end_time": "2021-06-21T07:31:02.852929Z",
     "start_time": "2021-06-21T07:31:02.845874Z"
    }
   },
   "outputs": [],
   "source": [
    "# 책 풀이\n",
    "def reverseString(s: List[str]) -> None:\n",
    "    left, right = 0, len(s) - 1\n",
    "    while left < right:\n",
    "        s[left], s[right] = s[right], s[left]\n",
    "        left += 1\n",
    "        right -= 1"
   ]
  },
  {
   "cell_type": "code",
   "execution_count": 4,
   "metadata": {
    "ExecuteTime": {
     "end_time": "2021-06-21T07:31:36.087394Z",
     "start_time": "2021-06-21T07:31:36.076825Z"
    }
   },
   "outputs": [
    {
     "data": {
      "text/plain": [
       "['o', 'l', 'l', 'e', 'h']"
      ]
     },
     "execution_count": 4,
     "metadata": {},
     "output_type": "execute_result"
    }
   ],
   "source": [
    "s = str1[:]\n",
    "reverseString(s)\n",
    "s"
   ]
  },
  {
   "cell_type": "code",
   "execution_count": 5,
   "metadata": {
    "ExecuteTime": {
     "end_time": "2021-06-21T07:31:45.237691Z",
     "start_time": "2021-06-21T07:31:45.229827Z"
    }
   },
   "outputs": [
    {
     "data": {
      "text/plain": [
       "['h', 'a', 'n', 'n', 'a', 'H']"
      ]
     },
     "execution_count": 5,
     "metadata": {},
     "output_type": "execute_result"
    }
   ],
   "source": [
    "s = str2[:]\n",
    "reverseString(s)\n",
    "s"
   ]
  },
  {
   "cell_type": "markdown",
   "metadata": {},
   "source": [
    "리턴 값 없이 리스트 내부를 직접 조작하는 함수를 작성해야 하는 문제이다. <br>\n",
    "두 가지 위치를 가리키는 left, right 포인터를 이용해 서로의 값을 스왑하는 방식이다. <br>\n",
    "c언어나 자바였으면 스왑할 때 임시 저장 변수를 만들어 바꿔줬겠지만 파이썬에서는 **s[left], s[right] = s[right], s[left]** 같이 간단하게 두 개를 바꿔주는 코드를 짤 수 있다."
   ]
  },
  {
   "cell_type": "markdown",
   "metadata": {},
   "source": [
    "#  파이썬스러운 방식 pythonic way"
   ]
  },
  {
   "cell_type": "code",
   "execution_count": 6,
   "metadata": {
    "ExecuteTime": {
     "end_time": "2021-06-21T07:35:17.255612Z",
     "start_time": "2021-06-21T07:35:17.250362Z"
    }
   },
   "outputs": [],
   "source": [
    "def reverseString(s: List[str]) -> None:\n",
    "    s.reverse()"
   ]
  },
  {
   "cell_type": "code",
   "execution_count": 7,
   "metadata": {
    "ExecuteTime": {
     "end_time": "2021-06-21T07:35:21.332828Z",
     "start_time": "2021-06-21T07:35:21.325209Z"
    }
   },
   "outputs": [
    {
     "data": {
      "text/plain": [
       "['o', 'l', 'l', 'e', 'h']"
      ]
     },
     "execution_count": 7,
     "metadata": {},
     "output_type": "execute_result"
    }
   ],
   "source": [
    "s = str1[:]\n",
    "reverseString(s)\n",
    "s"
   ]
  },
  {
   "cell_type": "code",
   "execution_count": 8,
   "metadata": {
    "ExecuteTime": {
     "end_time": "2021-06-21T07:35:24.904181Z",
     "start_time": "2021-06-21T07:35:24.894678Z"
    }
   },
   "outputs": [
    {
     "data": {
      "text/plain": [
       "['h', 'a', 'n', 'n', 'a', 'H']"
      ]
     },
     "execution_count": 8,
     "metadata": {},
     "output_type": "execute_result"
    }
   ],
   "source": [
    "s = str2[:]\n",
    "reverseString(s)\n",
    "s"
   ]
  },
  {
   "cell_type": "markdown",
   "metadata": {},
   "source": [
    "파이썬 자체에서 원소 순서를 역으로 뒤집는 reverse() 메서드를 지원한다."
   ]
  },
  {
   "cell_type": "markdown",
   "metadata": {},
   "source": [
    "# 회문에서 사용한 슬라이싱 "
   ]
  },
  {
   "cell_type": "code",
   "execution_count": 19,
   "metadata": {
    "ExecuteTime": {
     "end_time": "2021-06-21T08:29:15.257851Z",
     "start_time": "2021-06-21T08:29:15.251316Z"
    }
   },
   "outputs": [],
   "source": [
    "## 맞는 답\n",
    "def reverseString(s: List[str]) -> None:\n",
    "    s[:] = s[::-1]"
   ]
  },
  {
   "cell_type": "code",
   "execution_count": 18,
   "metadata": {
    "ExecuteTime": {
     "end_time": "2021-06-21T08:28:20.110109Z",
     "start_time": "2021-06-21T08:28:20.101555Z"
    },
    "scrolled": true
   },
   "outputs": [
    {
     "data": {
      "text/plain": [
       "['o', 'l', 'l', 'e', 'h']"
      ]
     },
     "execution_count": 18,
     "metadata": {},
     "output_type": "execute_result"
    }
   ],
   "source": [
    "s = str1[:]\n",
    "reverseString(s)\n",
    "s"
   ]
  },
  {
   "cell_type": "code",
   "execution_count": 20,
   "metadata": {
    "ExecuteTime": {
     "end_time": "2021-06-21T08:29:34.725010Z",
     "start_time": "2021-06-21T08:29:34.718856Z"
    }
   },
   "outputs": [],
   "source": [
    "# 틀린 답안\n",
    "def reverseString(s: List[str]) -> None:\n",
    "    s = s[::-1]\n",
    "    print(s)"
   ]
  },
  {
   "cell_type": "code",
   "execution_count": 21,
   "metadata": {
    "ExecuteTime": {
     "end_time": "2021-06-21T08:29:42.344133Z",
     "start_time": "2021-06-21T08:29:42.334188Z"
    }
   },
   "outputs": [
    {
     "name": "stdout",
     "output_type": "stream",
     "text": [
      "['o', 'l', 'l', 'e', 'h']\n"
     ]
    },
    {
     "data": {
      "text/plain": [
       "['h', 'e', 'l', 'l', 'o']"
      ]
     },
     "execution_count": 21,
     "metadata": {},
     "output_type": "execute_result"
    }
   ],
   "source": [
    "s = str1[:]\n",
    "reverseString(s)\n",
    "s"
   ]
  },
  {
   "cell_type": "markdown",
   "metadata": {},
   "source": [
    "파이썬은 콜바이레퍼런스로 함수가 적용되기 때문에 **s = s[::-1]** 로 작성하면 제대로 적용되지 않는다. <br>\n",
    "그 경우는 함수 내부의 매개변수 s가 가리키는 참조가 기존의 전달받은 인자인 str1 리스트에서 뒤집어진 리스트로 바뀔 뿐이고 str1 자체가 가리키는 리스트의 변화는 없다. <br>\n",
    "그러나 s를 가지고 인덱싱이나 슬라이싱의 조작을 활용하여 리스트 내부의 값을 변경해준다면 제대로 반영이 된다.<br>\n",
    "그래서 **s[:] = s[::-1]** 로 해준 것이다."
   ]
  }
 ],
 "metadata": {
  "kernelspec": {
   "display_name": "Python 3",
   "language": "python",
   "name": "python3"
  },
  "language_info": {
   "codemirror_mode": {
    "name": "ipython",
    "version": 3
   },
   "file_extension": ".py",
   "mimetype": "text/x-python",
   "name": "python",
   "nbconvert_exporter": "python",
   "pygments_lexer": "ipython3",
   "version": "3.7.1"
  },
  "toc": {
   "base_numbering": 1,
   "nav_menu": {},
   "number_sections": true,
   "sideBar": true,
   "skip_h1_title": false,
   "title_cell": "Table of Contents",
   "title_sidebar": "Contents",
   "toc_cell": false,
   "toc_position": {},
   "toc_section_display": true,
   "toc_window_display": false
  }
 },
 "nbformat": 4,
 "nbformat_minor": 2
}
