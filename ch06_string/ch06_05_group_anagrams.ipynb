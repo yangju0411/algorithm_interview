{
 "cells": [
  {
   "cell_type": "markdown",
   "metadata": {},
   "source": [
    "리트코드 가장 흔한 단어: https://leetcode.com/problems/group-anagrams/"
   ]
  },
  {
   "cell_type": "code",
   "execution_count": 12,
   "metadata": {
    "ExecuteTime": {
     "end_time": "2021-06-23T13:59:42.969510Z",
     "start_time": "2021-06-23T13:59:42.963611Z"
    }
   },
   "outputs": [],
   "source": [
    "import collections\n",
    "import heapq\n",
    "import functools\n",
    "import itertools\n",
    "import re\n",
    "import sys\n",
    "import math\n",
    "import bisect\n",
    "from typing import *"
   ]
  },
  {
   "cell_type": "code",
   "execution_count": 13,
   "metadata": {
    "ExecuteTime": {
     "end_time": "2021-06-23T13:59:43.335800Z",
     "start_time": "2021-06-23T13:59:43.330848Z"
    }
   },
   "outputs": [],
   "source": [
    "strs1 = [\"eat\",\"tea\",\"tan\",\"ate\",\"nat\",\"bat\"]\n",
    "strs2 = [\"\"]"
   ]
  },
  {
   "cell_type": "markdown",
   "metadata": {},
   "source": [
    "# 정렬하여 딕셔너리에 추가"
   ]
  },
  {
   "cell_type": "code",
   "execution_count": 14,
   "metadata": {
    "ExecuteTime": {
     "end_time": "2021-06-23T13:59:43.738437Z",
     "start_time": "2021-06-23T13:59:43.730891Z"
    }
   },
   "outputs": [],
   "source": [
    " def groupAnagrams(strs: List[str]) -> List[List[str]]:\n",
    "        anagrams = collections.defaultdict(list)\n",
    "        for word in strs:\n",
    "            anagrams[\"\".join(sorted(word))].append(word)\n",
    "        \n",
    "        return list(anagrams.values())"
   ]
  },
  {
   "cell_type": "code",
   "execution_count": 16,
   "metadata": {
    "ExecuteTime": {
     "end_time": "2021-06-23T13:59:49.723329Z",
     "start_time": "2021-06-23T13:59:49.715501Z"
    }
   },
   "outputs": [
    {
     "data": {
      "text/plain": [
       "[['eat', 'tea', 'ate'], ['tan', 'nat'], ['bat']]"
      ]
     },
     "execution_count": 16,
     "metadata": {},
     "output_type": "execute_result"
    }
   ],
   "source": [
    "groupAnagrams(strs1)"
   ]
  },
  {
   "cell_type": "code",
   "execution_count": 17,
   "metadata": {
    "ExecuteTime": {
     "end_time": "2021-06-23T13:59:57.379609Z",
     "start_time": "2021-06-23T13:59:57.372075Z"
    }
   },
   "outputs": [
    {
     "data": {
      "text/plain": [
       "[['']]"
      ]
     },
     "execution_count": 17,
     "metadata": {},
     "output_type": "execute_result"
    }
   ],
   "source": [
    "groupAnagrams(strs2)"
   ]
  },
  {
   "cell_type": "markdown",
   "metadata": {},
   "source": [
    "아나그램은 문자를 재정렬하는 말장난이다. <br>\n",
    "여기서는 동일한 문자의 서로 다른 아나그램들을 하나로 묶어 리스트로 반환하는 문제이다. <br>\n",
    "따라서 문자열 내부의 문자들을 정렬하여 같은 문자열이 나오는 것들을 묶어준다. <br>\n",
    "defaultdict()로 초기값이 리스트인 dictionary를 생성하고 사전적으로 정렬한 문자열을 key로 하여 같은 문자들을 value의 list에 추가해준다.\n",
    "이 때 정렬은 파이썬의 sorted 함수를 사용하는데 이는 내부적으로 tim sort라는 정렬 알고리즘이 사용되어 매우 효율적이다. <br>\n",
    "최종적으로는 사전의 value인 list들만 다시 list로 묶어서 반환해준다."
   ]
  },
  {
   "cell_type": "markdown",
   "metadata": {},
   "source": [
    "sorted 함수는 정렬된 것을 리스트로 반환하기 때문에 \"\".join()을 통해 다시 문자열로 묶어줘야 한다. \"구분자\".join()은 구분자를 넣어 묶어주는데 위의 코드에선 공백을 구분자로 하였다."
   ]
  },
  {
   "cell_type": "markdown",
   "metadata": {},
   "source": [
    "## 파이썬의 여러가지 정렬 방법"
   ]
  },
  {
   "cell_type": "markdown",
   "metadata": {},
   "source": [
    "### sorted 함수"
   ]
  },
  {
   "cell_type": "markdown",
   "metadata": {},
   "source": [
    "sorted 함수는 주어진 것을 복사하여 정렬한 것을 반환한다. 리스트 자체를 정렬하진 않는다."
   ]
  },
  {
   "cell_type": "code",
   "execution_count": 20,
   "metadata": {
    "ExecuteTime": {
     "end_time": "2021-06-23T14:18:13.820698Z",
     "start_time": "2021-06-23T14:18:13.812230Z"
    }
   },
   "outputs": [
    {
     "name": "stdout",
     "output_type": "stream",
     "text": [
      "[1, 2, 4, 5, 11]\n",
      "[1, 11, 4, 5, 2]\n"
     ]
    }
   ],
   "source": [
    "l = [1, 11, 4, 5, 2]\n",
    "print(sorted(l))\n",
    "print(l)"
   ]
  },
  {
   "cell_type": "markdown",
   "metadata": {},
   "source": [
    "sorted 함수는 key 인자를 통해 정렬 기준을 선택할 수 있다."
   ]
  },
  {
   "cell_type": "code",
   "execution_count": 27,
   "metadata": {
    "ExecuteTime": {
     "end_time": "2021-06-23T14:21:57.921318Z",
     "start_time": "2021-06-23T14:21:57.916427Z"
    }
   },
   "outputs": [],
   "source": [
    "strs = [\"aaaaa\",\"bbbb\",\"cc\",\"a\",\"dd\",\"ssss\"]"
   ]
  },
  {
   "cell_type": "code",
   "execution_count": 28,
   "metadata": {
    "ExecuteTime": {
     "end_time": "2021-06-23T14:22:13.980284Z",
     "start_time": "2021-06-23T14:22:13.972697Z"
    }
   },
   "outputs": [
    {
     "data": {
      "text/plain": [
       "['a', 'cc', 'dd', 'bbbb', 'ssss', 'aaaaa']"
      ]
     },
     "execution_count": 28,
     "metadata": {},
     "output_type": "execute_result"
    }
   ],
   "source": [
    "sorted(strs, key = len)"
   ]
  },
  {
   "cell_type": "markdown",
   "metadata": {},
   "source": [
    "len() 함수를 통해 정렬 기준을 문자열의 길이로 하였다. 람다 함수 등으로 응용이 가능하다."
   ]
  },
  {
   "cell_type": "markdown",
   "metadata": {},
   "source": [
    "### 리스트의 sort() 메소드 "
   ]
  },
  {
   "cell_type": "code",
   "execution_count": 24,
   "metadata": {
    "ExecuteTime": {
     "end_time": "2021-06-23T14:19:49.185389Z",
     "start_time": "2021-06-23T14:19:49.180422Z"
    }
   },
   "outputs": [],
   "source": [
    "l = [1, 11, 4, 5, 2]"
   ]
  },
  {
   "cell_type": "code",
   "execution_count": 25,
   "metadata": {
    "ExecuteTime": {
     "end_time": "2021-06-23T14:19:49.531165Z",
     "start_time": "2021-06-23T14:19:49.524082Z"
    }
   },
   "outputs": [
    {
     "name": "stdout",
     "output_type": "stream",
     "text": [
      "None\n"
     ]
    }
   ],
   "source": [
    "l = l.sort()\n",
    "print(l)"
   ]
  },
  {
   "cell_type": "markdown",
   "metadata": {},
   "source": [
    "리스트의 sort() 메서드는 정렬한 리스트를 반환하는 것이 아닌 해당 객체 그 자체를 정렬 시킨다."
   ]
  },
  {
   "cell_type": "code",
   "execution_count": 26,
   "metadata": {
    "ExecuteTime": {
     "end_time": "2021-06-23T14:20:41.315591Z",
     "start_time": "2021-06-23T14:20:41.308291Z"
    }
   },
   "outputs": [
    {
     "name": "stdout",
     "output_type": "stream",
     "text": [
      "[1, 2, 4, 5, 11]\n"
     ]
    }
   ],
   "source": [
    "l = [1, 11, 4, 5, 2]\n",
    "l.sort()\n",
    "print(l)"
   ]
  }
 ],
 "metadata": {
  "kernelspec": {
   "display_name": "Python 3",
   "language": "python",
   "name": "python3"
  },
  "language_info": {
   "codemirror_mode": {
    "name": "ipython",
    "version": 3
   },
   "file_extension": ".py",
   "mimetype": "text/x-python",
   "name": "python",
   "nbconvert_exporter": "python",
   "pygments_lexer": "ipython3",
   "version": "3.7.1"
  },
  "toc": {
   "base_numbering": 1,
   "nav_menu": {},
   "number_sections": true,
   "sideBar": true,
   "skip_h1_title": false,
   "title_cell": "Table of Contents",
   "title_sidebar": "Contents",
   "toc_cell": false,
   "toc_position": {},
   "toc_section_display": true,
   "toc_window_display": false
  }
 },
 "nbformat": 4,
 "nbformat_minor": 2
}
