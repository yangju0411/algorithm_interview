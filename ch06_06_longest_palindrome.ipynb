{
 "cells": [
  {
   "cell_type": "markdown",
   "metadata": {},
   "source": [
    "리트코드 가장 긴 팰린드롬 부분 문자열 https://leetcode.com/problems/longest-palindromic-substring/"
   ]
  },
  {
   "cell_type": "code",
   "execution_count": 1,
   "metadata": {
    "ExecuteTime": {
     "end_time": "2021-06-24T07:24:49.830253Z",
     "start_time": "2021-06-24T07:24:49.822509Z"
    }
   },
   "outputs": [],
   "source": [
    "import collections\n",
    "import heapq\n",
    "import functools\n",
    "import itertools\n",
    "import re\n",
    "import sys\n",
    "import math\n",
    "import bisect\n",
    "from typing import *"
   ]
  },
  {
   "cell_type": "code",
   "execution_count": 2,
   "metadata": {
    "ExecuteTime": {
     "end_time": "2021-06-24T07:24:49.844675Z",
     "start_time": "2021-06-24T07:24:49.834939Z"
    }
   },
   "outputs": [],
   "source": [
    "s1 = \"babad\"\n",
    "s2 = \"cbbd\"\n",
    "s3 = \"a\"\n",
    "s4 = \"ac\""
   ]
  },
  {
   "cell_type": "markdown",
   "metadata": {},
   "source": [
    "# 중앙으로부터 확장하는 풀이"
   ]
  },
  {
   "cell_type": "code",
   "execution_count": 3,
   "metadata": {
    "ExecuteTime": {
     "end_time": "2021-06-24T07:24:49.877297Z",
     "start_time": "2021-06-24T07:24:49.850388Z"
    }
   },
   "outputs": [],
   "source": [
    "def longestPalindrome(s: str) -> str:\n",
    "    def expand(left: int, right: int) -> str:\n",
    "        while left >= 0 and right < len(s) and s[left] == s[right]:\n",
    "            left -= 1\n",
    "            right += 1\n",
    "        return s[left + 1:right]\n",
    "    \n",
    "    if len(s) < 2 or s == s[::-1]:\n",
    "        return s\n",
    "    \n",
    "    result = \"\"\n",
    "    \n",
    "    for i in range(len(s) - 1):\n",
    "        result = max(result, expand(i, i + 1), expand(i, i + 2), key = len)\n",
    "        \n",
    "    return result"
   ]
  },
  {
   "cell_type": "code",
   "execution_count": 4,
   "metadata": {
    "ExecuteTime": {
     "end_time": "2021-06-24T07:24:49.900039Z",
     "start_time": "2021-06-24T07:24:49.883029Z"
    }
   },
   "outputs": [
    {
     "name": "stdout",
     "output_type": "stream",
     "text": [
      "bab\n",
      "bb\n",
      "a\n",
      "c\n"
     ]
    }
   ],
   "source": [
    "print(longestPalindrome(s1))\n",
    "print(longestPalindrome(s2))\n",
    "print(longestPalindrome(s3))\n",
    "print(longestPalindrome(s4))"
   ]
  },
  {
   "cell_type": "markdown",
   "metadata": {},
   "source": [
    "# 유니코드와 가변문자"
   ]
  },
  {
   "cell_type": "markdown",
   "metadata": {},
   "source": [
    "아스키코드는 1바이트로 한글, 한문 등을 표현하기 불편하므로 2, 4바이트의 유니코드를 사용함. <br>\n",
    "그러나 고정된 길이로는 1바이트로 표현 가능한 영문자도 그 이상의 공간을 잡아먹으므로 가변 인코딩 UTF-8이 등장함. <br>\n",
    "파이썬은 내부에서 유니코드를 사용하며 UTF-8을 사용하지 않음. <br>\n",
    "이유는 인덱싱, 슬라이싱을 하기 적합하지 않기 때문이며 대신 문자열마다 다른 고정 길이 인코딩 방식을 사용함. <br>\n",
    "모든 문자열이 아스키 코드 범위 내에 있으면 Latin-1(1바이트) <br>\n",
    "대부분의 문자열은 UCS-2(2바이트) <br>\n",
    "특수 기호, 그림 이모티콘, 희귀 언어 등은 UCS-4(4 바이트) 사용"
   ]
  }
 ],
 "metadata": {
  "kernelspec": {
   "display_name": "Python 3",
   "language": "python",
   "name": "python3"
  },
  "language_info": {
   "codemirror_mode": {
    "name": "ipython",
    "version": 3
   },
   "file_extension": ".py",
   "mimetype": "text/x-python",
   "name": "python",
   "nbconvert_exporter": "python",
   "pygments_lexer": "ipython3",
   "version": "3.7.1"
  },
  "toc": {
   "base_numbering": 1,
   "nav_menu": {},
   "number_sections": true,
   "sideBar": true,
   "skip_h1_title": false,
   "title_cell": "Table of Contents",
   "title_sidebar": "Contents",
   "toc_cell": false,
   "toc_position": {},
   "toc_section_display": true,
   "toc_window_display": false
  }
 },
 "nbformat": 4,
 "nbformat_minor": 2
}
