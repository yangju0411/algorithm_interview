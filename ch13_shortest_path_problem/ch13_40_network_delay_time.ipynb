{
 "cells": [
  {
   "cell_type": "markdown",
   "metadata": {},
   "source": [
    "리트코드 네트워크 딜레이 타임: https://leetcode.com/problems/network-delay-time/"
   ]
  },
  {
   "cell_type": "code",
   "execution_count": 1,
   "metadata": {},
   "outputs": [],
   "source": [
    "import collections\n",
    "import heapq\n",
    "import functools\n",
    "import itertools\n",
    "import re\n",
    "import sys\n",
    "import math\n",
    "import bisect\n",
    "from typing import *"
   ]
  },
  {
   "cell_type": "code",
   "execution_count": 2,
   "metadata": {},
   "outputs": [],
   "source": [
    "times = [[2,1,1],[2,3,1],[3,4,1]]\n",
    "n = 4\n",
    "k = 2"
   ]
  },
  {
   "cell_type": "markdown",
   "metadata": {},
   "source": [
    "times는 [출발노드, 도착노드, 소요시간(비용)]으로 구성됨. <br>\n",
    "k번 노드부터 출발해서 모든 노드에 신호가 연결 될 수 있는 시간을 계산한다. 모든 노드의 연결이 불가능한 경우 -1을 리턴한다."
   ]
  },
  {
   "cell_type": "markdown",
   "metadata": {},
   "source": [
    "# 다익스트라 알고리즘 구현 "
   ]
  },
  {
   "cell_type": "code",
   "execution_count": 7,
   "metadata": {},
   "outputs": [],
   "source": [
    "def networkDelayTime(times: List[List[int]], n: int, k: int) -> int:\n",
    "    graph = collections.defaultdict(list)\n",
    "    # 그래프 인접 리스트 구성\n",
    "    for u, v, w in times:\n",
    "        graph[u].append((v, w))\n",
    "        \n",
    "    #큐 변수: [(소요 시간, 정점)]\n",
    "    Q = [(0, k)] # 시작점 쌍 저장\n",
    "    dist = collections.defaultdict(int)\n",
    "    \n",
    "    # 우선 순위 큐 최솟값 기준으로 정점까지 최단 경로 삽입\n",
    "    while Q:\n",
    "        time, node = heapq.heappop(Q)\n",
    "        if node not in dist:\n",
    "            dist[node] = time\n",
    "            for v, w in graph[node]:\n",
    "                alt = time + w\n",
    "                heapq.heappush(Q, (alt, v))\n",
    "                \n",
    "    # 모든 노드의 최단 경로 존재 여부 판별\n",
    "    if len(dist) == n:\n",
    "        return max(dist.values())\n",
    "    return -1"
   ]
  },
  {
   "cell_type": "code",
   "execution_count": 8,
   "metadata": {},
   "outputs": [
    {
     "data": {
      "text/plain": [
       "2"
      ]
     },
     "execution_count": 8,
     "metadata": {},
     "output_type": "execute_result"
    }
   ],
   "source": [
    "networkDelayTime(times, n, k)"
   ]
  },
  {
   "cell_type": "markdown",
   "metadata": {},
   "source": [
    "다익스트라의 최단 경로 알고리즘은 한 노드에서 다른 한 노드까지의 최단 경로를 찾는 알고리즘이다. <br>\n",
    "노드에서 노드까지의 이동에서 최소 비용을 갖는 경로를 선택한다. <br>\n",
    "한 노드를 방문했을 때 해당 노드에서 갈 수 있는 노드와 그 비용을 우선순위 큐(Q)에 저장하면 빠르게 최소 비용으로 갈 수 있는 노드를 꺼낼 수 있다. <br>\n",
    "탐색을 마치고 k 노드에서 다른 노드로 이동하는데 소모되는 비용이 저장된 dist 딕셔너리의 키의 수가 n과 같다면 모든 노드가 연결되었으므로 max() 함수를 이용하여 거리가 가장 먼 노드까지의 비용을 꺼내면 모든 노드를 순회하는 비용을 얻을 수 있다. <br>\n",
    "같지 않을 경우에는 모든 노드가 연결되지 않았으므로 -1을 반환한다."
   ]
  }
 ],
 "metadata": {
  "kernelspec": {
   "display_name": "Python 3",
   "language": "python",
   "name": "python3"
  },
  "language_info": {
   "codemirror_mode": {
    "name": "ipython",
    "version": 3
   },
   "file_extension": ".py",
   "mimetype": "text/x-python",
   "name": "python",
   "nbconvert_exporter": "python",
   "pygments_lexer": "ipython3",
   "version": "3.7.6"
  },
  "latex_envs": {
   "LaTeX_envs_menu_present": true,
   "autoclose": false,
   "autocomplete": true,
   "bibliofile": "biblio.bib",
   "cite_by": "apalike",
   "current_citInitial": 1,
   "eqLabelWithNumbers": true,
   "eqNumInitial": 1,
   "hotkeys": {
    "equation": "Ctrl-E",
    "itemize": "Ctrl-I"
   },
   "labels_anchors": false,
   "latex_user_defs": false,
   "report_style_numbering": false,
   "user_envs_cfg": false
  },
  "toc": {
   "base_numbering": 1,
   "nav_menu": {},
   "number_sections": true,
   "sideBar": true,
   "skip_h1_title": false,
   "title_cell": "Table of Contents",
   "title_sidebar": "Contents",
   "toc_cell": false,
   "toc_position": {},
   "toc_section_display": true,
   "toc_window_display": false
  }
 },
 "nbformat": 4,
 "nbformat_minor": 4
}
