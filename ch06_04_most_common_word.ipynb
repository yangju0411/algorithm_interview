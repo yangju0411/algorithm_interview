{
 "cells": [
  {
   "cell_type": "markdown",
   "metadata": {},
   "source": [
    "리트코드 가장 흔한 단어: https://leetcode.com/problems/most-common-word/"
   ]
  },
  {
   "cell_type": "code",
   "execution_count": 1,
   "metadata": {
    "ExecuteTime": {
     "end_time": "2021-06-23T10:07:18.373008Z",
     "start_time": "2021-06-23T10:07:18.366319Z"
    }
   },
   "outputs": [],
   "source": [
    "import collections\n",
    "import heapq\n",
    "import functools\n",
    "import itertools\n",
    "import re\n",
    "import sys\n",
    "import math\n",
    "import bisect\n",
    "from typing import *"
   ]
  },
  {
   "cell_type": "code",
   "execution_count": 2,
   "metadata": {
    "ExecuteTime": {
     "end_time": "2021-06-23T10:07:18.725467Z",
     "start_time": "2021-06-23T10:07:18.719912Z"
    }
   },
   "outputs": [],
   "source": [
    "paragraph1 = \"Bob hit a ball, the hit BALL flew far after it was hit. it's nor my ball.\"\n",
    "banned1 = [\"hit\"]\n",
    "paragraph2 = \"a.\"\n",
    "banned2 = []"
   ]
  },
  {
   "cell_type": "markdown",
   "metadata": {},
   "source": [
    "# 리스트 컴프리헨션, Counter 객체 사용 "
   ]
  },
  {
   "cell_type": "code",
   "execution_count": 9,
   "metadata": {
    "ExecuteTime": {
     "end_time": "2021-06-23T10:31:03.350397Z",
     "start_time": "2021-06-23T10:31:03.340634Z"
    }
   },
   "outputs": [],
   "source": [
    "def mostCommonWord(paragraph: str, banned: List[str]) -> str:\n",
    "    words = [word for word in re.sub(\"[^\\w]\", \" \", paragraph).lower().split() if word not in banned]\n",
    "    \n",
    "    counts = collections.Counter(words)\n",
    "    return counts.most_common(1)[0][0]"
   ]
  },
  {
   "cell_type": "code",
   "execution_count": 11,
   "metadata": {
    "ExecuteTime": {
     "end_time": "2021-06-23T10:31:28.504492Z",
     "start_time": "2021-06-23T10:31:28.496894Z"
    }
   },
   "outputs": [
    {
     "data": {
      "text/plain": [
       "'ball'"
      ]
     },
     "execution_count": 11,
     "metadata": {},
     "output_type": "execute_result"
    }
   ],
   "source": [
    "mostCommonWord(paragraph1, banned1)"
   ]
  },
  {
   "cell_type": "code",
   "execution_count": 12,
   "metadata": {
    "ExecuteTime": {
     "end_time": "2021-06-23T10:31:31.984579Z",
     "start_time": "2021-06-23T10:31:31.976328Z"
    }
   },
   "outputs": [
    {
     "data": {
      "text/plain": [
       "'a'"
      ]
     },
     "execution_count": 12,
     "metadata": {},
     "output_type": "execute_result"
    }
   ],
   "source": [
    "mostCommonWord(paragraph2, banned2)"
   ]
  },
  {
   "cell_type": "markdown",
   "metadata": {},
   "source": [
    "문장에서 사용된 단어 중 가장 많이 사용된 단어를 뽑는 문제이다. 단어에 대소문자 구분은 없으며 단어는 소문자로 추출한다. ban이 된 단어는 세지 않는다.<br>"
   ]
  },
  {
   "cell_type": "markdown",
   "metadata": {},
   "source": [
    "먼저 word들을 split해주고 정규표현식을 통해 단어 문자가 아닌 것들은 공백으로 변환해준다. <br>\n",
    "정규표현식 [^\\w]는 문자가 아닌 것들을 찾는다. <br>\n",
    "리스트 컴프리헨션으로 단어들의 리스트를 생성해주는데 if 조건을 추가해 ban이 된 단어는 넣지 않는다."
   ]
  },
  {
   "cell_type": "markdown",
   "metadata": {},
   "source": [
    "## collections의 Counter"
   ]
  },
  {
   "cell_type": "markdown",
   "metadata": {},
   "source": [
    "collections 모듈의 Counter 클래스 객체는 입력받은 리스트의 구성요소들의 unique한 개수를 세어 개수가 많은 순서대로 딕셔너리에 저장한 것을 반환해준다. <br>\n",
    "Counter 클래스의 most_common() 메서드를 사용하면 빈도 수가 높은 순으로 원소와 개수의 튜플로 묶어 저장한 리스트를 반환한다. 이 때 인자로 숫자를 넣어주면 해당 순위의 빈도수를 가진 것들이 반환된다. <br>\n",
    "[(원소, 개수), (원소, 개수), ...] 형태이므로 [0][0] 인덱싱을 통해 가장 빈도수가 높은 원소(단어)를 추출한다."
   ]
  }
 ],
 "metadata": {
  "kernelspec": {
   "display_name": "Python 3",
   "language": "python",
   "name": "python3"
  },
  "language_info": {
   "codemirror_mode": {
    "name": "ipython",
    "version": 3
   },
   "file_extension": ".py",
   "mimetype": "text/x-python",
   "name": "python",
   "nbconvert_exporter": "python",
   "pygments_lexer": "ipython3",
   "version": "3.7.1"
  },
  "toc": {
   "base_numbering": 1,
   "nav_menu": {},
   "number_sections": true,
   "sideBar": true,
   "skip_h1_title": false,
   "title_cell": "Table of Contents",
   "title_sidebar": "Contents",
   "toc_cell": false,
   "toc_position": {},
   "toc_section_display": true,
   "toc_window_display": false
  }
 },
 "nbformat": 4,
 "nbformat_minor": 2
}
