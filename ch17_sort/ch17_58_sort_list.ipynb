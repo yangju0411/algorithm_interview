{
 "cells": [
  {
   "cell_type": "markdown",
   "metadata": {},
   "source": [
    "리트코드 리스트 정렬: https://leetcode.com/problems/sort-list/"
   ]
  },
  {
   "cell_type": "code",
   "execution_count": 1,
   "metadata": {},
   "outputs": [],
   "source": [
    "import collections\n",
    "import heapq\n",
    "import functools\n",
    "import itertools\n",
    "import re\n",
    "import sys\n",
    "import math\n",
    "import bisect\n",
    "from typing import *"
   ]
  },
  {
   "cell_type": "code",
   "execution_count": 2,
   "metadata": {},
   "outputs": [],
   "source": [
    "class ListNode:\n",
    "     def __init__(self, val=0, next=None):\n",
    "         self.val = val\n",
    "         self.next = next"
   ]
  },
  {
   "cell_type": "code",
   "execution_count": 3,
   "metadata": {},
   "outputs": [],
   "source": [
    "def toLinkedList(list: List):\n",
    "    cur = root = ListNode()\n",
    "    for i in list:\n",
    "        cur.next = ListNode(i)\n",
    "        cur = cur.next\n",
    "    return root.next\n",
    "\n",
    "def toList(head: ListNode):\n",
    "    node = head\n",
    "    result = []\n",
    "    while node:\n",
    "        result.append(node.val)\n",
    "        node = node.next\n",
    "    return result"
   ]
  },
  {
   "cell_type": "code",
   "execution_count": 4,
   "metadata": {},
   "outputs": [
    {
     "data": {
      "text/plain": [
       "[4, 2, 1, 3]"
      ]
     },
     "execution_count": 4,
     "metadata": {},
     "output_type": "execute_result"
    }
   ],
   "source": [
    "head = [4,2,1,3]\n",
    "head = toLinkedList(head)\n",
    "toList(head)"
   ]
  },
  {
   "cell_type": "markdown",
   "metadata": {},
   "source": [
    "O(nlogn)의 복잡도로 연결 리스트를 정렬하는 문제"
   ]
  },
  {
   "cell_type": "markdown",
   "metadata": {},
   "source": [
    "# 병합 정렬"
   ]
  },
  {
   "cell_type": "code",
   "execution_count": 5,
   "metadata": {},
   "outputs": [],
   "source": [
    "def mergeTwoLists(l1: ListNode, l2: ListNode) -> ListNode:\n",
    "    if l1 and l2:\n",
    "        if l1.val > l2.val:\n",
    "            l1, l2 = l2, l1\n",
    "        l1.next = mergeTwoLists(l1.next, l2)\n",
    "    return l1 or l2\n",
    "\n",
    "def sortList(head: Optional[ListNode]) -> Optional[ListNode]:\n",
    "    if not (head and head.next):\n",
    "        return head\n",
    "    \n",
    "    # 런너 기법 활용하여 반을 분할\n",
    "    half, slow, fast = None, head, head\n",
    "    while fast and fast.next:\n",
    "        half, slow, fast = slow, slow.next, fast.next.next\n",
    "    half.next = None # 절반 지점에서 노드 간 연결을 끊어주어 반을 분할\n",
    "    \n",
    "    # 분할 재귀호출\n",
    "    l1 = sortList(head)\n",
    "    l2 = sortList(slow)\n",
    "    \n",
    "    return mergeTwoLists(l1, l2)"
   ]
  },
  {
   "cell_type": "code",
   "execution_count": 6,
   "metadata": {},
   "outputs": [
    {
     "data": {
      "text/plain": [
       "[1, 2, 3, 4]"
      ]
     },
     "execution_count": 6,
     "metadata": {},
     "output_type": "execute_result"
    }
   ],
   "source": [
    "toList(sortList(head))"
   ]
  },
  {
   "cell_type": "markdown",
   "metadata": {},
   "source": [
    "O(nlogn)의 복잡도 제한이 걸려 있기 때문에 O(n^2)의 복잡도를 갖는 버블 정렬 등의 정렬은 사용할 수 없다. <br>\n",
    "따라서 병합 정렬을 사용한다. <br>\n",
    "연결 리스트의 병합 정렬에서 걸리는 부분은 전체 크기와 분할할 지점을 알기 어렵다는 것이다. <br>\n",
    "런너 기법을 활용하여 분할할 절반 지점을 구하며 병합정렬을 수행한다."
   ]
  },
  {
   "cell_type": "markdown",
   "metadata": {},
   "source": [
    "# 파이썬 리스트로 변경하고 내장 함수로 정렬"
   ]
  },
  {
   "cell_type": "code",
   "execution_count": 7,
   "metadata": {},
   "outputs": [],
   "source": [
    "head = [4,2,1,3]\n",
    "head = toLinkedList(head)"
   ]
  },
  {
   "cell_type": "code",
   "execution_count": 8,
   "metadata": {},
   "outputs": [],
   "source": [
    "def sortList(head: Optional[ListNode]) -> Optional[ListNode]:\n",
    "    list = []\n",
    "    cur = head\n",
    "    while cur:\n",
    "        list.append(cur.val)\n",
    "        cur = cur.next\n",
    "\n",
    "    list.sort()\n",
    "\n",
    "    cur = head\n",
    "    for i in list:\n",
    "        cur.val, cur = i, cur.next\n",
    "\n",
    "    return head"
   ]
  },
  {
   "cell_type": "code",
   "execution_count": 9,
   "metadata": {},
   "outputs": [
    {
     "data": {
      "text/plain": [
       "[1, 2, 3, 4]"
      ]
     },
     "execution_count": 9,
     "metadata": {},
     "output_type": "execute_result"
    }
   ],
   "source": [
    "toList(sortList(head))"
   ]
  },
  {
   "cell_type": "markdown",
   "metadata": {},
   "source": [
    "연결 리스트를 파이썬 리스트로 변경하여 내장 함수로 정렬하는 것이 리트코드에 제출했을 때 직접 정렬하는 것보다 훨씬 빠른 실행 속도가 나온다. <br>\n",
    "연결 리스트 -> 파이썬 리스트 -> 연결 리스트로 변환하는 절차가 추가되었는데도 말이다. <br>\n",
    "만약 코테에서 별도의 제약 사항이 없다면 변환의 리스크를 고려하며 이런 방법을 써보는 것도 나쁘지 않을 것이다."
   ]
  }
 ],
 "metadata": {
  "kernelspec": {
   "display_name": "Python 3",
   "language": "python",
   "name": "python3"
  },
  "language_info": {
   "codemirror_mode": {
    "name": "ipython",
    "version": 3
   },
   "file_extension": ".py",
   "mimetype": "text/x-python",
   "name": "python",
   "nbconvert_exporter": "python",
   "pygments_lexer": "ipython3",
   "version": "3.7.6"
  },
  "latex_envs": {
   "LaTeX_envs_menu_present": true,
   "autoclose": false,
   "autocomplete": true,
   "bibliofile": "biblio.bib",
   "cite_by": "apalike",
   "current_citInitial": 1,
   "eqLabelWithNumbers": true,
   "eqNumInitial": 1,
   "hotkeys": {
    "equation": "Ctrl-E",
    "itemize": "Ctrl-I"
   },
   "labels_anchors": false,
   "latex_user_defs": false,
   "report_style_numbering": false,
   "user_envs_cfg": false
  },
  "toc": {
   "base_numbering": 1,
   "nav_menu": {},
   "number_sections": true,
   "sideBar": true,
   "skip_h1_title": false,
   "title_cell": "Table of Contents",
   "title_sidebar": "Contents",
   "toc_cell": false,
   "toc_position": {},
   "toc_section_display": true,
   "toc_window_display": false
  }
 },
 "nbformat": 4,
 "nbformat_minor": 4
}
