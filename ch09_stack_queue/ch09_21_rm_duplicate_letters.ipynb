{
 "cells": [
  {
   "cell_type": "markdown",
   "metadata": {},
   "source": [
    "리트코드 중복 문자 제거: https://leetcode.com/problems/remove-duplicate-letters/"
   ]
  },
  {
   "cell_type": "code",
   "execution_count": 1,
   "metadata": {
    "ExecuteTime": {
     "end_time": "2021-08-03T07:23:30.557644Z",
     "start_time": "2021-08-03T07:23:30.550312Z"
    }
   },
   "outputs": [],
   "source": [
    "import collections\n",
    "import heapq\n",
    "import functools\n",
    "import itertools\n",
    "import re\n",
    "import sys\n",
    "import math\n",
    "import bisect\n",
    "from typing import *"
   ]
  },
  {
   "cell_type": "code",
   "execution_count": 2,
   "metadata": {
    "ExecuteTime": {
     "end_time": "2021-08-03T07:23:30.939727Z",
     "start_time": "2021-08-03T07:23:30.934723Z"
    }
   },
   "outputs": [],
   "source": [
    "s1 = \"bcabc\"\n",
    "s2 = \"cbacdcbc\""
   ]
  },
  {
   "cell_type": "markdown",
   "metadata": {},
   "source": [
    "중복된 문자를 제거하고 사전 순으로 정렬해야 하는 문제이다. <br>\n",
    "위치를 움직여 정렬할 수 있는 것은 아니고 중복 문자를 제거하면서 사전 순으로 정렬해야 하는 것이다."
   ]
  },
  {
   "cell_type": "markdown",
   "metadata": {},
   "source": [
    "# 재귀"
   ]
  },
  {
   "cell_type": "code",
   "execution_count": 3,
   "metadata": {
    "ExecuteTime": {
     "end_time": "2021-08-03T07:23:31.870504Z",
     "start_time": "2021-08-03T07:23:31.862782Z"
    }
   },
   "outputs": [],
   "source": [
    "def removeDuplicateLetters(s: str) -> str:\n",
    "    for char in sorted(set(s)): # 중복 제거 후 정렬\n",
    "        suffix = s[s.index(char):]\n",
    "        # 전체 집합과 접미사 집합이 일치할 때 분리 진행\n",
    "        if set(s) == set(suffix):\n",
    "            return char + removeDuplicateLetters(suffix.replace(char, ''))\n",
    "    return ''"
   ]
  },
  {
   "cell_type": "code",
   "execution_count": 4,
   "metadata": {
    "ExecuteTime": {
     "end_time": "2021-08-03T07:23:32.160893Z",
     "start_time": "2021-08-03T07:23:32.150679Z"
    }
   },
   "outputs": [
    {
     "data": {
      "text/plain": [
       "'abc'"
      ]
     },
     "execution_count": 4,
     "metadata": {},
     "output_type": "execute_result"
    }
   ],
   "source": [
    "removeDuplicateLetters(s1)"
   ]
  },
  {
   "cell_type": "code",
   "execution_count": 5,
   "metadata": {
    "ExecuteTime": {
     "end_time": "2021-08-03T07:23:32.470494Z",
     "start_time": "2021-08-03T07:23:32.462494Z"
    }
   },
   "outputs": [
    {
     "data": {
      "text/plain": [
       "'acdb'"
      ]
     },
     "execution_count": 5,
     "metadata": {},
     "output_type": "execute_result"
    }
   ],
   "source": [
    "removeDuplicateLetters(s2)"
   ]
  },
  {
   "cell_type": "markdown",
   "metadata": {},
   "source": [
    "**set()**: 집합 자료구조로 변경해주는 함수이다. 집합 자료구조는 중복과 순서가 없다. 여기서는 중복을 없애기 위해 set을 사용하였고 sorted함수를 통해 사전순서대로 정렬하였다."
   ]
  },
  {
   "cell_type": "markdown",
   "metadata": {},
   "source": [
    "**str.index(char)**: 문자열에서 문자의 인덱스를 찾는 메소드이다. 중복된 경우에는 가장 처음으로 나오는 = 최소의 인덱스를 반환한다. 리스트나 부분 문자열 따위 등에 응용 가능하다."
   ]
  },
  {
   "cell_type": "markdown",
   "metadata": {},
   "source": [
    "suffix는 접미사라는 뜻으로 여기서는 해당 문자의 첫 등장 위치부터 시작하는 부분 문자열이다. ex) \"cbacdcbc\"의 'a'의 suffix는 \"acdcbc\"<br>\n",
    "전체 문자열의 집합과 suffix 문자열의 집합을 비교하여 일치하면 suffix를 분리하여 재귀한다. 일치하지 않으면 분리할 수 없으므로 다음 순서로 넘긴다. 일종의 분할 정복으로 계속 suffix로 쪼개어 나가 결국 재귀를 마치고 백트래킹 되어 결과가 조합된다."
   ]
  },
  {
   "cell_type": "markdown",
   "metadata": {},
   "source": [
    "# 스택을 이용한 문자 제거"
   ]
  },
  {
   "cell_type": "code",
   "execution_count": 6,
   "metadata": {
    "ExecuteTime": {
     "end_time": "2021-08-03T07:31:42.719326Z",
     "start_time": "2021-08-03T07:31:42.709139Z"
    }
   },
   "outputs": [],
   "source": [
    "def removeDuplicateLetters(s: str) -> str:\n",
    "    counter, seen, stack = collections.Counter(s), set(), []\n",
    "    \n",
    "    for char in s:\n",
    "        counter[char] -= 1 # 카운트를 하나 줄임\n",
    "        if char in seen: # 이미 처리되었다면 다음 문자로 넘김\n",
    "            continue\n",
    "        # 뒤에 붙일 문자가 남아 있다면 스택에서 제거\n",
    "        while stack and char < stack[-1] and counter[stack[-1]] > 0:\n",
    "            seen.remove(stack.pop())\n",
    "        stack.append(char)\n",
    "        seen.add(char)\n",
    "        \n",
    "    return ''.join(stack)"
   ]
  },
  {
   "cell_type": "code",
   "execution_count": 7,
   "metadata": {
    "ExecuteTime": {
     "end_time": "2021-08-03T07:31:48.359348Z",
     "start_time": "2021-08-03T07:31:48.351322Z"
    }
   },
   "outputs": [
    {
     "data": {
      "text/plain": [
       "'abc'"
      ]
     },
     "execution_count": 7,
     "metadata": {},
     "output_type": "execute_result"
    }
   ],
   "source": [
    "removeDuplicateLetters(s1)"
   ]
  },
  {
   "cell_type": "code",
   "execution_count": 8,
   "metadata": {
    "ExecuteTime": {
     "end_time": "2021-08-03T07:31:52.135766Z",
     "start_time": "2021-08-03T07:31:52.128081Z"
    }
   },
   "outputs": [
    {
     "data": {
      "text/plain": [
       "'acdb'"
      ]
     },
     "execution_count": 8,
     "metadata": {},
     "output_type": "execute_result"
    }
   ],
   "source": [
    "removeDuplicateLetters(s2)"
   ]
  },
  {
   "cell_type": "markdown",
   "metadata": {},
   "source": [
    "counter는 문자의 빈도를 저장해두어 해당 문자를 만날 때마다 카운트를 하나씩 줄여 나감 <br>\n",
    "seen은 이미 처리한 문자인지 여부를 확인하기 위한 집합 자료형"
   ]
  },
  {
   "cell_type": "markdown",
   "metadata": {},
   "source": [
    "스택에 삽입된 문자와 현재 반복의 문자를 사전 순으로 비교하여 현재 문자가 사전순으로 앞에 있고 스택에 있는 문자가 뒤에 같은 문자가 남아 있어 뒤에 붙여줄 수 있다는 것을 카운트가 0 이상인 것을 통해 확인 한다면 스택을 pop한다. <br>\n",
    "이 때 seen에서도 제거해주어 스택에서 제거된 문자가 아직 처리되지 않았음을 알려 뒤에서 조건문에 걸리지 않게 한다. <br>\n",
    "작업을 마치면 스택을 문자열로 만든다."
   ]
  }
 ],
 "metadata": {
  "kernelspec": {
   "display_name": "Python 3",
   "language": "python",
   "name": "python3"
  },
  "language_info": {
   "codemirror_mode": {
    "name": "ipython",
    "version": 3
   },
   "file_extension": ".py",
   "mimetype": "text/x-python",
   "name": "python",
   "nbconvert_exporter": "python",
   "pygments_lexer": "ipython3",
   "version": "3.7.1"
  },
  "toc": {
   "base_numbering": 1,
   "nav_menu": {},
   "number_sections": true,
   "sideBar": true,
   "skip_h1_title": false,
   "title_cell": "Table of Contents",
   "title_sidebar": "Contents",
   "toc_cell": false,
   "toc_position": {},
   "toc_section_display": true,
   "toc_window_display": false
  }
 },
 "nbformat": 4,
 "nbformat_minor": 2
}
