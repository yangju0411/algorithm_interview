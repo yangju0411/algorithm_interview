{
 "cells": [
  {
   "cell_type": "markdown",
   "metadata": {},
   "source": [
    "리트코드 큐를 이용한 스택 구현: https://leetcode.com/problems/implement-stack-using-queues/"
   ]
  },
  {
   "cell_type": "code",
   "execution_count": 1,
   "metadata": {
    "ExecuteTime": {
     "end_time": "2021-08-03T13:17:23.207581Z",
     "start_time": "2021-08-03T13:17:23.201686Z"
    }
   },
   "outputs": [],
   "source": [
    "import collections\n",
    "import heapq\n",
    "import functools\n",
    "import itertools\n",
    "import re\n",
    "import sys\n",
    "import math\n",
    "import bisect\n",
    "from typing import *"
   ]
  },
  {
   "cell_type": "markdown",
   "metadata": {},
   "source": [
    "# 큐 Queue"
   ]
  },
  {
   "cell_type": "markdown",
   "metadata": {},
   "source": [
    "큐란 시퀀스의 한쪽 끝에는 엔티티를 추가하고, 반대쪽 끝에서는 제거하는 엔티티 컬렉션이다. FIFO(First-In-First-Out)으로 처리되며 줄 서는 것에 비유된다."
   ]
  },
  {
   "cell_type": "markdown",
   "metadata": {},
   "source": [
    "Deque나 우선순위 큐 같은 변형이 존재하며 BFS나 캐시 등을 구현할 때도 사용된다."
   ]
  },
  {
   "cell_type": "markdown",
   "metadata": {},
   "source": [
    "파이썬의 queue 모듈은 자료구조로서의 큐보다는 동기화 기능에 집중된 모듈로 큐 자료구조를 구현할 때는 큐의 모든 연산을 가진 파이썬 리스트나 양방향 삽입 삭제에 O(1)의 복잡도를 갖는 deque를 사용한다고 한다."
   ]
  },
  {
   "cell_type": "markdown",
   "metadata": {},
   "source": [
    "# push()할 때 큐를 이용해 재정렬"
   ]
  },
  {
   "cell_type": "code",
   "execution_count": 2,
   "metadata": {
    "ExecuteTime": {
     "end_time": "2021-08-03T13:17:23.234049Z",
     "start_time": "2021-08-03T13:17:23.219960Z"
    }
   },
   "outputs": [],
   "source": [
    "class MyStack:\n",
    "\n",
    "    def __init__(self):\n",
    "        self.q = collections.deque() # deque를 이용해 큐 자료구조 사용\n",
    "        \n",
    "\n",
    "    def push(self, x: int) -> None:\n",
    "        self.q.append(x)\n",
    "        # 요소를 재정렬\n",
    "        for _ in range(len(self.q) - 1):\n",
    "            self.q.append(self.q.popleft())\n",
    "\n",
    "    def pop(self) -> int:\n",
    "        return self.q.popleft()\n",
    "\n",
    "    def top(self) -> int:\n",
    "        return self.q[0]\n",
    "\n",
    "    def empty(self) -> bool:\n",
    "        return len(self.q) == 0"
   ]
  },
  {
   "cell_type": "code",
   "execution_count": 3,
   "metadata": {
    "ExecuteTime": {
     "end_time": "2021-08-03T13:17:23.248308Z",
     "start_time": "2021-08-03T13:17:23.239748Z"
    }
   },
   "outputs": [],
   "source": [
    "obj = MyStack()"
   ]
  },
  {
   "cell_type": "code",
   "execution_count": 4,
   "metadata": {
    "ExecuteTime": {
     "end_time": "2021-08-03T13:17:23.262134Z",
     "start_time": "2021-08-03T13:17:23.253638Z"
    }
   },
   "outputs": [],
   "source": [
    "obj.push(1)"
   ]
  },
  {
   "cell_type": "code",
   "execution_count": 5,
   "metadata": {
    "ExecuteTime": {
     "end_time": "2021-08-03T13:17:23.277952Z",
     "start_time": "2021-08-03T13:17:23.267560Z"
    }
   },
   "outputs": [],
   "source": [
    "obj.push(2)"
   ]
  },
  {
   "cell_type": "code",
   "execution_count": 6,
   "metadata": {
    "ExecuteTime": {
     "end_time": "2021-08-03T13:17:23.303240Z",
     "start_time": "2021-08-03T13:17:23.282689Z"
    }
   },
   "outputs": [
    {
     "data": {
      "text/plain": [
       "2"
      ]
     },
     "execution_count": 6,
     "metadata": {},
     "output_type": "execute_result"
    }
   ],
   "source": [
    "obj.top()"
   ]
  },
  {
   "cell_type": "code",
   "execution_count": 7,
   "metadata": {
    "ExecuteTime": {
     "end_time": "2021-08-03T13:17:23.316432Z",
     "start_time": "2021-08-03T13:17:23.307664Z"
    }
   },
   "outputs": [
    {
     "data": {
      "text/plain": [
       "2"
      ]
     },
     "execution_count": 7,
     "metadata": {},
     "output_type": "execute_result"
    }
   ],
   "source": [
    "obj.pop()"
   ]
  },
  {
   "cell_type": "code",
   "execution_count": 8,
   "metadata": {
    "ExecuteTime": {
     "end_time": "2021-08-03T13:17:23.349700Z",
     "start_time": "2021-08-03T13:17:23.320362Z"
    }
   },
   "outputs": [
    {
     "data": {
      "text/plain": [
       "False"
      ]
     },
     "execution_count": 8,
     "metadata": {},
     "output_type": "execute_result"
    }
   ],
   "source": [
    "obj.empty()"
   ]
  },
  {
   "cell_type": "markdown",
   "metadata": {},
   "source": [
    "deque를 큐로 이용하여 스택을 구현했다. <br>\n",
    "push 연산을 구현할 때 큐에 재정렬을 가해주면 스택을 쉽게 구현할 수 있다. <br>\n",
    "책에서는 큐의 연산만을 사용하여 구현할 것이라고 하는데 책에서 쓴 방법도 popleft가 들어가 결국 deque에 맞춰진 것 아닌가 싶었다. pop만 사용하거나 직접 queue를 구현해본 결과 저자가 의도한 것은 결국 한 방향으로만 들어왔다 나갔다 하는 것으로 설정한 방향의 차이인 것을 깨달았다."
   ]
  },
  {
   "cell_type": "markdown",
   "metadata": {},
   "source": [
    "## pop으로 써보기"
   ]
  },
  {
   "cell_type": "code",
   "execution_count": 9,
   "metadata": {
    "ExecuteTime": {
     "end_time": "2021-08-03T13:17:23.371331Z",
     "start_time": "2021-08-03T13:17:23.355776Z"
    }
   },
   "outputs": [],
   "source": [
    "# pop만 쓰기\n",
    "class MyStack:\n",
    "\n",
    "    def __init__(self):\n",
    "        self.q = collections.deque() # deque를 이용해 큐 자료구조 사용\n",
    "        \n",
    "\n",
    "    def push(self, x: int) -> None:\n",
    "        self.q.append(x)\n",
    "        # 큐에서는 맨 뒤로 요소가 들어가므로 스택에 맞게 맨 앞으로 재정렬\n",
    "        for _ in range(len(self.q) - 1):\n",
    "            self.q.append(self.q.pop())\n",
    "\n",
    "    def pop(self) -> int:\n",
    "        return self.q.pop()\n",
    "\n",
    "    def top(self) -> int:\n",
    "        return self.q[len(self.q) - 1]\n",
    "\n",
    "    def empty(self) -> bool:\n",
    "        return len(self.q) == 0"
   ]
  },
  {
   "cell_type": "code",
   "execution_count": 10,
   "metadata": {
    "ExecuteTime": {
     "end_time": "2021-08-03T13:17:23.386380Z",
     "start_time": "2021-08-03T13:17:23.378111Z"
    }
   },
   "outputs": [],
   "source": [
    "obj = MyStack()"
   ]
  },
  {
   "cell_type": "code",
   "execution_count": 11,
   "metadata": {
    "ExecuteTime": {
     "end_time": "2021-08-03T13:17:23.411584Z",
     "start_time": "2021-08-03T13:17:23.391065Z"
    }
   },
   "outputs": [],
   "source": [
    "obj.push(1)"
   ]
  },
  {
   "cell_type": "code",
   "execution_count": 12,
   "metadata": {
    "ExecuteTime": {
     "end_time": "2021-08-03T13:17:23.424824Z",
     "start_time": "2021-08-03T13:17:23.416616Z"
    }
   },
   "outputs": [],
   "source": [
    "obj.push(2)"
   ]
  },
  {
   "cell_type": "code",
   "execution_count": 13,
   "metadata": {
    "ExecuteTime": {
     "end_time": "2021-08-03T13:17:23.444168Z",
     "start_time": "2021-08-03T13:17:23.431686Z"
    }
   },
   "outputs": [
    {
     "data": {
      "text/plain": [
       "2"
      ]
     },
     "execution_count": 13,
     "metadata": {},
     "output_type": "execute_result"
    }
   ],
   "source": [
    "obj.top()"
   ]
  },
  {
   "cell_type": "code",
   "execution_count": 14,
   "metadata": {
    "ExecuteTime": {
     "end_time": "2021-08-03T13:17:23.461380Z",
     "start_time": "2021-08-03T13:17:23.449611Z"
    }
   },
   "outputs": [
    {
     "data": {
      "text/plain": [
       "2"
      ]
     },
     "execution_count": 14,
     "metadata": {},
     "output_type": "execute_result"
    }
   ],
   "source": [
    "obj.pop()"
   ]
  },
  {
   "cell_type": "code",
   "execution_count": 15,
   "metadata": {
    "ExecuteTime": {
     "end_time": "2021-08-03T13:17:23.476426Z",
     "start_time": "2021-08-03T13:17:23.467286Z"
    }
   },
   "outputs": [
    {
     "data": {
      "text/plain": [
       "False"
      ]
     },
     "execution_count": 15,
     "metadata": {},
     "output_type": "execute_result"
    }
   ],
   "source": [
    "obj.empty()"
   ]
  },
  {
   "cell_type": "markdown",
   "metadata": {},
   "source": [
    "사실 이게 원래 큐 자료구조가 나가는 방향이긴 하다. "
   ]
  },
  {
   "cell_type": "markdown",
   "metadata": {},
   "source": [
    "## 직접 큐 구현하기"
   ]
  },
  {
   "cell_type": "code",
   "execution_count": 16,
   "metadata": {
    "ExecuteTime": {
     "end_time": "2021-08-03T13:17:23.514255Z",
     "start_time": "2021-08-03T13:17:23.481523Z"
    }
   },
   "outputs": [],
   "source": [
    "from typing import Any\n",
    "\n",
    "\n",
    "class Queue:\n",
    "    \n",
    "    def __init__(self, *args: Any):\n",
    "        self.__items: list[Any] = list(args)\n",
    "        self.__size: int = len(self.__items)\n",
    "        \n",
    "    def enqueue(self, item: Any):\n",
    "        self.__items.append(item)\n",
    "        self.__size += 1\n",
    "    \n",
    "    def dequeue(self):\n",
    "        if self.empty():\n",
    "            raise IndexError(\"dequeue from empty queue\")\n",
    "        item: Any = self.__items.pop(0)\n",
    "        self.__size -= 1\n",
    "        return item\n",
    "\n",
    "    def empty(self):\n",
    "        return not self.__size\n",
    "    \n",
    "    def peek(self):\n",
    "        if self.empty():\n",
    "            raise IndexError(\"dequeue from empty queue\")\n",
    "        item: Any = self.__items[0]\n",
    "        return item\n",
    "    \n",
    "    def __str__(self):\n",
    "        return f\"{self.__items}\"\n",
    "    \n",
    "    def __repr__(self):\n",
    "        return f\"{self.__items}\"\n",
    "    \n",
    "    def __len__(self):\n",
    "        return self.__size\n",
    "    \n",
    "    def __iter__(self):\n",
    "        if self.empty():\n",
    "            return None\n",
    "        for item in self.__items:\n",
    "            yield item\n",
    "            \n",
    "class MyStack:\n",
    "\n",
    "    def __init__(self):\n",
    "        self.q = Queue()\n",
    "        \n",
    "\n",
    "    def push(self, x: int) -> None:\n",
    "        self.q.enqueue(x)\n",
    "        # 큐에서는 맨 앞으로 요소가 들어가므로 pop으로 꺼낼 수 있게 맨 뒤로 재정렬\n",
    "        for _ in range(len(self.q) - 1):\n",
    "            self.q.enqueue(self.q.dequeue())\n",
    "\n",
    "    def pop(self) -> int:\n",
    "        return self.q.dequeue()\n",
    "\n",
    "    def top(self) -> int:\n",
    "        return self.q.peek()\n",
    "\n",
    "    def empty(self) -> bool:\n",
    "        return self.q.empty()"
   ]
  },
  {
   "cell_type": "code",
   "execution_count": 17,
   "metadata": {
    "ExecuteTime": {
     "end_time": "2021-08-03T13:17:23.526889Z",
     "start_time": "2021-08-03T13:17:23.520206Z"
    }
   },
   "outputs": [],
   "source": [
    "obj = MyStack()"
   ]
  },
  {
   "cell_type": "code",
   "execution_count": 18,
   "metadata": {
    "ExecuteTime": {
     "end_time": "2021-08-03T13:17:23.544115Z",
     "start_time": "2021-08-03T13:17:23.533886Z"
    }
   },
   "outputs": [],
   "source": [
    "obj.push(1)"
   ]
  },
  {
   "cell_type": "code",
   "execution_count": 19,
   "metadata": {
    "ExecuteTime": {
     "end_time": "2021-08-03T13:17:23.559545Z",
     "start_time": "2021-08-03T13:17:23.549518Z"
    }
   },
   "outputs": [],
   "source": [
    "obj.push(2)"
   ]
  },
  {
   "cell_type": "code",
   "execution_count": 20,
   "metadata": {
    "ExecuteTime": {
     "end_time": "2021-08-03T13:17:23.574637Z",
     "start_time": "2021-08-03T13:17:23.563808Z"
    }
   },
   "outputs": [
    {
     "data": {
      "text/plain": [
       "2"
      ]
     },
     "execution_count": 20,
     "metadata": {},
     "output_type": "execute_result"
    }
   ],
   "source": [
    "obj.top()"
   ]
  },
  {
   "cell_type": "code",
   "execution_count": 21,
   "metadata": {
    "ExecuteTime": {
     "end_time": "2021-08-03T13:17:23.592837Z",
     "start_time": "2021-08-03T13:17:23.578780Z"
    }
   },
   "outputs": [
    {
     "data": {
      "text/plain": [
       "2"
      ]
     },
     "execution_count": 21,
     "metadata": {},
     "output_type": "execute_result"
    }
   ],
   "source": [
    "obj.pop()"
   ]
  },
  {
   "cell_type": "code",
   "execution_count": 22,
   "metadata": {
    "ExecuteTime": {
     "end_time": "2021-08-03T13:17:23.639891Z",
     "start_time": "2021-08-03T13:17:23.597650Z"
    }
   },
   "outputs": [
    {
     "data": {
      "text/plain": [
       "False"
      ]
     },
     "execution_count": 22,
     "metadata": {},
     "output_type": "execute_result"
    }
   ],
   "source": [
    "obj.empty()"
   ]
  },
  {
   "cell_type": "markdown",
   "metadata": {},
   "source": [
    "나무위키에 있는 큐를 구현하여 그것을 이용해 스택을 구현해 보았다. peek 연산이 없길래 직접 구현했다. 큐는 리스트를 사용해 구현되었다. <br>\n",
    "이 풀이를 풀면서 이 알고리즘의 문제를 깨달았는데 파이썬이라서 리스트를 사용했기 때문에 큐 하나를 가지고 재정렬 작업을 할 수 있었다. 그렇지만 실제로 c나 자바 등의 배열을 사용했다면 이 풀이는 불가능하다. 해당 구조를 통해 큐를 구현하면 재정렬 과정에서 양끝을 가리키는 포인터가 만나 큐의 전체적인 용량이 줄어들어 0이 되기 때문이다. 그 언어들로 자료구조들을 배울 때 이 문제의 해결법으로 순환큐를 배웠던 기억이 난다. <br>\n",
    "그래서 다른 언어 풀이를 검색 해보니 사람들은 두 개의 큐 자료구조를 사용하여 그 문제를 해결하였다."
   ]
  }
 ],
 "metadata": {
  "kernelspec": {
   "display_name": "Python 3",
   "language": "python",
   "name": "python3"
  },
  "language_info": {
   "codemirror_mode": {
    "name": "ipython",
    "version": 3
   },
   "file_extension": ".py",
   "mimetype": "text/x-python",
   "name": "python",
   "nbconvert_exporter": "python",
   "pygments_lexer": "ipython3",
   "version": "3.7.1"
  },
  "toc": {
   "base_numbering": 1,
   "nav_menu": {},
   "number_sections": true,
   "sideBar": true,
   "skip_h1_title": false,
   "title_cell": "Table of Contents",
   "title_sidebar": "Contents",
   "toc_cell": false,
   "toc_position": {},
   "toc_section_display": true,
   "toc_window_display": false
  }
 },
 "nbformat": 4,
 "nbformat_minor": 2
}
