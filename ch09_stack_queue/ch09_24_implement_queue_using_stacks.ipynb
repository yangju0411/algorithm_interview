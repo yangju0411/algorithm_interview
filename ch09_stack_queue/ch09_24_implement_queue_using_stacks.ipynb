{
 "cells": [
  {
   "cell_type": "markdown",
   "metadata": {},
   "source": [
    "리트코드 스택을 이용한 큐 구현: https://leetcode.com/problems/implement-queue-using-stacks/"
   ]
  },
  {
   "cell_type": "code",
   "execution_count": 1,
   "metadata": {
    "ExecuteTime": {
     "end_time": "2021-08-03T15:15:07.638366Z",
     "start_time": "2021-08-03T15:15:07.632636Z"
    }
   },
   "outputs": [],
   "source": [
    "import collections\n",
    "import heapq\n",
    "import functools\n",
    "import itertools\n",
    "import re\n",
    "import sys\n",
    "import math\n",
    "import bisect\n",
    "from typing import *"
   ]
  },
  {
   "cell_type": "markdown",
   "metadata": {},
   "source": [
    "# 2개의 스택 사용 "
   ]
  },
  {
   "cell_type": "code",
   "execution_count": 2,
   "metadata": {
    "ExecuteTime": {
     "end_time": "2021-08-03T15:21:41.023616Z",
     "start_time": "2021-08-03T15:21:41.010745Z"
    }
   },
   "outputs": [],
   "source": [
    "class MyQueue:\n",
    "\n",
    "    def __init__(self):\n",
    "        self.input = []\n",
    "        self.output = []\n",
    "        \n",
    "\n",
    "    def push(self, x: int) -> None:\n",
    "        self.input.append(x)\n",
    "        \n",
    "\n",
    "    def pop(self) -> int:\n",
    "        self.peek() # output안에 전부 넣어주는 과정을 위해 peek\n",
    "        return self.output.pop()\n",
    "        \n",
    "\n",
    "    def peek(self) -> int:\n",
    "        # output이 없으면 모두 재입력\n",
    "        if not self.output:\n",
    "            while self.input:\n",
    "                self.output.append(self.input.pop()) # input에 있는 것을 pop하여 output에 넣어주면 거꾸로 쌓임\n",
    "        return self.output[-1]\n",
    "        \n",
    "\n",
    "    def empty(self) -> bool:\n",
    "        return self.input == [] and self.output == []"
   ]
  },
  {
   "cell_type": "markdown",
   "metadata": {},
   "source": [
    "두 개의 스택을 만들어 큐를 구현한다. <br>\n",
    "입력용 스택에 자료를 쌓아두었다가 peek이나 pop(dequeue) 작업 시에 입력용 스택에서 pop을 하여 출력용 스택에 모두 입력해주면 순서가 뒤집히게 되고 출력용 스택에서 pop을 하면 큐의 FIFO를 그대로 구현할 수 있다. <br>\n",
    "입력용 스택에서 출력용 스택으로 뒤집는 과정에서 시간이 많이 소요될 수도 있다고 생각할 수 있으나 분활 상환 분석에 따른 시간 복잡도는 O(1)이라고 한다. 출력용 스택이 비지 않으면 재정렬 작업을 하지 않으니 한 번만 뒤집어도 오래 쓸 수 있다고 생각할 수 있을 것 같다."
   ]
  },
  {
   "cell_type": "markdown",
   "metadata": {},
   "source": [
    "분활 상환 분석: https://hcn1519.github.io/articles/2017-05/amortized_analysis"
   ]
  }
 ],
 "metadata": {
  "kernelspec": {
   "display_name": "Python 3",
   "language": "python",
   "name": "python3"
  },
  "language_info": {
   "codemirror_mode": {
    "name": "ipython",
    "version": 3
   },
   "file_extension": ".py",
   "mimetype": "text/x-python",
   "name": "python",
   "nbconvert_exporter": "python",
   "pygments_lexer": "ipython3",
   "version": "3.7.1"
  },
  "toc": {
   "base_numbering": 1,
   "nav_menu": {},
   "number_sections": true,
   "sideBar": true,
   "skip_h1_title": false,
   "title_cell": "Table of Contents",
   "title_sidebar": "Contents",
   "toc_cell": false,
   "toc_position": {},
   "toc_section_display": true,
   "toc_window_display": false
  }
 },
 "nbformat": 4,
 "nbformat_minor": 2
}
