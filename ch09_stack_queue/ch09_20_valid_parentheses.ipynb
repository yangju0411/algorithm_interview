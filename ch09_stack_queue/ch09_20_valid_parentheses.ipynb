{
 "cells": [
  {
   "cell_type": "markdown",
   "metadata": {},
   "source": [
    "리트코드 유효한 괄호: https://leetcode.com/problems/valid-parentheses/"
   ]
  },
  {
   "cell_type": "code",
   "execution_count": 1,
   "metadata": {
    "ExecuteTime": {
     "end_time": "2021-07-31T09:15:12.159228Z",
     "start_time": "2021-07-31T09:15:12.148860Z"
    }
   },
   "outputs": [],
   "source": [
    "import collections\n",
    "import heapq\n",
    "import functools\n",
    "import itertools\n",
    "import re\n",
    "import sys\n",
    "import math\n",
    "import bisect\n",
    "from typing import *"
   ]
  },
  {
   "cell_type": "code",
   "execution_count": 2,
   "metadata": {
    "ExecuteTime": {
     "end_time": "2021-07-31T09:15:12.191776Z",
     "start_time": "2021-07-31T09:15:12.169954Z"
    }
   },
   "outputs": [],
   "source": [
    "s1 = \"()\"\n",
    "s2 = \"()[]{}\"\n",
    "s3 = \"(]\"\n",
    "s4 = \"([)]\""
   ]
  },
  {
   "cell_type": "markdown",
   "metadata": {},
   "source": [
    "# 스택 일치 여부 판정 "
   ]
  },
  {
   "cell_type": "code",
   "execution_count": 3,
   "metadata": {
    "ExecuteTime": {
     "end_time": "2021-07-31T09:15:12.226862Z",
     "start_time": "2021-07-31T09:15:12.210163Z"
    }
   },
   "outputs": [],
   "source": [
    "def isValid(s: str) -> bool:\n",
    "    stack = []\n",
    "    table = {\n",
    "        ')': '(',\n",
    "        '}': '{',\n",
    "        ']': '['\n",
    "            }\n",
    "    \n",
    "    for char in s:\n",
    "        if char not in table:\n",
    "            stack.append(char) # push\n",
    "        elif not stack or table[char] != stack.pop():\n",
    "            return False\n",
    "    \n",
    "    return len(stack) == 0"
   ]
  },
  {
   "cell_type": "code",
   "execution_count": 4,
   "metadata": {
    "ExecuteTime": {
     "end_time": "2021-07-31T09:15:12.253069Z",
     "start_time": "2021-07-31T09:15:12.235921Z"
    }
   },
   "outputs": [
    {
     "name": "stdout",
     "output_type": "stream",
     "text": [
      "True\n",
      "True\n",
      "False\n",
      "False\n"
     ]
    }
   ],
   "source": [
    "print(isValid(s1))\n",
    "print(isValid(s2))\n",
    "print(isValid(s3))\n",
    "print(isValid(s4))"
   ]
  },
  {
   "cell_type": "markdown",
   "metadata": {},
   "source": [
    "닫는 괄호를 키로 그에 대응하는 여는 괄호를 값으로 한 매핑 테이블을 만든다.<br>\n",
    "이는 딕셔너리 자료구조로 만드는데 in 연산자는 딕셔너리의 '키'에 해당 피연산자가 존재하는지 찾아 T or F를 반환하는 연산자다. 따라서 값에 저장된 여는 괄호가 들어오면 not in에 걸려 스택에 push(여기선 리스트이므로 append)하게 된다. 닫는 괄호는 키에 저장되어 있어 not in에 걸리지 않으므로 elif로 넘어간다. <br>\n",
    "닫는 괄호가 스택을 pop했을 때 나오는 여는 괄호와 일치하면 다음 반복으로 넘어간다. <br>\n",
    "만약 일치하지 않거나 닫는 괄호가 있는데 여는 괄호가 이전에 들어오지 않아 스택이 비어 있으면 False를 반환한다. <br>\n",
    "반복을 마치고 스택이 비었다면 유효한 괄호이므로 T, 스택이 비지 않았다면 여는 괄호만 있고 괄호의 짝이 맞지 않아 F이다."
   ]
  }
 ],
 "metadata": {
  "kernelspec": {
   "display_name": "Python 3",
   "language": "python",
   "name": "python3"
  },
  "language_info": {
   "codemirror_mode": {
    "name": "ipython",
    "version": 3
   },
   "file_extension": ".py",
   "mimetype": "text/x-python",
   "name": "python",
   "nbconvert_exporter": "python",
   "pygments_lexer": "ipython3",
   "version": "3.7.1"
  },
  "toc": {
   "base_numbering": 1,
   "nav_menu": {},
   "number_sections": true,
   "sideBar": true,
   "skip_h1_title": false,
   "title_cell": "Table of Contents",
   "title_sidebar": "Contents",
   "toc_cell": false,
   "toc_position": {},
   "toc_section_display": true,
   "toc_window_display": false
  }
 },
 "nbformat": 4,
 "nbformat_minor": 2
}
