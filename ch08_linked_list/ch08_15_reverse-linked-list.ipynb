{
 "cells": [
  {
   "cell_type": "markdown",
   "metadata": {},
   "source": [
    "리트코드: https://leetcode.com/problems/reverse-linked-list/"
   ]
  },
  {
   "cell_type": "code",
   "execution_count": 1,
   "metadata": {
    "ExecuteTime": {
     "end_time": "2021-07-25T06:12:38.232052Z",
     "start_time": "2021-07-25T06:12:38.224022Z"
    }
   },
   "outputs": [],
   "source": [
    "import collections\n",
    "import heapq\n",
    "import functools\n",
    "import itertools\n",
    "import re\n",
    "import sys\n",
    "import math\n",
    "import bisect\n",
    "from typing import *"
   ]
  },
  {
   "cell_type": "code",
   "execution_count": 2,
   "metadata": {
    "ExecuteTime": {
     "end_time": "2021-07-25T06:12:38.248392Z",
     "start_time": "2021-07-25T06:12:38.237118Z"
    }
   },
   "outputs": [],
   "source": [
    "class ListNode:\n",
    "     def __init__(self, val=0, next=None):\n",
    "         self.val = val\n",
    "         self.next = next"
   ]
  },
  {
   "cell_type": "code",
   "execution_count": 3,
   "metadata": {
    "ExecuteTime": {
     "end_time": "2021-07-25T06:12:38.271733Z",
     "start_time": "2021-07-25T06:12:38.257459Z"
    }
   },
   "outputs": [],
   "source": [
    "head1 = ListNode(val = 1)\n",
    "tail = head1\n",
    "for i in [2,3,4,5]:\n",
    "    tail.next = ListNode(val = i)\n",
    "    tail = tail.next\n",
    "\n",
    "head2 = ListNode(val = 1)\n",
    "tail = head2\n",
    "for i in [2]:\n",
    "    tail.next = ListNode(val = i)\n",
    "    tail = tail.next"
   ]
  },
  {
   "cell_type": "markdown",
   "metadata": {},
   "source": [
    "# 재귀 구조로 뒤집기 "
   ]
  },
  {
   "cell_type": "code",
   "execution_count": 4,
   "metadata": {
    "ExecuteTime": {
     "end_time": "2021-07-25T06:12:38.290416Z",
     "start_time": "2021-07-25T06:12:38.278620Z"
    }
   },
   "outputs": [],
   "source": [
    "def reverseList(head: ListNode) -> ListNode:\n",
    "    def reverse(node: ListNode, prev: ListNode = None):\n",
    "        if not node: # 재귀의 끝\n",
    "            return prev\n",
    "        next, node.next = node.next, prev\n",
    "        return reverse(next, node)\n",
    "    return reverse(head)"
   ]
  },
  {
   "cell_type": "code",
   "execution_count": 5,
   "metadata": {
    "ExecuteTime": {
     "end_time": "2021-07-25T06:12:38.315044Z",
     "start_time": "2021-07-25T06:12:38.296134Z"
    }
   },
   "outputs": [
    {
     "name": "stdout",
     "output_type": "stream",
     "text": [
      "5 4 3 2 1 "
     ]
    }
   ],
   "source": [
    "l = reverseList(head1)\n",
    "\n",
    "node = l\n",
    "while node:\n",
    "    print(node.val, end = \" \")\n",
    "    node = node.next"
   ]
  },
  {
   "cell_type": "code",
   "execution_count": 6,
   "metadata": {
    "ExecuteTime": {
     "end_time": "2021-07-25T06:12:38.341297Z",
     "start_time": "2021-07-25T06:12:38.319786Z"
    }
   },
   "outputs": [
    {
     "name": "stdout",
     "output_type": "stream",
     "text": [
      "2 1 "
     ]
    }
   ],
   "source": [
    "l = reverseList(head2)\n",
    "\n",
    "node = l\n",
    "while node:\n",
    "    print(node.val, end = \" \")\n",
    "    node = node.next"
   ]
  },
  {
   "cell_type": "markdown",
   "metadata": {},
   "source": [
    "next 변수가 현재 node의 next를 저장하는 가변수가 되고 현재 node의 next에는 prev(이전 단계 node)를 가리키게 하여 현재 노드가 첫번째로 오는 역순의 연결 리스트를 구성한다. <br>\n",
    "재귀를 할 때 reverse 함수에 인자로는 next에 저장된 현 node의 next였던 것(정순일 때 다음 노드)이 다시 현 node가 되고 prev에는 역순 연결 리스트의 현재 첫번째 노드인 node가 들어가게 된다. <br>\n",
    "최종적으로 모든 작업을 수행했을 때 prev는 완전한 역순 연결 리스트가 되고 node는 None이 된다. 이에 따라 prev를 반환하고 재귀를 빠져나오게 된다."
   ]
  },
  {
   "cell_type": "markdown",
   "metadata": {},
   "source": [
    "# 반복으로 뒤집기"
   ]
  },
  {
   "cell_type": "code",
   "execution_count": 7,
   "metadata": {
    "ExecuteTime": {
     "end_time": "2021-07-25T06:12:38.361306Z",
     "start_time": "2021-07-25T06:12:38.349095Z"
    }
   },
   "outputs": [],
   "source": [
    "head1 = ListNode(val = 1)\n",
    "tail = head1\n",
    "for i in [2,3,4,5]:\n",
    "    tail.next = ListNode(val = i)\n",
    "    tail = tail.next\n",
    "\n",
    "head2 = ListNode(val = 1)\n",
    "tail = head2\n",
    "for i in [2]:\n",
    "    tail.next = ListNode(val = i)\n",
    "    tail = tail.next"
   ]
  },
  {
   "cell_type": "code",
   "execution_count": 8,
   "metadata": {
    "ExecuteTime": {
     "end_time": "2021-07-25T06:12:38.384928Z",
     "start_time": "2021-07-25T06:12:38.369639Z"
    }
   },
   "outputs": [],
   "source": [
    "def reverseList(head: ListNode) -> ListNode:\n",
    "    node, prev = head, None\n",
    "    \n",
    "    while node:\n",
    "        next, node.next = node.next, prev\n",
    "        prev, node = node, next\n",
    "        \n",
    "    return prev"
   ]
  },
  {
   "cell_type": "code",
   "execution_count": 9,
   "metadata": {
    "ExecuteTime": {
     "end_time": "2021-07-25T06:12:38.410290Z",
     "start_time": "2021-07-25T06:12:38.390642Z"
    }
   },
   "outputs": [
    {
     "name": "stdout",
     "output_type": "stream",
     "text": [
      "5 4 3 2 1 "
     ]
    }
   ],
   "source": [
    "l = reverseList(head1)\n",
    "\n",
    "node = l\n",
    "while node:\n",
    "    print(node.val, end = \" \")\n",
    "    node = node.next"
   ]
  },
  {
   "cell_type": "code",
   "execution_count": 10,
   "metadata": {
    "ExecuteTime": {
     "end_time": "2021-07-25T06:12:38.430357Z",
     "start_time": "2021-07-25T06:12:38.415200Z"
    }
   },
   "outputs": [
    {
     "name": "stdout",
     "output_type": "stream",
     "text": [
      "2 1 "
     ]
    }
   ],
   "source": [
    "l = reverseList(head2)\n",
    "\n",
    "node = l\n",
    "while node:\n",
    "    print(node.val, end = \" \")\n",
    "    node = node.next"
   ]
  },
  {
   "cell_type": "markdown",
   "metadata": {},
   "source": [
    "같은 알고리즘이지만 재귀가 아닌 반복문을 사용했다. <br>\n",
    "두 방법의 속도 차이는 크지 않지만 반복이 더 빠르고 함수를 계속 호출하여 스택을 차지하는 재귀보다 반복의 공간 복잡도가 낮은 편이다. <br>\n",
    "보통 재귀의 경우 알고리즘을 그대로 구현하거나 가독성을 위해 사용하며 경우에 따라 반복보다 재귀가 더 빠른 경우도 존재한다."
   ]
  }
 ],
 "metadata": {
  "kernelspec": {
   "display_name": "Python 3",
   "language": "python",
   "name": "python3"
  },
  "language_info": {
   "codemirror_mode": {
    "name": "ipython",
    "version": 3
   },
   "file_extension": ".py",
   "mimetype": "text/x-python",
   "name": "python",
   "nbconvert_exporter": "python",
   "pygments_lexer": "ipython3",
   "version": "3.7.1"
  },
  "toc": {
   "base_numbering": 1,
   "nav_menu": {},
   "number_sections": true,
   "sideBar": true,
   "skip_h1_title": false,
   "title_cell": "Table of Contents",
   "title_sidebar": "Contents",
   "toc_cell": false,
   "toc_position": {},
   "toc_section_display": true,
   "toc_window_display": false
  }
 },
 "nbformat": 4,
 "nbformat_minor": 2
}
