{
 "cells": [
  {
   "cell_type": "markdown",
   "metadata": {},
   "source": [
    "리트코드 페어의 노드 스왑: https://leetcode.com/problems/swap-nodes-in-pairs/"
   ]
  },
  {
   "cell_type": "code",
   "execution_count": 1,
   "metadata": {
    "ExecuteTime": {
     "end_time": "2021-07-28T06:31:22.204270Z",
     "start_time": "2021-07-28T06:31:22.195950Z"
    }
   },
   "outputs": [],
   "source": [
    "import collections\n",
    "import heapq\n",
    "import functools\n",
    "import itertools\n",
    "import re\n",
    "import sys\n",
    "import math\n",
    "import bisect\n",
    "from typing import *"
   ]
  },
  {
   "cell_type": "code",
   "execution_count": 2,
   "metadata": {
    "ExecuteTime": {
     "end_time": "2021-07-28T06:31:22.220931Z",
     "start_time": "2021-07-28T06:31:22.209265Z"
    }
   },
   "outputs": [],
   "source": [
    "class ListNode:\n",
    "     def __init__(self, val=0, next=None):\n",
    "         self.val = val\n",
    "         self.next = next"
   ]
  },
  {
   "cell_type": "code",
   "execution_count": 3,
   "metadata": {
    "ExecuteTime": {
     "end_time": "2021-07-28T06:31:22.239542Z",
     "start_time": "2021-07-28T06:31:22.228573Z"
    }
   },
   "outputs": [],
   "source": [
    "head1 = ListNode(val = 1)\n",
    "tail = head1\n",
    "for i in [2, 3, 4]:\n",
    "    tail.next = ListNode(val = i)\n",
    "    tail = tail.next"
   ]
  },
  {
   "cell_type": "markdown",
   "metadata": {},
   "source": [
    "# 값만 교환하기"
   ]
  },
  {
   "cell_type": "code",
   "execution_count": 4,
   "metadata": {
    "ExecuteTime": {
     "end_time": "2021-07-28T06:31:22.259547Z",
     "start_time": "2021-07-28T06:31:22.244565Z"
    }
   },
   "outputs": [],
   "source": [
    "def swapPairs(head: ListNode) -> ListNode:\n",
    "    cur = head\n",
    "    \n",
    "    while cur and cur.next:\n",
    "        cur.val, cur.next.val = cur.next.val, cur.val\n",
    "        cur = cur.next.next\n",
    "        \n",
    "    return head"
   ]
  },
  {
   "cell_type": "code",
   "execution_count": 5,
   "metadata": {
    "ExecuteTime": {
     "end_time": "2021-07-28T06:31:22.294996Z",
     "start_time": "2021-07-28T06:31:22.271387Z"
    }
   },
   "outputs": [
    {
     "name": "stdout",
     "output_type": "stream",
     "text": [
      "2 1 4 3 "
     ]
    }
   ],
   "source": [
    "node = swapPairs(head1)\n",
    "while node:\n",
    "    print(node.val, end = \" \")\n",
    "    node = node.next"
   ]
  },
  {
   "cell_type": "markdown",
   "metadata": {},
   "source": [
    "간단하게 노드의 값만을 서로 바꿔 준 것이다. 이 경우는 테스트 케이스에서 노드가 단순히 하나의 값만을 갖기 때문에 가능한 풀이법이다. 실제 업무에서는 여러 개의 값을 갖기 때문에 간단한 교환이 어렵다. 따라서 이런 풀이는 지양해야 한다."
   ]
  },
  {
   "cell_type": "markdown",
   "metadata": {},
   "source": [
    "# 반복 구조로 스왑 "
   ]
  },
  {
   "cell_type": "code",
   "execution_count": 6,
   "metadata": {
    "ExecuteTime": {
     "end_time": "2021-07-28T06:31:22.316888Z",
     "start_time": "2021-07-28T06:31:22.304687Z"
    }
   },
   "outputs": [],
   "source": [
    "head1 = ListNode(val = 1)\n",
    "tail = head1\n",
    "for i in [2, 3, 4]:\n",
    "    tail.next = ListNode(val = i)\n",
    "    tail = tail.next"
   ]
  },
  {
   "cell_type": "code",
   "execution_count": 7,
   "metadata": {
    "ExecuteTime": {
     "end_time": "2021-07-28T06:31:22.332408Z",
     "start_time": "2021-07-28T06:31:22.323390Z"
    }
   },
   "outputs": [],
   "source": [
    "def swapPairs(head: ListNode) -> ListNode:\n",
    "    root = prev = ListNode(None)\n",
    "    prev.next = head\n",
    "    while head and head.next:\n",
    "        b = head.next\n",
    "        head.next = b.next\n",
    "        b.next = head\n",
    "        \n",
    "        prev.next = b\n",
    "        \n",
    "        head = head.next\n",
    "        prev = prev.next.next\n",
    "    return root.next"
   ]
  },
  {
   "cell_type": "code",
   "execution_count": 8,
   "metadata": {
    "ExecuteTime": {
     "end_time": "2021-07-28T06:31:22.350387Z",
     "start_time": "2021-07-28T06:31:22.340578Z"
    }
   },
   "outputs": [
    {
     "name": "stdout",
     "output_type": "stream",
     "text": [
      "2 1 4 3 "
     ]
    }
   ],
   "source": [
    "node = swapPairs(head1)\n",
    "while node:\n",
    "    print(node.val, end = \" \")\n",
    "    node = node.next"
   ]
  },
  {
   "cell_type": "markdown",
   "metadata": {},
   "source": [
    "한 쌍의 연결 리스트가 여러 개 연결되어 있는 것을 앞에서 역순으로 뒤집어준 것처럼 바꿔주면 쉬울 것이라고 생각했지만 페어끼리 바꿔줄 때 앞 뒤 페어(연결 리스트)와의 연결도 고려해야 하기 때문에 여러 개의 참조 변수를 추가하여 복잡해졌다. <br>\n",
    "head 레퍼런스는 반복 과정에서 움직이므로 root 레퍼런스가 가리키는 빈 노드를 추가하여 최종적으로 root의 next가 가리키는 전체 연결 리스트를 반환한다."
   ]
  },
  {
   "cell_type": "markdown",
   "metadata": {},
   "source": [
    "# 재귀를 통한 스왑 "
   ]
  },
  {
   "cell_type": "code",
   "execution_count": 9,
   "metadata": {
    "ExecuteTime": {
     "end_time": "2021-07-28T06:31:22.384563Z",
     "start_time": "2021-07-28T06:31:22.367100Z"
    }
   },
   "outputs": [],
   "source": [
    "head1 = ListNode(val = 1)\n",
    "tail = head1\n",
    "for i in [2, 3, 4]:\n",
    "    tail.next = ListNode(val = i)\n",
    "    tail = tail.next"
   ]
  },
  {
   "cell_type": "code",
   "execution_count": 10,
   "metadata": {
    "ExecuteTime": {
     "end_time": "2021-07-28T06:31:22.402817Z",
     "start_time": "2021-07-28T06:31:22.388653Z"
    }
   },
   "outputs": [],
   "source": [
    "# 내 풀이\n",
    "def swapPairs(head: ListNode) -> ListNode:\n",
    "    if head and head.next:\n",
    "        p = head.next\n",
    "        head.next = p.next\n",
    "        p.next = head\n",
    "        \n",
    "        head.next = swapPairs(head.next)\n",
    "        \n",
    "        return p\n",
    "    return head"
   ]
  },
  {
   "cell_type": "code",
   "execution_count": 11,
   "metadata": {
    "ExecuteTime": {
     "end_time": "2021-07-28T06:31:22.422763Z",
     "start_time": "2021-07-28T06:31:22.409776Z"
    }
   },
   "outputs": [
    {
     "name": "stdout",
     "output_type": "stream",
     "text": [
      "2 1 4 3 "
     ]
    }
   ],
   "source": [
    "node = swapPairs(head1)\n",
    "while node:\n",
    "    print(node.val, end = \" \")\n",
    "    node = node.next"
   ]
  },
  {
   "cell_type": "code",
   "execution_count": 12,
   "metadata": {
    "ExecuteTime": {
     "end_time": "2021-07-28T06:31:22.438178Z",
     "start_time": "2021-07-28T06:31:22.427700Z"
    }
   },
   "outputs": [],
   "source": [
    "# 책 풀이\n",
    "def swapPairs(head: ListNode) -> ListNode:\n",
    "    if head and head.next:\n",
    "        p = head.next\n",
    "        head.next = swapPairs(head.next)\n",
    "        p.next = head\n",
    "        \n",
    "        return p\n",
    "    return head"
   ]
  },
  {
   "cell_type": "markdown",
   "metadata": {},
   "source": [
    "위의 반복 구조에서 쓰인 알고리즘을 그대로 재귀로 구현해보았는데 책 풀이에 비해 불필요한 참조가 들어가 있어 간결하지 못하다. <br>\n",
    "문제를 풀 때 그림 따위로 먼저 그려보는 것이 좋을 것 같다."
   ]
  }
 ],
 "metadata": {
  "kernelspec": {
   "display_name": "Python 3",
   "language": "python",
   "name": "python3"
  },
  "language_info": {
   "codemirror_mode": {
    "name": "ipython",
    "version": 3
   },
   "file_extension": ".py",
   "mimetype": "text/x-python",
   "name": "python",
   "nbconvert_exporter": "python",
   "pygments_lexer": "ipython3",
   "version": "3.7.1"
  },
  "toc": {
   "base_numbering": 1,
   "nav_menu": {},
   "number_sections": true,
   "sideBar": true,
   "skip_h1_title": false,
   "title_cell": "Table of Contents",
   "title_sidebar": "Contents",
   "toc_cell": false,
   "toc_position": {},
   "toc_section_display": true,
   "toc_window_display": false
  }
 },
 "nbformat": 4,
 "nbformat_minor": 2
}
