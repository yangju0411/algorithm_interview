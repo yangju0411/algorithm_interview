{
 "cells": [
  {
   "cell_type": "markdown",
   "metadata": {},
   "source": [
    "리트코드 두 수의 덧셈: https://leetcode.com/problems/add-two-numbers/"
   ]
  },
  {
   "cell_type": "code",
   "execution_count": 1,
   "metadata": {
    "ExecuteTime": {
     "end_time": "2021-07-25T09:57:57.982392Z",
     "start_time": "2021-07-25T09:57:57.974576Z"
    }
   },
   "outputs": [],
   "source": [
    "import collections\n",
    "import heapq\n",
    "import functools\n",
    "import itertools\n",
    "import re\n",
    "import sys\n",
    "import math\n",
    "import bisect\n",
    "from typing import *"
   ]
  },
  {
   "cell_type": "code",
   "execution_count": 2,
   "metadata": {
    "ExecuteTime": {
     "end_time": "2021-07-25T09:57:58.000990Z",
     "start_time": "2021-07-25T09:57:57.986629Z"
    }
   },
   "outputs": [],
   "source": [
    "class ListNode:\n",
    "     def __init__(self, val=0, next=None):\n",
    "         self.val = val\n",
    "         self.next = next"
   ]
  },
  {
   "cell_type": "code",
   "execution_count": 3,
   "metadata": {
    "ExecuteTime": {
     "end_time": "2021-07-25T09:57:58.022539Z",
     "start_time": "2021-07-25T09:57:58.009742Z"
    }
   },
   "outputs": [
    {
     "ename": "SyntaxError",
     "evalue": "invalid syntax (<ipython-input-3-a653aea3cc15>, line 3)",
     "output_type": "error",
     "traceback": [
      "\u001b[0;36m  File \u001b[0;32m\"<ipython-input-3-a653aea3cc15>\"\u001b[0;36m, line \u001b[0;32m3\u001b[0m\n\u001b[0;31m    for i in [, 3]:\u001b[0m\n\u001b[0m              ^\u001b[0m\n\u001b[0;31mSyntaxError\u001b[0m\u001b[0;31m:\u001b[0m invalid syntax\n"
     ]
    }
   ],
   "source": [
    "l1 = ListNode(val = 1)\n",
    "tail = l1\n",
    "for i in [, 3]:\n",
    "    tail.next = ListNode(val = i)\n",
    "    tail = tail.next\n",
    "\n",
    "l2 = ListNode(val = 5)\n",
    "tail = l2\n",
    "for i in [6, 4]:\n",
    "    tail.next = ListNode(val = i)\n",
    "    tail = tail.next"
   ]
  },
  {
   "cell_type": "markdown",
   "metadata": {},
   "source": [
    "# 자료형 변환 "
   ]
  },
  {
   "cell_type": "code",
   "execution_count": null,
   "metadata": {
    "ExecuteTime": {
     "end_time": "2021-07-25T09:57:58.028028Z",
     "start_time": "2021-07-25T09:58:06.242Z"
    }
   },
   "outputs": [],
   "source": [
    "# 연결 리스트 뒤집기\n",
    "def reverseList(head: ListNode) -> ListNode:\n",
    "    node, prev = head, None\n",
    "    \n",
    "    while node:\n",
    "        next, node.next = node.next, prev\n",
    "        prev, node = node, next\n",
    "    \n",
    "    return prev"
   ]
  },
  {
   "cell_type": "code",
   "execution_count": null,
   "metadata": {
    "ExecuteTime": {
     "end_time": "2021-07-25T09:57:58.034895Z",
     "start_time": "2021-07-25T09:58:06.247Z"
    }
   },
   "outputs": [],
   "source": [
    "# 연결 리스트 => 리스트 자료구조 변환\n",
    "def toList(node: ListNode) -> List:\n",
    "    list: List = []\n",
    "    while node:\n",
    "        list.append(node.val)\n",
    "        node = node.next\n",
    "    return list"
   ]
  },
  {
   "cell_type": "code",
   "execution_count": null,
   "metadata": {
    "ExecuteTime": {
     "end_time": "2021-07-25T09:57:58.040275Z",
     "start_time": "2021-07-25T09:58:06.250Z"
    }
   },
   "outputs": [],
   "source": [
    "# 리스트(문자열) => 역순 연결 리스트 자료구조 변환\n",
    "def toReversedLinkedList(result: str) -> ListNode:\n",
    "    prev: ListNode = None\n",
    "    for r in result:\n",
    "        node = ListNode(r)\n",
    "        node.next = prev\n",
    "        prev = node\n",
    "        \n",
    "    return node"
   ]
  },
  {
   "cell_type": "code",
   "execution_count": null,
   "metadata": {
    "ExecuteTime": {
     "end_time": "2021-07-25T09:57:58.043567Z",
     "start_time": "2021-07-25T09:58:06.253Z"
    }
   },
   "outputs": [],
   "source": [
    "def addTwoNumbers(l1: ListNode, l2: ListNode) -> ListNode:\n",
    "    a = toList(reverseList(l1)) # 연산을 쉽게 할 수 있게 연결 리스트를 뒤집고 파이썬 리스트로 변경\n",
    "    b = toList(reverseList(l2))\n",
    "    resultStr = int(\"\".join(str(e) for e in a)) + int(\"\".join(str(e) for e in b)) # 리스트를 문자열로 바꾸고 정수형으로 바꾼 다음 연산\n",
    "    \n",
    "    return toReversedLinkedList(str(resultStr))"
   ]
  },
  {
   "cell_type": "code",
   "execution_count": null,
   "metadata": {
    "ExecuteTime": {
     "end_time": "2021-07-25T09:57:58.045987Z",
     "start_time": "2021-07-25T09:58:06.256Z"
    }
   },
   "outputs": [],
   "source": [
    "node = addTwoNumbers(l1, l2)\n",
    "while node:\n",
    "    print(node.val, end = \" \")\n",
    "    node = node.next"
   ]
  },
  {
   "cell_type": "markdown",
   "metadata": {},
   "source": [
    "연결 리스트를 뒤집고 이를 리스트로 만들고 문자열 변환한 것을 다시 숫자형으로 변환하여 연산한 후 다시 역순의 연결 리스트로 만드는 방법이다. 간단하지만 그다지 깔끔한 풀이는 아니다. 연결 리스트에 대한 풀이로 풀어보자."
   ]
  },
  {
   "cell_type": "markdown",
   "metadata": {},
   "source": [
    "# 전가산기 구현"
   ]
  },
  {
   "cell_type": "code",
   "execution_count": null,
   "metadata": {
    "ExecuteTime": {
     "end_time": "2021-07-25T09:57:58.048789Z",
     "start_time": "2021-07-25T09:58:06.260Z"
    }
   },
   "outputs": [],
   "source": [
    "l1 = ListNode(val = 2)\n",
    "tail = l1\n",
    "for i in [4, 3]:\n",
    "    tail.next = ListNode(val = i)\n",
    "    tail = tail.next\n",
    "\n",
    "l2 = ListNode(val = 5)\n",
    "tail = l2\n",
    "for i in [6, 4]:\n",
    "    tail.next = ListNode(val = i)\n",
    "    tail = tail.next"
   ]
  },
  {
   "cell_type": "code",
   "execution_count": null,
   "metadata": {
    "ExecuteTime": {
     "end_time": "2021-07-25T09:57:58.051774Z",
     "start_time": "2021-07-25T09:58:06.264Z"
    }
   },
   "outputs": [],
   "source": [
    "def addTwoNumbers(l1: ListNode, l2: ListNode) -> ListNode:\n",
    "    root = head = ListNode(0)\n",
    "    \n",
    "    carry = 0 # 올림 수를 저장할 변수\n",
    "    \n",
    "    while l1 or l2 or carry:\n",
    "        sum = 0\n",
    "        # 두 입력값의 합 계산\n",
    "        if l1:\n",
    "            sum += l1.val\n",
    "            l1 = l1.next\n",
    "        if l2:\n",
    "            sum += l2.val\n",
    "            l2 = l2.next\n",
    "        \n",
    "        # 몫(자리올림수)와 나머지(값) 계산\n",
    "        carry, val = divmod(sum + carry, 10)\n",
    "        head.next = ListNode(val)\n",
    "        head = head.next\n",
    "        \n",
    "    return root.next"
   ]
  },
  {
   "cell_type": "code",
   "execution_count": null,
   "metadata": {
    "ExecuteTime": {
     "end_time": "2021-07-25T09:57:58.060135Z",
     "start_time": "2021-07-25T09:58:06.268Z"
    }
   },
   "outputs": [],
   "source": [
    "node = addTwoNumbers(l1, l2)\n",
    "while node:\n",
    "    print(node.val, end = \" \")\n",
    "    node = node.next"
   ]
  },
  {
   "cell_type": "markdown",
   "metadata": {},
   "source": [
    "컴퓨터구조론에 나오는 전가산기를 응용하여 구현한다. 올림수를 만들어 합을 10으로 나누었을 때 나머지만을 노드에 남기고 몫은 올림수로 하여 다음 자리 계산에 더해준다. 이 때 divmode라는 파이썬 내장함수를 사용한다."
   ]
  },
  {
   "cell_type": "markdown",
   "metadata": {},
   "source": [
    "**divmode(나눠질 수, 나눌 수)** 형태로 (몫, 나머지) 형태의 튜플을 반환한다. <br>\n",
    "본문제에서는 몫은 올림수 carry로 나머지는 현재 자리수의 값 val이 되었다. <br>\n",
    "(a // b, a % b)와 동일하다."
   ]
  }
 ],
 "metadata": {
  "kernelspec": {
   "display_name": "Python 3",
   "language": "python",
   "name": "python3"
  },
  "language_info": {
   "codemirror_mode": {
    "name": "ipython",
    "version": 3
   },
   "file_extension": ".py",
   "mimetype": "text/x-python",
   "name": "python",
   "nbconvert_exporter": "python",
   "pygments_lexer": "ipython3",
   "version": "3.7.1"
  },
  "toc": {
   "base_numbering": 1,
   "nav_menu": {},
   "number_sections": true,
   "sideBar": true,
   "skip_h1_title": false,
   "title_cell": "Table of Contents",
   "title_sidebar": "Contents",
   "toc_cell": false,
   "toc_position": {},
   "toc_section_display": true,
   "toc_window_display": false
  }
 },
 "nbformat": 4,
 "nbformat_minor": 2
}
