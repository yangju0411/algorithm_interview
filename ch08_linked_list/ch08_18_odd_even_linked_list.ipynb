{
 "cells": [
  {
   "cell_type": "markdown",
   "metadata": {},
   "source": [
    "리트코드 홀짝 연결 리스트: https://leetcode.com/problems/odd-even-linked-list/"
   ]
  },
  {
   "cell_type": "code",
   "execution_count": 1,
   "metadata": {
    "ExecuteTime": {
     "end_time": "2021-07-30T12:11:41.584387Z",
     "start_time": "2021-07-30T12:11:41.575610Z"
    }
   },
   "outputs": [],
   "source": [
    "import collections\n",
    "import heapq\n",
    "import functools\n",
    "import itertools\n",
    "import re\n",
    "import sys\n",
    "import math\n",
    "import bisect\n",
    "from typing import *"
   ]
  },
  {
   "cell_type": "code",
   "execution_count": 2,
   "metadata": {
    "ExecuteTime": {
     "end_time": "2021-07-30T12:11:41.601187Z",
     "start_time": "2021-07-30T12:11:41.590928Z"
    }
   },
   "outputs": [],
   "source": [
    "class ListNode:\n",
    "     def __init__(self, val=0, next=None):\n",
    "         self.val = val\n",
    "         self.next = next"
   ]
  },
  {
   "cell_type": "code",
   "execution_count": 3,
   "metadata": {
    "ExecuteTime": {
     "end_time": "2021-07-30T12:11:41.616752Z",
     "start_time": "2021-07-30T12:11:41.607347Z"
    }
   },
   "outputs": [],
   "source": [
    "def toLinkedList(list: List) -> ListNode:\n",
    "    root = cur = ListNode(None)\n",
    "    for i in list:\n",
    "        cur.next = ListNode(i)\n",
    "        cur = cur.next\n",
    "    return root.next"
   ]
  },
  {
   "cell_type": "code",
   "execution_count": 4,
   "metadata": {
    "ExecuteTime": {
     "end_time": "2021-07-30T12:11:41.637714Z",
     "start_time": "2021-07-30T12:11:41.625682Z"
    }
   },
   "outputs": [],
   "source": [
    "def printLinkedList(head: ListNode):\n",
    "    cur = head\n",
    "    while cur:\n",
    "        print(cur.val, end = \" \")\n",
    "        cur = cur.next"
   ]
  },
  {
   "cell_type": "code",
   "execution_count": 5,
   "metadata": {
    "ExecuteTime": {
     "end_time": "2021-07-30T12:11:41.664809Z",
     "start_time": "2021-07-30T12:11:41.643687Z"
    }
   },
   "outputs": [
    {
     "name": "stdout",
     "output_type": "stream",
     "text": [
      "1 2 3 4 5 "
     ]
    }
   ],
   "source": [
    "head1 = toLinkedList([1,2,3,4,5])\n",
    "printLinkedList(head1)"
   ]
  },
  {
   "cell_type": "code",
   "execution_count": 6,
   "metadata": {
    "ExecuteTime": {
     "end_time": "2021-07-30T12:11:41.686468Z",
     "start_time": "2021-07-30T12:11:41.669443Z"
    }
   },
   "outputs": [
    {
     "name": "stdout",
     "output_type": "stream",
     "text": [
      "2 1 3 5 6 4 7 "
     ]
    }
   ],
   "source": [
    "head2 = toLinkedList([2,1,3,5,6,4,7])\n",
    "printLinkedList(head2)"
   ]
  },
  {
   "cell_type": "markdown",
   "metadata": {},
   "source": [
    "연결 리스트의 홀수 인덱스 노드가 짝수 인덱스 노드의 앞으로 오게 정렬하는 문제 <br>\n",
    "시간 복잡도는 O(n), 공간 복잡도는 O(1)이다.\n",
    "문제를 풀 때 출력하기 위해 필요한 공간은 공간 복잡도에 들어가지 않는다."
   ]
  },
  {
   "cell_type": "markdown",
   "metadata": {},
   "source": [
    "# 반복 구조로 홀짝 노드 처리 "
   ]
  },
  {
   "cell_type": "code",
   "execution_count": 7,
   "metadata": {
    "ExecuteTime": {
     "end_time": "2021-07-30T12:11:41.702536Z",
     "start_time": "2021-07-30T12:11:41.691035Z"
    }
   },
   "outputs": [],
   "source": [
    "def oddEvenList(head: ListNode) -> ListNode:\n",
    "    if head is None:\n",
    "        return None\n",
    "    \n",
    "    odd = head\n",
    "    even = head.next\n",
    "    even_head = head.next\n",
    "    \n",
    "    while even and even.next:\n",
    "        odd.next, even.next = odd.next.next, even.next.next\n",
    "        odd, even = odd.next, even.next\n",
    "    \n",
    "    odd.next = even_head\n",
    "    return head"
   ]
  },
  {
   "cell_type": "code",
   "execution_count": 8,
   "metadata": {
    "ExecuteTime": {
     "end_time": "2021-07-30T12:11:41.732164Z",
     "start_time": "2021-07-30T12:11:41.709595Z"
    }
   },
   "outputs": [
    {
     "name": "stdout",
     "output_type": "stream",
     "text": [
      "1 3 5 2 4 "
     ]
    }
   ],
   "source": [
    "printLinkedList(oddEvenList(head1))"
   ]
  },
  {
   "cell_type": "code",
   "execution_count": 9,
   "metadata": {
    "ExecuteTime": {
     "end_time": "2021-07-30T12:11:41.747480Z",
     "start_time": "2021-07-30T12:11:41.736063Z"
    }
   },
   "outputs": [
    {
     "name": "stdout",
     "output_type": "stream",
     "text": [
      "2 3 6 7 1 5 4 "
     ]
    }
   ],
   "source": [
    "printLinkedList(oddEvenList(head2))"
   ]
  }
 ],
 "metadata": {
  "kernelspec": {
   "display_name": "Python 3",
   "language": "python",
   "name": "python3"
  },
  "language_info": {
   "codemirror_mode": {
    "name": "ipython",
    "version": 3
   },
   "file_extension": ".py",
   "mimetype": "text/x-python",
   "name": "python",
   "nbconvert_exporter": "python",
   "pygments_lexer": "ipython3",
   "version": "3.7.1"
  },
  "toc": {
   "base_numbering": 1,
   "nav_menu": {},
   "number_sections": true,
   "sideBar": true,
   "skip_h1_title": false,
   "title_cell": "Table of Contents",
   "title_sidebar": "Contents",
   "toc_cell": false,
   "toc_position": {},
   "toc_section_display": true,
   "toc_window_display": false
  }
 },
 "nbformat": 4,
 "nbformat_minor": 2
}
