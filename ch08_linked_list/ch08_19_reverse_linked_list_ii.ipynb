{
 "cells": [
  {
   "cell_type": "markdown",
   "metadata": {
    "ExecuteTime": {
     "end_time": "2021-07-30T12:28:39.168081Z",
     "start_time": "2021-07-30T12:28:39.158351Z"
    }
   },
   "source": [
    "리트코드 연결 리스트 뒤집기 II: https://leetcode.com/problems/reverse-linked-list-ii"
   ]
  },
  {
   "cell_type": "code",
   "execution_count": 1,
   "metadata": {
    "ExecuteTime": {
     "end_time": "2021-07-30T12:46:01.577763Z",
     "start_time": "2021-07-30T12:46:01.569296Z"
    }
   },
   "outputs": [],
   "source": [
    "import collections\n",
    "import heapq\n",
    "import functools\n",
    "import itertools\n",
    "import re\n",
    "import sys\n",
    "import math\n",
    "import bisect\n",
    "from typing import *"
   ]
  },
  {
   "cell_type": "code",
   "execution_count": 2,
   "metadata": {
    "ExecuteTime": {
     "end_time": "2021-07-30T12:46:01.616231Z",
     "start_time": "2021-07-30T12:46:01.582791Z"
    }
   },
   "outputs": [],
   "source": [
    "class ListNode:\n",
    "     def __init__(self, val=0, next=None):\n",
    "         self.val = val\n",
    "         self.next = next"
   ]
  },
  {
   "cell_type": "code",
   "execution_count": 3,
   "metadata": {
    "ExecuteTime": {
     "end_time": "2021-07-30T12:46:01.636228Z",
     "start_time": "2021-07-30T12:46:01.621976Z"
    }
   },
   "outputs": [],
   "source": [
    "def toLinkedList(list: List) -> ListNode:\n",
    "    root = cur = ListNode(None)\n",
    "    for i in list:\n",
    "        cur.next = ListNode(i)\n",
    "        cur = cur.next\n",
    "    return root.next"
   ]
  },
  {
   "cell_type": "code",
   "execution_count": 4,
   "metadata": {
    "ExecuteTime": {
     "end_time": "2021-07-30T12:46:01.656592Z",
     "start_time": "2021-07-30T12:46:01.641635Z"
    }
   },
   "outputs": [],
   "source": [
    "def printLinkedList(head: ListNode):\n",
    "    cur = head\n",
    "    while cur:\n",
    "        print(cur.val, end = \" \")\n",
    "        cur = cur.next"
   ]
  },
  {
   "cell_type": "code",
   "execution_count": 5,
   "metadata": {
    "ExecuteTime": {
     "end_time": "2021-07-30T12:46:01.684008Z",
     "start_time": "2021-07-30T12:46:01.661254Z"
    }
   },
   "outputs": [
    {
     "name": "stdout",
     "output_type": "stream",
     "text": [
      "1 2 3 4 5 "
     ]
    }
   ],
   "source": [
    "head1 = toLinkedList([1,2,3,4,5])\n",
    "left, right = 2, 4\n",
    "printLinkedList(head1)"
   ]
  },
  {
   "cell_type": "markdown",
   "metadata": {},
   "source": [
    "# 반복 "
   ]
  },
  {
   "cell_type": "code",
   "execution_count": 6,
   "metadata": {
    "ExecuteTime": {
     "end_time": "2021-07-30T12:46:01.711241Z",
     "start_time": "2021-07-30T12:46:01.689679Z"
    }
   },
   "outputs": [],
   "source": [
    "def reverseBetween(head: ListNode, left: int, right: int) -> ListNode:\n",
    "    if not head or left == right:\n",
    "        return head\n",
    "    \n",
    "    root = start = ListNode(None)\n",
    "    root.next = head\n",
    "    \n",
    "    for _ in range(left - 1):\n",
    "        start = start.next\n",
    "    end = start.next\n",
    "    \n",
    "    for _ in range(right - left):\n",
    "        tmp, start.next, end.next = start.next, end.next, end.next.next\n",
    "        start.next.next = tmp\n",
    "    return root.next"
   ]
  },
  {
   "cell_type": "code",
   "execution_count": 7,
   "metadata": {
    "ExecuteTime": {
     "end_time": "2021-07-30T12:46:01.747515Z",
     "start_time": "2021-07-30T12:46:01.722503Z"
    }
   },
   "outputs": [
    {
     "name": "stdout",
     "output_type": "stream",
     "text": [
      "1 4 3 2 5 "
     ]
    }
   ],
   "source": [
    "printLinkedList(reverseBetween(head1, left, right))"
   ]
  }
 ],
 "metadata": {
  "kernelspec": {
   "display_name": "Python 3",
   "language": "python",
   "name": "python3"
  },
  "language_info": {
   "codemirror_mode": {
    "name": "ipython",
    "version": 3
   },
   "file_extension": ".py",
   "mimetype": "text/x-python",
   "name": "python",
   "nbconvert_exporter": "python",
   "pygments_lexer": "ipython3",
   "version": "3.7.1"
  },
  "toc": {
   "base_numbering": 1,
   "nav_menu": {},
   "number_sections": true,
   "sideBar": true,
   "skip_h1_title": false,
   "title_cell": "Table of Contents",
   "title_sidebar": "Contents",
   "toc_cell": false,
   "toc_position": {},
   "toc_section_display": true,
   "toc_window_display": false
  }
 },
 "nbformat": 4,
 "nbformat_minor": 2
}
