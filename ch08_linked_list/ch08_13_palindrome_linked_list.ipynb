{
 "cells": [
  {
   "cell_type": "markdown",
   "metadata": {},
   "source": [
    "리트코드: https://leetcode.com/problems/palindrome-linked-list/"
   ]
  },
  {
   "cell_type": "code",
   "execution_count": 1,
   "metadata": {
    "ExecuteTime": {
     "end_time": "2021-07-24T06:29:18.379010Z",
     "start_time": "2021-07-24T06:29:18.371747Z"
    }
   },
   "outputs": [],
   "source": [
    "import collections\n",
    "import heapq\n",
    "import functools\n",
    "import itertools\n",
    "import re\n",
    "import sys\n",
    "import math\n",
    "import bisect\n",
    "from typing import *"
   ]
  },
  {
   "cell_type": "code",
   "execution_count": 2,
   "metadata": {
    "ExecuteTime": {
     "end_time": "2021-07-24T06:29:18.417921Z",
     "start_time": "2021-07-24T06:29:18.384295Z"
    }
   },
   "outputs": [],
   "source": [
    "class ListNode:\n",
    "     def __init__(self, val=0, next=None):\n",
    "         self.val = val\n",
    "         self.next = next"
   ]
  },
  {
   "cell_type": "code",
   "execution_count": 3,
   "metadata": {
    "ExecuteTime": {
     "end_time": "2021-07-24T06:29:18.436714Z",
     "start_time": "2021-07-24T06:29:18.424416Z"
    }
   },
   "outputs": [],
   "source": [
    "head1 = ListNode(val = 1)\n",
    "tail = head1\n",
    "for i in [2, 2, 1]:\n",
    "    tail.next = ListNode(val = i)\n",
    "    tail = tail.next"
   ]
  },
  {
   "cell_type": "code",
   "execution_count": 4,
   "metadata": {
    "ExecuteTime": {
     "end_time": "2021-07-24T06:29:18.464702Z",
     "start_time": "2021-07-24T06:29:18.441319Z"
    }
   },
   "outputs": [],
   "source": [
    "head2 = ListNode(val = 1)\n",
    "tail = head2\n",
    "for i in [2]:\n",
    "    tail.next = ListNode(val = i)\n",
    "    tail = tail.next"
   ]
  },
  {
   "cell_type": "markdown",
   "metadata": {},
   "source": [
    "# 리스트 변환"
   ]
  },
  {
   "cell_type": "code",
   "execution_count": 5,
   "metadata": {
    "ExecuteTime": {
     "end_time": "2021-07-24T06:29:18.492715Z",
     "start_time": "2021-07-24T06:29:18.471986Z"
    }
   },
   "outputs": [],
   "source": [
    "def isPalindrome(head: ListNode) -> bool:\n",
    "    q: List = []\n",
    "\n",
    "    if not head: # 비어 있는 것은 팰린드롬\n",
    "        return True\n",
    "\n",
    "    node = head\n",
    "\n",
    "    # 리스트 변환\n",
    "    while node is not None:\n",
    "        q.append(node.val)\n",
    "        node = node.next\n",
    "\n",
    "    # 팰린드롬 판별\n",
    "    while len(q) > 1:\n",
    "        if q.pop(0) != q.pop():\n",
    "            return False\n",
    "\n",
    "    return True"
   ]
  },
  {
   "cell_type": "code",
   "execution_count": 6,
   "metadata": {
    "ExecuteTime": {
     "end_time": "2021-07-24T06:29:18.525738Z",
     "start_time": "2021-07-24T06:29:18.512584Z"
    }
   },
   "outputs": [
    {
     "data": {
      "text/plain": [
       "True"
      ]
     },
     "execution_count": 6,
     "metadata": {},
     "output_type": "execute_result"
    }
   ],
   "source": [
    "isPalindrome(head1)"
   ]
  },
  {
   "cell_type": "code",
   "execution_count": 7,
   "metadata": {
    "ExecuteTime": {
     "end_time": "2021-07-24T06:29:18.551518Z",
     "start_time": "2021-07-24T06:29:18.530860Z"
    }
   },
   "outputs": [
    {
     "data": {
      "text/plain": [
       "False"
      ]
     },
     "execution_count": 7,
     "metadata": {},
     "output_type": "execute_result"
    }
   ],
   "source": [
    "isPalindrome(head2)"
   ]
  },
  {
   "cell_type": "markdown",
   "metadata": {},
   "source": [
    "연결 리스트를 리스트로 변환하여 팰린드롬인지 판별하는 풀이이다."
   ]
  },
  {
   "cell_type": "markdown",
   "metadata": {},
   "source": [
    "# deque를 이용한 풀이"
   ]
  },
  {
   "cell_type": "code",
   "execution_count": 8,
   "metadata": {
    "ExecuteTime": {
     "end_time": "2021-07-24T06:29:18.575634Z",
     "start_time": "2021-07-24T06:29:18.560528Z"
    }
   },
   "outputs": [],
   "source": [
    "def isPalindrome(head: ListNode) -> bool:\n",
    "    q: Deque = collections.deque()\n",
    "\n",
    "    if not head: # 비어 있는 것은 팰린드롬\n",
    "        return True\n",
    "\n",
    "    node = head\n",
    "    while node is not None:\n",
    "        q.append(node.val)\n",
    "        node = node.next\n",
    "        \n",
    "    while len(q) > 1:\n",
    "        if q.popleft() != q.pop():\n",
    "            return False\n",
    "        \n",
    "    return True"
   ]
  },
  {
   "cell_type": "code",
   "execution_count": 9,
   "metadata": {
    "ExecuteTime": {
     "end_time": "2021-07-24T06:29:18.596905Z",
     "start_time": "2021-07-24T06:29:18.581064Z"
    }
   },
   "outputs": [
    {
     "data": {
      "text/plain": [
       "True"
      ]
     },
     "execution_count": 9,
     "metadata": {},
     "output_type": "execute_result"
    }
   ],
   "source": [
    "isPalindrome(head1)"
   ]
  },
  {
   "cell_type": "code",
   "execution_count": 10,
   "metadata": {
    "ExecuteTime": {
     "end_time": "2021-07-24T06:29:18.612524Z",
     "start_time": "2021-07-24T06:29:18.601338Z"
    }
   },
   "outputs": [
    {
     "data": {
      "text/plain": [
       "False"
      ]
     },
     "execution_count": 10,
     "metadata": {},
     "output_type": "execute_result"
    }
   ],
   "source": [
    "isPalindrome(head2)"
   ]
  },
  {
   "cell_type": "markdown",
   "metadata": {},
   "source": [
    "6장 팰린드롬을 할 때 나왔듯이 pop(0)을 하면 리스트 자료구조는 앞으로 한 칸씩 원소를 시프트 해줘야 하므로 O(n)의 복잡도를 같는다. 그래서 Deque 자료구조로 변환하여 좀 더 효율적인 O(1)의 시간복잡도로 popleft()할 수 잇다. <br>\n",
    "이렇게 자료구조를 변환하면 앞에서 썼던 파이썬적인 풀이도 가능할 것이다. <br>\n",
    "그러나 연결 리스트 문제이기 때문에 자료구조를 변환하지 않고 연결 리스트의 정석적인 풀이를 사용하여 본다."
   ]
  },
  {
   "cell_type": "markdown",
   "metadata": {},
   "source": [
    "# 런너를 사용한 풀이"
   ]
  },
  {
   "cell_type": "code",
   "execution_count": 11,
   "metadata": {
    "ExecuteTime": {
     "end_time": "2021-07-24T06:29:18.635661Z",
     "start_time": "2021-07-24T06:29:18.622114Z"
    }
   },
   "outputs": [],
   "source": [
    "def isPalindrome(head: ListNode) -> bool:\n",
    "    rev = None\n",
    "    slow = fast = head\n",
    "    # 런너를 이용해 역순으로 연결 리스트 rev 생성\n",
    "    while fast and fast.next:\n",
    "        fast = fast.next.next # fast는 두 개씩 이동하며 fast가 순회를 완료하면 slow는 딱 절반을 가게 함.\n",
    "        rev, rev.next, slow = slow, rev, slow.next # 역순으로 추가해줌\n",
    "    if fast: # fast가 마지막 노드에 도달하여 while을 빠져나왔으면 slow가 절반 다음 노드를 가리키게 함.\n",
    "        slow = slow.next\n",
    "        \n",
    "    # 팰린드롬 여부 확인\n",
    "    while rev and rev.val == slow.val: # rev와 slow가 일치하는 동안 반복\n",
    "        slow, rev = slow.next, rev.next\n",
    "    return not rev # 팰린드롬이라면 반복이 끝났을 때 rev가 비어 None이 되므로 not rev는 True"
   ]
  },
  {
   "cell_type": "code",
   "execution_count": 12,
   "metadata": {
    "ExecuteTime": {
     "end_time": "2021-07-24T06:29:18.661151Z",
     "start_time": "2021-07-24T06:29:18.642365Z"
    }
   },
   "outputs": [
    {
     "data": {
      "text/plain": [
       "True"
      ]
     },
     "execution_count": 12,
     "metadata": {},
     "output_type": "execute_result"
    }
   ],
   "source": [
    "isPalindrome(head1)"
   ]
  },
  {
   "cell_type": "code",
   "execution_count": 13,
   "metadata": {
    "ExecuteTime": {
     "end_time": "2021-07-24T06:29:18.676610Z",
     "start_time": "2021-07-24T06:29:18.665651Z"
    }
   },
   "outputs": [
    {
     "data": {
      "text/plain": [
       "False"
      ]
     },
     "execution_count": 13,
     "metadata": {},
     "output_type": "execute_result"
    }
   ],
   "source": [
    "isPalindrome(head2)"
   ]
  },
  {
   "cell_type": "markdown",
   "metadata": {},
   "source": [
    "**런너 Runner 기법**은 연결 리스트를 순회할 때 2개의 포인터를 동시에 사용하는 기법이다. <br>\n",
    "한 포인터가 다른 포인터보다 앞서게 하여(fast runner) 연결 리스트의 병합 지점이나 중간 위치, 길이 등을 판별할 때 사용된다. <br>\n",
    "본 코드에서는 중간 지점을 판별하여 연결 리스트의 반절을 역순의 연결 리스트로 만들어 나머지 반절과 비교하여 팰린드롬을 판별하는데 사용하였다."
   ]
  }
 ],
 "metadata": {
  "kernelspec": {
   "display_name": "Python 3",
   "language": "python",
   "name": "python3"
  },
  "language_info": {
   "codemirror_mode": {
    "name": "ipython",
    "version": 3
   },
   "file_extension": ".py",
   "mimetype": "text/x-python",
   "name": "python",
   "nbconvert_exporter": "python",
   "pygments_lexer": "ipython3",
   "version": "3.7.1"
  },
  "toc": {
   "base_numbering": 1,
   "nav_menu": {},
   "number_sections": true,
   "sideBar": true,
   "skip_h1_title": false,
   "title_cell": "Table of Contents",
   "title_sidebar": "Contents",
   "toc_cell": false,
   "toc_position": {},
   "toc_section_display": true,
   "toc_window_display": false
  }
 },
 "nbformat": 4,
 "nbformat_minor": 2
}
