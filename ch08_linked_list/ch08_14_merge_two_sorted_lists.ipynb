{
 "cells": [
  {
   "cell_type": "markdown",
   "metadata": {},
   "source": [
    "리트코드: https://leetcode.com/problems/merge-two-sorted-lists/"
   ]
  },
  {
   "cell_type": "code",
   "execution_count": 1,
   "metadata": {
    "ExecuteTime": {
     "end_time": "2021-07-24T14:14:36.641799Z",
     "start_time": "2021-07-24T14:14:36.634666Z"
    }
   },
   "outputs": [],
   "source": [
    "import collections\n",
    "import heapq\n",
    "import functools\n",
    "import itertools\n",
    "import re\n",
    "import sys\n",
    "import math\n",
    "import bisect\n",
    "from typing import *"
   ]
  },
  {
   "cell_type": "code",
   "execution_count": 2,
   "metadata": {
    "ExecuteTime": {
     "end_time": "2021-07-24T14:14:36.657208Z",
     "start_time": "2021-07-24T14:14:36.648581Z"
    }
   },
   "outputs": [],
   "source": [
    "class ListNode:\n",
    "     def __init__(self, val=0, next=None):\n",
    "         self.val = val\n",
    "         self.next = next"
   ]
  },
  {
   "cell_type": "code",
   "execution_count": 3,
   "metadata": {
    "ExecuteTime": {
     "end_time": "2021-07-24T14:14:36.699348Z",
     "start_time": "2021-07-24T14:14:36.665680Z"
    }
   },
   "outputs": [],
   "source": [
    "l1 = ListNode(val = 1)\n",
    "tail = l1\n",
    "for i in [2, 4]:\n",
    "    tail.next = ListNode(val = i)\n",
    "    tail = tail.next\n",
    "\n",
    "l2 = ListNode(val = 1)\n",
    "tail = l2\n",
    "for i in [3, 4]:\n",
    "    tail.next = ListNode(val = i)\n",
    "    tail = tail.next"
   ]
  },
  {
   "cell_type": "markdown",
   "metadata": {},
   "source": [
    "# 재귀 구조로 연결"
   ]
  },
  {
   "cell_type": "code",
   "execution_count": 4,
   "metadata": {
    "ExecuteTime": {
     "end_time": "2021-07-24T14:14:36.717437Z",
     "start_time": "2021-07-24T14:14:36.704177Z"
    }
   },
   "outputs": [],
   "source": [
    "def mergeTwoLists(l1: ListNode, l2: ListNode) -> ListNode:\n",
    "    if (not l1) or (l2 and l1.val > l2.val):\n",
    "        l1, l2 = l2, l1\n",
    "    if l1:\n",
    "        l1.next = mergeTwoLists(l1.next, l2)\n",
    "    return l1"
   ]
  },
  {
   "cell_type": "code",
   "execution_count": 5,
   "metadata": {
    "ExecuteTime": {
     "end_time": "2021-07-24T14:14:36.733054Z",
     "start_time": "2021-07-24T14:14:36.721212Z"
    }
   },
   "outputs": [
    {
     "name": "stdout",
     "output_type": "stream",
     "text": [
      "1 1 2 3 4 4 "
     ]
    }
   ],
   "source": [
    "ml = mergeTwoLists(l1, l2)\n",
    "\n",
    "node = ml\n",
    "while node:\n",
    "    print(node.val, end = \" \")\n",
    "    node = node.next"
   ]
  },
  {
   "cell_type": "markdown",
   "metadata": {},
   "source": [
    "l1과 l2를 비교하여 l1이 l2보다 클 경우에는 l1과 l2를 스왑한다. <br>\n",
    "l1이 비어 있지 않을 경우 l1의 다음 노드로 재귀한다. <br>\n",
    "l1이 l2보다 작을 경우에는 스왑하지 않고 l1의 다음 노드로 재귀한다. <br>\n",
    "재귀하다 보면 최종적으로 l1은 정렬되어 병합된 연결 리스트가 된다. <br>\n",
    "여기서 내가 헷갈렸던 점은 l1이 재귀가 끝나면 비지 않는가였는데 잘 생각해보면 맨 처음의 l1은 비는 게 아니라 재귀할 때 다음 재귀 호출의 return되는 l1을 next로 가리키게 된다. 책에 있는 그림을 보면 이해하기 쉽다. 정확한 개념은 12장에서 백트래킹을 배울 때 나온다고 한다."
   ]
  }
 ],
 "metadata": {
  "kernelspec": {
   "display_name": "Python 3",
   "language": "python",
   "name": "python3"
  },
  "language_info": {
   "codemirror_mode": {
    "name": "ipython",
    "version": 3
   },
   "file_extension": ".py",
   "mimetype": "text/x-python",
   "name": "python",
   "nbconvert_exporter": "python",
   "pygments_lexer": "ipython3",
   "version": "3.7.1"
  },
  "toc": {
   "base_numbering": 1,
   "nav_menu": {},
   "number_sections": true,
   "sideBar": true,
   "skip_h1_title": false,
   "title_cell": "Table of Contents",
   "title_sidebar": "Contents",
   "toc_cell": false,
   "toc_position": {},
   "toc_section_display": true,
   "toc_window_display": false
  }
 },
 "nbformat": 4,
 "nbformat_minor": 2
}
