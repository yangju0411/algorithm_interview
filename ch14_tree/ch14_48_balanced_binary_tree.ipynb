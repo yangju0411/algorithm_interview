{
 "cells": [
  {
   "cell_type": "markdown",
   "metadata": {},
   "source": [
    "리트코드 균형 이진 트리: https://leetcode.com/problems/balanced-binary-tree/"
   ]
  },
  {
   "cell_type": "code",
   "execution_count": 1,
   "metadata": {},
   "outputs": [],
   "source": [
    "import collections\n",
    "import heapq\n",
    "import functools\n",
    "import itertools\n",
    "import re\n",
    "import sys\n",
    "import math\n",
    "import bisect\n",
    "from typing import *"
   ]
  },
  {
   "cell_type": "code",
   "execution_count": 2,
   "metadata": {},
   "outputs": [],
   "source": [
    "class TreeNode:\n",
    "     def __init__(self, val=0, left=None, right=None):\n",
    "         self.val = val\n",
    "         self.left = left\n",
    "         self.right = right"
   ]
  },
  {
   "cell_type": "code",
   "execution_count": 3,
   "metadata": {},
   "outputs": [],
   "source": [
    "def toBinaryTree(list: List) -> TreeNode:\n",
    "    size = len(list)\n",
    "    idx = 1\n",
    "    \n",
    "    if size == 0:\n",
    "        return None\n",
    "    \n",
    "    def recursive(i):\n",
    "        if i > size or list[i - 1] is None:\n",
    "            return None\n",
    "        \n",
    "        node = TreeNode(list[i - 1])\n",
    "        node.left = recursive(2 * i)\n",
    "        node.right = recursive(2 * i + 1)\n",
    "        \n",
    "        return node\n",
    "        \n",
    "    return recursive(idx)\n",
    "\n",
    "def printTree(root: TreeNode) -> int:\n",
    "    if root is None:\n",
    "        print(\"Tree is empty.\")\n",
    "    \n",
    "    q = collections.deque([root])\n",
    "    \n",
    "    while q:\n",
    "        for _ in range(len(q)):\n",
    "            cur = q.popleft()\n",
    "            if cur.left:\n",
    "                q.append(cur.left)\n",
    "            if cur.right:\n",
    "                q.append(cur.right)\n",
    "            print(cur.val, end = \" \")\n",
    "        print()"
   ]
  },
  {
   "cell_type": "code",
   "execution_count": 4,
   "metadata": {},
   "outputs": [],
   "source": [
    "null = None\n",
    "root = [3,9,20,null,null,15,7]\n",
    "tree = toBinaryTree(root)"
   ]
  },
  {
   "cell_type": "markdown",
   "metadata": {},
   "source": [
    "트리의 **높이 균형 Height-Balanced**이란 모든 노드의 서브트리 간의 높이 차이가 1 이하인 것을 말한다. <br>\n",
    "이진 트리의 경우에는 해당 노드의 왼쪽 서브트리와 오른쪽 서브트리의 높이를 비교하면 될 것이다. <br>\n",
    "높이 균형은 효율적인 트리를 구성하는데 중요하며 탐색 또한 효율적으로 처리할 수 있다고 한다. <br>\n",
    "AVL 트리는 높이 규현을 매번 맞추는 대표적인 자가 균형 이진 탐색 트리라고 한다."
   ]
  },
  {
   "cell_type": "markdown",
   "metadata": {},
   "source": [
    "# 재귀 구조로 높이 차이 계산"
   ]
  },
  {
   "cell_type": "code",
   "execution_count": 5,
   "metadata": {},
   "outputs": [],
   "source": [
    "def isBalanced(root: Optional[TreeNode]) -> bool:\n",
    "    def check(root):\n",
    "        if not root: # 예외 처리\n",
    "            return 0\n",
    "        \n",
    "        left = check(root.left)\n",
    "        right = check(root.right)\n",
    "        \n",
    "        # 높이 차이가 나는 경우 -1, 이외에는 높이에 따라 1 증가\n",
    "        if left == -1 or right == -1 or abs(left - right) > 1:\n",
    "            return -1\n",
    "        return max(left, right) + 1\n",
    "    return check(root) != -1"
   ]
  },
  {
   "cell_type": "code",
   "execution_count": 6,
   "metadata": {},
   "outputs": [
    {
     "data": {
      "text/plain": [
       "True"
      ]
     },
     "execution_count": 6,
     "metadata": {},
     "output_type": "execute_result"
    }
   ],
   "source": [
    "isBalanced(tree)"
   ]
  }
 ],
 "metadata": {
  "kernelspec": {
   "display_name": "Python 3",
   "language": "python",
   "name": "python3"
  },
  "language_info": {
   "codemirror_mode": {
    "name": "ipython",
    "version": 3
   },
   "file_extension": ".py",
   "mimetype": "text/x-python",
   "name": "python",
   "nbconvert_exporter": "python",
   "pygments_lexer": "ipython3",
   "version": "3.7.6"
  },
  "latex_envs": {
   "LaTeX_envs_menu_present": true,
   "autoclose": false,
   "autocomplete": true,
   "bibliofile": "biblio.bib",
   "cite_by": "apalike",
   "current_citInitial": 1,
   "eqLabelWithNumbers": true,
   "eqNumInitial": 1,
   "hotkeys": {
    "equation": "Ctrl-E",
    "itemize": "Ctrl-I"
   },
   "labels_anchors": false,
   "latex_user_defs": false,
   "report_style_numbering": false,
   "user_envs_cfg": false
  },
  "toc": {
   "base_numbering": 1,
   "nav_menu": {},
   "number_sections": true,
   "sideBar": true,
   "skip_h1_title": false,
   "title_cell": "Table of Contents",
   "title_sidebar": "Contents",
   "toc_cell": false,
   "toc_position": {},
   "toc_section_display": true,
   "toc_window_display": false
  }
 },
 "nbformat": 4,
 "nbformat_minor": 4
}
