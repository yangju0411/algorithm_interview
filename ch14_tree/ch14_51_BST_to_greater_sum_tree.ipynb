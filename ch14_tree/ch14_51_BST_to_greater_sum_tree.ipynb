{
 "cells": [
  {
   "cell_type": "markdown",
   "metadata": {},
   "source": [
    "리트코드 이진 탐색 트리를 더 큰 수 합계 트리로: https://leetcode.com/problems/binary-search-tree-to-greater-sum-tree/"
   ]
  },
  {
   "cell_type": "code",
   "execution_count": 1,
   "metadata": {},
   "outputs": [],
   "source": [
    "import collections\n",
    "import heapq\n",
    "import functools\n",
    "import itertools\n",
    "import re\n",
    "import sys\n",
    "import math\n",
    "import bisect\n",
    "from typing import *"
   ]
  },
  {
   "cell_type": "code",
   "execution_count": 2,
   "metadata": {},
   "outputs": [],
   "source": [
    "class TreeNode:\n",
    "     def __init__(self, val=0, left=None, right=None):\n",
    "         self.val = val\n",
    "         self.left = left\n",
    "         self.right = right"
   ]
  },
  {
   "cell_type": "code",
   "execution_count": 3,
   "metadata": {},
   "outputs": [],
   "source": [
    "def toBinaryTree(list: List) -> TreeNode:\n",
    "    size = len(list)\n",
    "    idx = 1\n",
    "    \n",
    "    if size == 0:\n",
    "        return None\n",
    "    \n",
    "    def recursive(i):\n",
    "        if i > size or list[i - 1] is None:\n",
    "            return None\n",
    "        \n",
    "        node = TreeNode(list[i - 1])\n",
    "        node.left = recursive(2 * i)\n",
    "        node.right = recursive(2 * i + 1)\n",
    "        \n",
    "        return node\n",
    "        \n",
    "    return recursive(idx)\n",
    "\n",
    "def printTree(root: TreeNode) -> int:\n",
    "    if root is None:\n",
    "        print(\"Tree is empty.\")\n",
    "    \n",
    "    q = collections.deque([root])\n",
    "    \n",
    "    while q:\n",
    "        for _ in range(len(q)):\n",
    "            cur = q.popleft()\n",
    "            if cur.left:\n",
    "                q.append(cur.left)\n",
    "            if cur.right:\n",
    "                q.append(cur.right)\n",
    "            print(cur.val, end = \" \")\n",
    "        print()"
   ]
  },
  {
   "cell_type": "code",
   "execution_count": 4,
   "metadata": {},
   "outputs": [
    {
     "name": "stdout",
     "output_type": "stream",
     "text": [
      "4 \n",
      "1 6 \n",
      "0 2 5 7 \n",
      "3 8 \n"
     ]
    }
   ],
   "source": [
    "null = None\n",
    "root = [4,1,6,0,2,5,7,null,null,null,3,null,null,null,8]\n",
    "tree = toBinaryTree(root)\n",
    "printTree(tree)"
   ]
  },
  {
   "cell_type": "markdown",
   "metadata": {},
   "source": [
    "# 중위 순회로 노드 값 누적 "
   ]
  },
  {
   "cell_type": "code",
   "execution_count": 5,
   "metadata": {},
   "outputs": [],
   "source": [
    "class Solution:\n",
    "    val: int = 0\n",
    "    def bstToGst(self, root: TreeNode) -> TreeNode:\n",
    "        if root:\n",
    "            self.bstToGst(root.right)\n",
    "            self.val += root.val\n",
    "            root.val = self.val\n",
    "            self.bstToGst(root.left)\n",
    "            \n",
    "        return root"
   ]
  },
  {
   "cell_type": "code",
   "execution_count": 6,
   "metadata": {},
   "outputs": [
    {
     "name": "stdout",
     "output_type": "stream",
     "text": [
      "30 \n",
      "36 21 \n",
      "36 35 26 15 \n",
      "33 8 \n"
     ]
    }
   ],
   "source": [
    "sol = Solution()\n",
    "printTree(sol.bstToGst(tree))"
   ]
  },
  {
   "cell_type": "markdown",
   "metadata": {},
   "source": [
    "해당 노드보다 값이 큰 노드들의 값을 모두 더해 새로운 트리를 만드는 문제이다. <br>\n",
    "BST는 기본적으로 노드의 오른쪽 서브트리에 있는 모든 노드가 해당 노드보다 값이 크다. <br>\n",
    "따라서 오른쪽 서브트리를 전부 순회하며 값을 더해주면 된다. <br>\n",
    "이 때 중복되는 연산을 피하기 위해 클래스 멤버로 val을 추가해주고 오른쪽 노드로 먼저 향하는 중위 순회를 하면서 val에 값을 누적 시킨다. <br>\n",
    "순회가 완료되면 최종적으로 왼쪽 맨끝 노드에 전부 누적된 값이 저장되고 끝난다."
   ]
  }
 ],
 "metadata": {
  "kernelspec": {
   "display_name": "Python 3",
   "language": "python",
   "name": "python3"
  },
  "language_info": {
   "codemirror_mode": {
    "name": "ipython",
    "version": 3
   },
   "file_extension": ".py",
   "mimetype": "text/x-python",
   "name": "python",
   "nbconvert_exporter": "python",
   "pygments_lexer": "ipython3",
   "version": "3.7.6"
  },
  "latex_envs": {
   "LaTeX_envs_menu_present": true,
   "autoclose": false,
   "autocomplete": true,
   "bibliofile": "biblio.bib",
   "cite_by": "apalike",
   "current_citInitial": 1,
   "eqLabelWithNumbers": true,
   "eqNumInitial": 1,
   "hotkeys": {
    "equation": "Ctrl-E",
    "itemize": "Ctrl-I"
   },
   "labels_anchors": false,
   "latex_user_defs": false,
   "report_style_numbering": false,
   "user_envs_cfg": false
  },
  "toc": {
   "base_numbering": 1,
   "nav_menu": {},
   "number_sections": true,
   "sideBar": true,
   "skip_h1_title": false,
   "title_cell": "Table of Contents",
   "title_sidebar": "Contents",
   "toc_cell": false,
   "toc_position": {},
   "toc_section_display": true,
   "toc_window_display": false
  }
 },
 "nbformat": 4,
 "nbformat_minor": 4
}
