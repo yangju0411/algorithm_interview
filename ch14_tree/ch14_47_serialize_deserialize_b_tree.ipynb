{
 "cells": [
  {
   "cell_type": "markdown",
   "metadata": {},
   "source": [
    "리트코드 이진 트리 직렬화 & 역직렬화: https://leetcode.com/problems/serialize-and-deserialize-binary-tree/"
   ]
  },
  {
   "cell_type": "code",
   "execution_count": 1,
   "metadata": {},
   "outputs": [],
   "source": [
    "import collections\n",
    "import heapq\n",
    "import functools\n",
    "import itertools\n",
    "import re\n",
    "import sys\n",
    "import math\n",
    "import bisect\n",
    "from typing import *"
   ]
  },
  {
   "cell_type": "code",
   "execution_count": 2,
   "metadata": {},
   "outputs": [],
   "source": [
    "class TreeNode:\n",
    "     def __init__(self, val=0, left=None, right=None):\n",
    "         self.val = val\n",
    "         self.left = left\n",
    "         self.right = right"
   ]
  },
  {
   "cell_type": "code",
   "execution_count": 3,
   "metadata": {},
   "outputs": [],
   "source": [
    "def toBinaryTree(list: List) -> TreeNode:\n",
    "    size = len(list)\n",
    "    idx = 1\n",
    "    \n",
    "    if size == 0:\n",
    "        return None\n",
    "    \n",
    "    def recursive(i):\n",
    "        if i > size or list[i - 1] is None:\n",
    "            return None\n",
    "        \n",
    "        node = TreeNode(list[i - 1])\n",
    "        node.left = recursive(2 * i)\n",
    "        node.right = recursive(2 * i + 1)\n",
    "        \n",
    "        return node\n",
    "        \n",
    "    return recursive(idx)\n",
    "\n",
    "def printTree(root: TreeNode) -> int:\n",
    "    if root is None:\n",
    "        print(\"Tree is empty.\")\n",
    "    \n",
    "    q = collections.deque([root])\n",
    "    \n",
    "    while q:\n",
    "        for _ in range(len(q)):\n",
    "            cur = q.popleft()\n",
    "            if cur.left:\n",
    "                q.append(cur.left)\n",
    "            if cur.right:\n",
    "                q.append(cur.right)\n",
    "            print(cur.val, end = \" \")\n",
    "        print()"
   ]
  },
  {
   "cell_type": "code",
   "execution_count": 4,
   "metadata": {},
   "outputs": [],
   "source": [
    "null = None\n",
    "root = [1,2,3,null,null,4,5]\n",
    "tree = toBinaryTree(root)"
   ]
  },
  {
   "cell_type": "markdown",
   "metadata": {},
   "source": [
    "# 직렬화, 역직렬화"
   ]
  },
  {
   "cell_type": "markdown",
   "metadata": {},
   "source": [
    "이진 트리라는 자료구조는 논리적인 자료 구조이다. 자료 구조나 객체를 파일이나 디스크에 저장하기 위해서 일련의 비트로 바꿔주어야하는데 이를 직렬화 Serialize 라고 한다. 직렬화된 것을 다시 논리적인 형태로 바꾸는 것은 역직렬화 Deserialize라고 한다. <br>\n",
    "파이썬에서는 pickle이라는 직렬화 모듈을 기본적으로 제공하며 파이썬 객체의 계층 구조를 파일에 저장할 수 있게 바이트 스트림으로 변경하는 작업을 피클링이라고 한다. 이외에도 마샬링 Marshalling이나 플래트닝 Flattening이라고 하기도 한다."
   ]
  },
  {
   "cell_type": "markdown",
   "metadata": {},
   "source": [
    "완전 이진 트리 Complete Binary Tree의 번호를 통해 이진 트리의 노드를 배열로 나타낼 수 있다. 비어 있는 위치는 Null로 나타내면 되며 사실상 모든 트리는 효율적이지는 않아도 배열로 나타낼 수 있다."
   ]
  },
  {
   "cell_type": "markdown",
   "metadata": {},
   "source": [
    "## 직렬화 "
   ]
  },
  {
   "cell_type": "markdown",
   "metadata": {},
   "source": [
    "이 문제는 직렬화 시켰다 다시 역직렬화 시키는 문제로 직렬화 알고리즘의 제약이 없기 때문에 BFS로 구현하든 DFS로 구현하든 아무런 상관이 없다. <br>\n",
    "다만 리트코드에서도 트리를 BFS로 표현하고 이게 번호 순으로 배치되어 직관적이므로 BFS 알고리즘을 사용해본다. <br>"
   ]
  },
  {
   "cell_type": "code",
   "execution_count": 5,
   "metadata": {},
   "outputs": [],
   "source": [
    "def serialize(root):\n",
    "        \"\"\"Encodes a tree to a single string.\n",
    "        \n",
    "        :type root: TreeNode\n",
    "        :rtype: str\n",
    "        \"\"\"\n",
    "        queue = collections.deque([root])\n",
    "        result = ['#'] # #은 null\n",
    "        # 트리 BFS 직렬화\n",
    "        while queue:\n",
    "            node = queue.popleft()\n",
    "            if node:\n",
    "                queue.append(node.left)\n",
    "                queue.append(node.right)\n",
    "                \n",
    "                result.append(str(node.val))\n",
    "            else:\n",
    "                result.append('#')\n",
    "            \n",
    "        return ' '.join(result) # 리턴 타입이 str이라고 나와 있기 때문에 문자 배열을 스페이스를 구분자로 하여 문자열로 만듦"
   ]
  },
  {
   "cell_type": "code",
   "execution_count": 6,
   "metadata": {},
   "outputs": [
    {
     "data": {
      "text/plain": [
       "'# 1 2 3 # # 4 5 # # # #'"
      ]
     },
     "execution_count": 6,
     "metadata": {},
     "output_type": "execute_result"
    }
   ],
   "source": [
    "serialize(tree)"
   ]
  },
  {
   "cell_type": "code",
   "execution_count": 7,
   "metadata": {},
   "outputs": [
    {
     "data": {
      "text/plain": [
       "[1, 2, 3, None, None, 4, 5]"
      ]
     },
     "execution_count": 7,
     "metadata": {},
     "output_type": "execute_result"
    }
   ],
   "source": [
    "root"
   ]
  },
  {
   "cell_type": "markdown",
   "metadata": {},
   "source": [
    "첫 #은 배열로 이진 트리를 나타낼 때 노드 번호에 맞추기 위해 보통 0번은 비워두는 것을 나타낸다. <br>\n",
    "실제로 적용했을 때 리트코드에서 테스트케이스로 가져온 배열로 나타낸 이진 트리와 동일한 것을 확인할 수 있다. <br>\n",
    "내가 테스트 케이스 용으로 짠 toBinaryTree 함수가 일종의 deserialize 함수라고 보면 될 것 같다."
   ]
  },
  {
   "cell_type": "markdown",
   "metadata": {},
   "source": [
    "## 역직렬화"
   ]
  },
  {
   "cell_type": "code",
   "execution_count": 8,
   "metadata": {},
   "outputs": [],
   "source": [
    "def deserialize(data):\n",
    "        \"\"\"Decodes your encoded data to tree.\n",
    "        \n",
    "        :type data: str\n",
    "        :rtype: TreeNode\n",
    "        \"\"\"\n",
    "        # empty 트리 예외처리\n",
    "        if data == \"# #\":\n",
    "            return None\n",
    "        \n",
    "        nodes = data.split() # 스페이스로 구분된 문자열을 분리하여 배열로\n",
    "        \n",
    "        root = TreeNode(int(nodes[1])) # 1번 노드 값을 이용해 루트 노드 생성\n",
    "        queue = collections.deque([root])\n",
    "        index = 2\n",
    "        \n",
    "        # 빠른 런너처럼 자식 노드 결과를 먼저 확인 후 큐 삽입\n",
    "        while queue:\n",
    "            node = queue.popleft()\n",
    "            if nodes[index] is not '#':\n",
    "                node.left = TreeNode(int(nodes[index]))\n",
    "                queue.append(node.left)\n",
    "            index += 1\n",
    "            \n",
    "            if nodes[index] is not '#':\n",
    "                node.right = TreeNode(int(nodes[index]))\n",
    "                queue.append(node.right)\n",
    "            index += 1\n",
    "            \n",
    "        return root"
   ]
  },
  {
   "cell_type": "code",
   "execution_count": 9,
   "metadata": {},
   "outputs": [
    {
     "name": "stdout",
     "output_type": "stream",
     "text": [
      "1 \n",
      "2 3 \n",
      "4 5 \n"
     ]
    }
   ],
   "source": [
    "printTree(deserialize(serialize(tree)))"
   ]
  },
  {
   "cell_type": "markdown",
   "metadata": {},
   "source": [
    "toBinaryTree 함수를 짤 때 DFS와 BFS를 두고 고민을 했었는데 BFS는 복잡할 것 같아서 DFS를 사용했었다. <br>\n",
    "이 BFS로 구현된 역직렬화 함수를 보니 DFS로 하기를 진짜 잘 한 것 같다."
   ]
  }
 ],
 "metadata": {
  "kernelspec": {
   "display_name": "Python 3",
   "language": "python",
   "name": "python3"
  },
  "language_info": {
   "codemirror_mode": {
    "name": "ipython",
    "version": 3
   },
   "file_extension": ".py",
   "mimetype": "text/x-python",
   "name": "python",
   "nbconvert_exporter": "python",
   "pygments_lexer": "ipython3",
   "version": "3.7.6"
  },
  "latex_envs": {
   "LaTeX_envs_menu_present": true,
   "autoclose": false,
   "autocomplete": true,
   "bibliofile": "biblio.bib",
   "cite_by": "apalike",
   "current_citInitial": 1,
   "eqLabelWithNumbers": true,
   "eqNumInitial": 1,
   "hotkeys": {
    "equation": "Ctrl-E",
    "itemize": "Ctrl-I"
   },
   "labels_anchors": false,
   "latex_user_defs": false,
   "report_style_numbering": false,
   "user_envs_cfg": false
  },
  "toc": {
   "base_numbering": 1,
   "nav_menu": {},
   "number_sections": true,
   "sideBar": true,
   "skip_h1_title": false,
   "title_cell": "Table of Contents",
   "title_sidebar": "Contents",
   "toc_cell": false,
   "toc_position": {},
   "toc_section_display": true,
   "toc_window_display": false
  }
 },
 "nbformat": 4,
 "nbformat_minor": 4
}
