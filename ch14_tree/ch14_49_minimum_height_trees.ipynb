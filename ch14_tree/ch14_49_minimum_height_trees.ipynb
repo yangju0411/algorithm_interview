{
 "cells": [
  {
   "cell_type": "markdown",
   "metadata": {},
   "source": [
    "리트코드 최소 높이 트리: https://leetcode.com/problems/minimum-height-trees/"
   ]
  },
  {
   "cell_type": "code",
   "execution_count": 1,
   "metadata": {},
   "outputs": [],
   "source": [
    "import collections\n",
    "import heapq\n",
    "import functools\n",
    "import itertools\n",
    "import re\n",
    "import sys\n",
    "import math\n",
    "import bisect\n",
    "from typing import *"
   ]
  },
  {
   "cell_type": "code",
   "execution_count": 2,
   "metadata": {},
   "outputs": [],
   "source": [
    "n1 = 4\n",
    "edges1 = [[1,0],[1,2],[1,3]]"
   ]
  },
  {
   "cell_type": "code",
   "execution_count": 3,
   "metadata": {},
   "outputs": [],
   "source": [
    "n2 = 6\n",
    "edges2 = [[3,0],[3,1],[3,2],[3,4],[5,4]]"
   ]
  },
  {
   "cell_type": "markdown",
   "metadata": {},
   "source": [
    "노드의 개수와 undirected graph를 입력 받아 이로 만들 수 있는 트리 중에 높이가 최소가 되는 루트 노드의 목록을 리턴하는 문제"
   ]
  },
  {
   "cell_type": "markdown",
   "metadata": {},
   "source": [
    "# 단계별 리프 노드 제거"
   ]
  },
  {
   "cell_type": "code",
   "execution_count": 4,
   "metadata": {},
   "outputs": [],
   "source": [
    "def findMinHeightTrees(n: int, edges: List[List[int]]) -> List[int]:\n",
    "    if n <= 1:\n",
    "        return [0]\n",
    "    \n",
    "    # 무방향 그래프이므로 양방향으로 삽입하여 그래프 구성\n",
    "    graph = collections.defaultdict(list)\n",
    "    for i, j in edges:\n",
    "        graph[i].append(j)\n",
    "        graph[j].append(i)\n",
    "        \n",
    "    # 첫 번째 리프 노드 추가\n",
    "    leaves = [] # 제거될 리프 노드들을 저장할 리스트\n",
    "    for i in range(n + 1):\n",
    "        if len(graph[i]) == 1: # 연결점이 하나인 노드를 리프 노드로 간주\n",
    "            leaves.append(i)\n",
    "            \n",
    "    # 루트 노드만 남을 때까지 반복 제거\n",
    "    while n > 2:\n",
    "        n -= len(leaves)\n",
    "        new_leaves = []\n",
    "        for leaf in leaves:\n",
    "            neighbor = graph[leaf].pop()\n",
    "            graph[neighbor].remove(leaf)\n",
    "            \n",
    "            if len(graph[neighbor]) == 1: # 기존 리프 노드들이 제거된 후 다시 연결점이 하나인 노드를 리프 노드로 간주\n",
    "                new_leaves.append(neighbor)\n",
    "                \n",
    "        leaves = new_leaves\n",
    "    \n",
    "    return leaves"
   ]
  },
  {
   "cell_type": "code",
   "execution_count": 5,
   "metadata": {},
   "outputs": [
    {
     "data": {
      "text/plain": [
       "[1]"
      ]
     },
     "execution_count": 5,
     "metadata": {},
     "output_type": "execute_result"
    }
   ],
   "source": [
    "findMinHeightTrees(n1, edges1)"
   ]
  },
  {
   "cell_type": "code",
   "execution_count": 6,
   "metadata": {},
   "outputs": [
    {
     "data": {
      "text/plain": [
       "[3, 4]"
      ]
     },
     "execution_count": 6,
     "metadata": {},
     "output_type": "execute_result"
    }
   ],
   "source": [
    "findMinHeightTrees(n2, edges2)"
   ]
  },
  {
   "cell_type": "markdown",
   "metadata": {},
   "source": [
    "최소 높이의 트리를 구성하려면 가장 가운데에 있는 노드가 루트 노드가 되어야 한다. <br>\n",
    "리프 노드를 하나씩 제거해 나가면서 남아 있는 노드를 찾으면 남은 노드가 가장 가운데에 있는 노드가 될 것이고, 이 노드 루트로 했을 때 최소 높이를 구성할 수 있다. <br>\n",
    "리프 노드는 연결된 노드의 개수가 1인 것들로 판별한다."
   ]
  }
 ],
 "metadata": {
  "kernelspec": {
   "display_name": "Python 3",
   "language": "python",
   "name": "python3"
  },
  "language_info": {
   "codemirror_mode": {
    "name": "ipython",
    "version": 3
   },
   "file_extension": ".py",
   "mimetype": "text/x-python",
   "name": "python",
   "nbconvert_exporter": "python",
   "pygments_lexer": "ipython3",
   "version": "3.7.6"
  },
  "latex_envs": {
   "LaTeX_envs_menu_present": true,
   "autoclose": false,
   "autocomplete": true,
   "bibliofile": "biblio.bib",
   "cite_by": "apalike",
   "current_citInitial": 1,
   "eqLabelWithNumbers": true,
   "eqNumInitial": 1,
   "hotkeys": {
    "equation": "Ctrl-E",
    "itemize": "Ctrl-I"
   },
   "labels_anchors": false,
   "latex_user_defs": false,
   "report_style_numbering": false,
   "user_envs_cfg": false
  },
  "toc": {
   "base_numbering": 1,
   "nav_menu": {},
   "number_sections": true,
   "sideBar": true,
   "skip_h1_title": false,
   "title_cell": "Table of Contents",
   "title_sidebar": "Contents",
   "toc_cell": false,
   "toc_position": {},
   "toc_section_display": true,
   "toc_window_display": false
  }
 },
 "nbformat": 4,
 "nbformat_minor": 4
}
