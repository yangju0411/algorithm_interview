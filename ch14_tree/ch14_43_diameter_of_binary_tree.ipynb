{
 "cells": [
  {
   "cell_type": "markdown",
   "metadata": {},
   "source": [
    "리트코드 이진 트리의 직경: https://leetcode.com/problems/diameter-of-binary-tree/"
   ]
  },
  {
   "cell_type": "code",
   "execution_count": 1,
   "metadata": {},
   "outputs": [],
   "source": [
    "import collections\n",
    "import heapq\n",
    "import functools\n",
    "import itertools\n",
    "import re\n",
    "import sys\n",
    "import math\n",
    "import bisect\n",
    "from typing import *"
   ]
  },
  {
   "cell_type": "code",
   "execution_count": 2,
   "metadata": {},
   "outputs": [],
   "source": [
    "class TreeNode:\n",
    "     def __init__(self, val=0, left=None, right=None):\n",
    "         self.val = val\n",
    "         self.left = left\n",
    "         self.right = right"
   ]
  },
  {
   "cell_type": "code",
   "execution_count": 3,
   "metadata": {},
   "outputs": [],
   "source": [
    "def toBinaryTree(list: List) -> TreeNode:\n",
    "    size = len(list)\n",
    "    idx = 1\n",
    "    \n",
    "    if size == 0:\n",
    "        return None\n",
    "    \n",
    "    def recursive(i):\n",
    "        if i > size or list[i - 1] is None:\n",
    "            return None\n",
    "        \n",
    "        node = TreeNode(list[i - 1])\n",
    "        node.left = recursive(2 * i)\n",
    "        node.right = recursive(2 * i + 1)\n",
    "        \n",
    "        return node\n",
    "        \n",
    "    return recursive(idx)\n",
    "\n",
    "def printTree(root: TreeNode) -> int:\n",
    "    if root is None:\n",
    "        print(\"Tree is empty.\")\n",
    "    \n",
    "    q = collections.deque([root])\n",
    "    \n",
    "    while q:\n",
    "        for _ in range(len(q)):\n",
    "            cur = q.popleft()\n",
    "            if cur.left:\n",
    "                q.append(cur.left)\n",
    "            if cur.right:\n",
    "                q.append(cur.right)\n",
    "            print(cur.val, end = \" \")\n",
    "        print()"
   ]
  },
  {
   "cell_type": "code",
   "execution_count": 4,
   "metadata": {},
   "outputs": [
    {
     "name": "stdout",
     "output_type": "stream",
     "text": [
      "1 \n",
      "2 3 \n",
      "4 5 \n"
     ]
    }
   ],
   "source": [
    "root = [1,2,3,4,5]\n",
    "tree = toBinaryTree(root)\n",
    "printTree(tree)"
   ]
  },
  {
   "cell_type": "markdown",
   "metadata": {},
   "source": [
    "트리 내에서 가장 긴 경로를 가진 두 노드의 경로의 길이를 출력하는 문제"
   ]
  },
  {
   "cell_type": "markdown",
   "metadata": {},
   "source": [
    "# 상태값 누적 트리 DFS"
   ]
  },
  {
   "cell_type": "code",
   "execution_count": 5,
   "metadata": {},
   "outputs": [],
   "source": [
    "class Solution:\n",
    "    longest = 0\n",
    "    def diameterOfBinaryTree(self, root: Optional[TreeNode]) -> int: \n",
    "        def dfs(node: TreeNode) -> int:\n",
    "            # 비어 있는 트리 예외 처리\n",
    "            if not node:\n",
    "                return -1\n",
    "\n",
    "            #왼쪽, 오른쪽의 각 리프 노드까지 탐색\n",
    "            left = dfs(node.left)\n",
    "            right = dfs(node.right)\n",
    "\n",
    "            # 가장 긴 경로\n",
    "            self.longest = max(self.longest, left + right + 2)\n",
    "            # 상태값\n",
    "            return max(left, right) + 1\n",
    "\n",
    "        dfs(root)\n",
    "        return self.longest"
   ]
  },
  {
   "cell_type": "code",
   "execution_count": 6,
   "metadata": {},
   "outputs": [
    {
     "data": {
      "text/plain": [
       "3"
      ]
     },
     "execution_count": 6,
     "metadata": {},
     "output_type": "execute_result"
    }
   ],
   "source": [
    "sol = Solution()\n",
    "sol.diameterOfBinaryTree(tree)"
   ]
  },
  {
   "cell_type": "markdown",
   "metadata": {},
   "source": [
    "리프 노드까지 왼쪽, 오른쪽 모두를 dfs로 탐색을 마친 후 거리를 더해 가장 긴 경로의 길이를 구한다. <br>\n",
    "평소엔 클래스를 안 썼는데 이번에는 책 풀이에서 클래스 변수가 필요해져서 사용해보았다. <br>\n",
    "중첩 함수 내에서 부모 함수의 변수를 읽어내는 것이 가능하므로 longest를 diameterOfBinaryTree 함수 안에 선언할 수 있다고 생각할 수 있지만 중첩 함수에서 그 부모 함수의 변수의 값을 변경하려고 하면 참조 ID가 변경되어 별도의 로컬 변수로 선언되기 때문에 선언되지 않은 변수를 사용한다고 에러가 나온다. <br>\n",
    "그래서 이 풀이에서는 longest를 클래스 변수로 선언하는 것이다."
   ]
  }
 ],
 "metadata": {
  "kernelspec": {
   "display_name": "Python 3",
   "language": "python",
   "name": "python3"
  },
  "language_info": {
   "codemirror_mode": {
    "name": "ipython",
    "version": 3
   },
   "file_extension": ".py",
   "mimetype": "text/x-python",
   "name": "python",
   "nbconvert_exporter": "python",
   "pygments_lexer": "ipython3",
   "version": "3.7.6"
  },
  "latex_envs": {
   "LaTeX_envs_menu_present": true,
   "autoclose": false,
   "autocomplete": true,
   "bibliofile": "biblio.bib",
   "cite_by": "apalike",
   "current_citInitial": 1,
   "eqLabelWithNumbers": true,
   "eqNumInitial": 1,
   "hotkeys": {
    "equation": "Ctrl-E",
    "itemize": "Ctrl-I"
   },
   "labels_anchors": false,
   "latex_user_defs": false,
   "report_style_numbering": false,
   "user_envs_cfg": false
  },
  "toc": {
   "base_numbering": 1,
   "nav_menu": {},
   "number_sections": true,
   "sideBar": true,
   "skip_h1_title": false,
   "title_cell": "Table of Contents",
   "title_sidebar": "Contents",
   "toc_cell": false,
   "toc_position": {},
   "toc_section_display": true,
   "toc_window_display": false
  }
 },
 "nbformat": 4,
 "nbformat_minor": 4
}
