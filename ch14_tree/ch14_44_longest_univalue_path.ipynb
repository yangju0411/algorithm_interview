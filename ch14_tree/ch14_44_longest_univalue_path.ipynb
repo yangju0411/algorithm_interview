{
 "cells": [
  {
   "cell_type": "markdown",
   "metadata": {},
   "source": [
    "리트코드 가장 긴 동일 값의 경로: https://leetcode.com/problems/longest-univalue-path/"
   ]
  },
  {
   "cell_type": "code",
   "execution_count": 1,
   "metadata": {},
   "outputs": [],
   "source": [
    "import collections\n",
    "import heapq\n",
    "import functools\n",
    "import itertools\n",
    "import re\n",
    "import sys\n",
    "import math\n",
    "import bisect\n",
    "from typing import *"
   ]
  },
  {
   "cell_type": "code",
   "execution_count": 3,
   "metadata": {},
   "outputs": [],
   "source": [
    "class TreeNode:\n",
    "     def __init__(self, val=0, left=None, right=None):\n",
    "         self.val = val\n",
    "         self.left = left\n",
    "         self.right = right"
   ]
  },
  {
   "cell_type": "code",
   "execution_count": 4,
   "metadata": {},
   "outputs": [],
   "source": [
    "def toBinaryTree(list: List) -> TreeNode:\n",
    "    size = len(list)\n",
    "    idx = 1\n",
    "    \n",
    "    if size == 0:\n",
    "        return None\n",
    "    \n",
    "    def recursive(i):\n",
    "        if i > size or list[i - 1] is None:\n",
    "            return None\n",
    "        \n",
    "        node = TreeNode(list[i - 1])\n",
    "        node.left = recursive(2 * i)\n",
    "        node.right = recursive(2 * i + 1)\n",
    "        \n",
    "        return node\n",
    "        \n",
    "    return recursive(idx)"
   ]
  },
  {
   "cell_type": "code",
   "execution_count": 5,
   "metadata": {},
   "outputs": [],
   "source": [
    "root = [5,4,5,1,1,5]\n",
    "tree = toBinaryTree(root)"
   ]
  },
  {
   "cell_type": "markdown",
   "metadata": {},
   "source": [
    "# 상태값 거리 계산 DFS "
   ]
  },
  {
   "cell_type": "code",
   "execution_count": 6,
   "metadata": {},
   "outputs": [],
   "source": [
    "class Solution:\n",
    "    result: int = 0\n",
    "    def longestUnivaluePath(self, root: Optional[TreeNode]) -> int:\n",
    "        def dfs(node: TreeNode):\n",
    "            if node is None:\n",
    "                return 0\n",
    "            \n",
    "            # 존재하지 않는 노드까지 DFS 재귀 탐색\n",
    "            left = dfs(node.left)\n",
    "            right = dfs(node.right)\n",
    "            \n",
    "            # 현재 노드가 자식 노드와 동일한 경우 거리 1 증가\n",
    "            if node.left and node.left.val == node.val:\n",
    "                left += 1\n",
    "            else:\n",
    "                left = 0\n",
    "            \n",
    "            if node.right and node.right.val == node.val:\n",
    "                right += 1\n",
    "            else:\n",
    "                right = 0\n",
    "            \n",
    "            # 왼족과 오른쪽 자식 노드 간의 거리의 합 최댓값이 결과\n",
    "            self.result = max(self.result, left + right)\n",
    "            \n",
    "            # 자식 노드 상태값 중 큰 값 리턴\n",
    "            return max(left, right)\n",
    "        \n",
    "        dfs(root)\n",
    "        return self.result"
   ]
  },
  {
   "cell_type": "code",
   "execution_count": 7,
   "metadata": {},
   "outputs": [
    {
     "data": {
      "text/plain": [
       "2"
      ]
     },
     "execution_count": 7,
     "metadata": {},
     "output_type": "execute_result"
    }
   ],
   "source": [
    "sol = Solution()\n",
    "sol.longestUnivaluePath(tree)"
   ]
  },
  {
   "cell_type": "markdown",
   "metadata": {},
   "source": [
    "같은 값을 가진 노드들을 이은 경로에서 시작 노드부터 끝까지의 거리를 구한다. <br>"
   ]
  }
 ],
 "metadata": {
  "kernelspec": {
   "display_name": "Python 3",
   "language": "python",
   "name": "python3"
  },
  "language_info": {
   "codemirror_mode": {
    "name": "ipython",
    "version": 3
   },
   "file_extension": ".py",
   "mimetype": "text/x-python",
   "name": "python",
   "nbconvert_exporter": "python",
   "pygments_lexer": "ipython3",
   "version": "3.7.6"
  },
  "latex_envs": {
   "LaTeX_envs_menu_present": true,
   "autoclose": false,
   "autocomplete": true,
   "bibliofile": "biblio.bib",
   "cite_by": "apalike",
   "current_citInitial": 1,
   "eqLabelWithNumbers": true,
   "eqNumInitial": 1,
   "hotkeys": {
    "equation": "Ctrl-E",
    "itemize": "Ctrl-I"
   },
   "labels_anchors": false,
   "latex_user_defs": false,
   "report_style_numbering": false,
   "user_envs_cfg": false
  },
  "toc": {
   "base_numbering": 1,
   "nav_menu": {},
   "number_sections": true,
   "sideBar": true,
   "skip_h1_title": false,
   "title_cell": "Table of Contents",
   "title_sidebar": "Contents",
   "toc_cell": false,
   "toc_position": {},
   "toc_section_display": true,
   "toc_window_display": false
  }
 },
 "nbformat": 4,
 "nbformat_minor": 4
}
