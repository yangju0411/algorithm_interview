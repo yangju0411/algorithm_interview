{
 "cells": [
  {
   "cell_type": "markdown",
   "metadata": {},
   "source": [
    "리트코드 이진 탐색 트리 합의 범위: https://leetcode.com/problems/range-sum-of-bst/"
   ]
  },
  {
   "cell_type": "code",
   "execution_count": 3,
   "metadata": {},
   "outputs": [],
   "source": [
    "import collections\n",
    "import heapq\n",
    "import functools\n",
    "import itertools\n",
    "import re\n",
    "import sys\n",
    "import math\n",
    "import bisect\n",
    "from typing import *"
   ]
  },
  {
   "cell_type": "code",
   "execution_count": 4,
   "metadata": {},
   "outputs": [],
   "source": [
    "class TreeNode:\n",
    "     def __init__(self, val=0, left=None, right=None):\n",
    "         self.val = val\n",
    "         self.left = left\n",
    "         self.right = right"
   ]
  },
  {
   "cell_type": "code",
   "execution_count": 5,
   "metadata": {},
   "outputs": [],
   "source": [
    "def toBinaryTree(list: List) -> TreeNode:\n",
    "    size = len(list)\n",
    "    idx = 1\n",
    "    \n",
    "    if size == 0:\n",
    "        return None\n",
    "    \n",
    "    def recursive(i):\n",
    "        if i > size or list[i - 1] is None:\n",
    "            return None\n",
    "        \n",
    "        node = TreeNode(list[i - 1])\n",
    "        node.left = recursive(2 * i)\n",
    "        node.right = recursive(2 * i + 1)\n",
    "        \n",
    "        return node\n",
    "        \n",
    "    return recursive(idx)\n",
    "\n",
    "def printTree(root: TreeNode) -> int:\n",
    "    if root is None:\n",
    "        print(\"Tree is empty.\")\n",
    "    \n",
    "    q = collections.deque([root])\n",
    "    \n",
    "    while q:\n",
    "        for _ in range(len(q)):\n",
    "            cur = q.popleft()\n",
    "            if cur.left:\n",
    "                q.append(cur.left)\n",
    "            if cur.right:\n",
    "                q.append(cur.right)\n",
    "            print(cur.val, end = \" \")\n",
    "        print()"
   ]
  },
  {
   "cell_type": "code",
   "execution_count": 13,
   "metadata": {},
   "outputs": [],
   "source": [
    "null = None\n",
    "root = [10,5,15,3,7,null,18]\n",
    "low = 7\n",
    "high = 15\n",
    "\n",
    "tree = toBinaryTree(root)"
   ]
  },
  {
   "cell_type": "markdown",
   "metadata": {},
   "source": [
    "low와 high 값 사이의 노드들의 값의 합을 구하는 문제"
   ]
  },
  {
   "cell_type": "markdown",
   "metadata": {},
   "source": [
    "# 재귀 구조 DFS로 브루트 포스 "
   ]
  },
  {
   "cell_type": "code",
   "execution_count": 18,
   "metadata": {},
   "outputs": [],
   "source": [
    "def rangeSumBST(root: Optional[TreeNode], low: int, high: int) -> int:\n",
    "    if not root:\n",
    "        return 0\n",
    "    \n",
    "    return (root.val if low <= root.val <= high else 0) + rangeSumBST(root.left, low, high) + rangeSumBST(root.right, low, high)"
   ]
  },
  {
   "cell_type": "code",
   "execution_count": 19,
   "metadata": {},
   "outputs": [
    {
     "data": {
      "text/plain": [
       "32"
      ]
     },
     "execution_count": 19,
     "metadata": {},
     "output_type": "execute_result"
    }
   ],
   "source": [
    "rangeSumBST(tree, low, high)"
   ]
  },
  {
   "cell_type": "markdown",
   "metadata": {},
   "source": [
    "브루트 포스 방식으로 모든 노드를 탐색하며 범위에 맞는 값만 더한다. <br>\n",
    "이는 매우 비효율적이다."
   ]
  },
  {
   "cell_type": "markdown",
   "metadata": {},
   "source": [
    "# DFS 가지치기로 필요한 노드 탐색"
   ]
  },
  {
   "cell_type": "code",
   "execution_count": 20,
   "metadata": {},
   "outputs": [],
   "source": [
    "def rangeSumBST(root: Optional[TreeNode], low: int, high: int) -> int:\n",
    "    def dfs(node: TreeNode):\n",
    "        if not node:\n",
    "            return 0\n",
    "        \n",
    "        if node.val < low:\n",
    "            return dfs(node.right)\n",
    "        elif node.val > high:\n",
    "            return dfs(node.left)\n",
    "        return node.val + dfs(node.left) + dfs(node.right)\n",
    "    \n",
    "    return dfs(root)"
   ]
  },
  {
   "cell_type": "code",
   "execution_count": 21,
   "metadata": {},
   "outputs": [
    {
     "data": {
      "text/plain": [
       "32"
      ]
     },
     "execution_count": 21,
     "metadata": {},
     "output_type": "execute_result"
    }
   ],
   "source": [
    "rangeSumBST(tree, low, high)"
   ]
  },
  {
   "cell_type": "markdown",
   "metadata": {},
   "source": [
    "이진 탐색 트리의 특성을 이용하여 범위에 맞지 않는 노드들의 탐색을 배제한다. <br>\n",
    "브루트 포스 방식보다 효율이 훨씬 상승한다."
   ]
  },
  {
   "cell_type": "markdown",
   "metadata": {},
   "source": [
    "# 반복 구조 DFS로 필요한 노드 탐색"
   ]
  },
  {
   "cell_type": "code",
   "execution_count": 22,
   "metadata": {},
   "outputs": [],
   "source": [
    "def rangeSumBST(root: Optional[TreeNode], low: int, high: int) -> int:\n",
    "    stack, sum = [root], 0\n",
    "    \n",
    "    while stack:\n",
    "        node = stack.pop()\n",
    "        \n",
    "        if node:\n",
    "            if node.val > low:\n",
    "                stack.append(node.left)\n",
    "            if node.val < high:\n",
    "                stack.append(node.right)\n",
    "            if low <= node.val <= high:\n",
    "                sum += node.val\n",
    "                \n",
    "    return sum"
   ]
  },
  {
   "cell_type": "code",
   "execution_count": 23,
   "metadata": {},
   "outputs": [
    {
     "data": {
      "text/plain": [
       "32"
      ]
     },
     "execution_count": 23,
     "metadata": {},
     "output_type": "execute_result"
    }
   ],
   "source": [
    "rangeSumBST(tree, low, high)"
   ]
  },
  {
   "cell_type": "markdown",
   "metadata": {},
   "source": [
    "# BFS로 필요한 노드 탐색 "
   ]
  },
  {
   "cell_type": "code",
   "execution_count": 28,
   "metadata": {},
   "outputs": [],
   "source": [
    "def rangeSumBST(root: Optional[TreeNode], low: int, high: int) -> int:\n",
    "    queue = collections.deque([root])\n",
    "    sum = 0\n",
    "    \n",
    "    while queue:\n",
    "        node = queue.popleft()\n",
    "        if node:\n",
    "            if node.val > low:\n",
    "                queue.append(node.left)\n",
    "            if node.val < high:\n",
    "                queue.append(node.right)\n",
    "            if low <= node.val <= high:\n",
    "                sum += node.val\n",
    "    return sum"
   ]
  },
  {
   "cell_type": "code",
   "execution_count": 29,
   "metadata": {},
   "outputs": [
    {
     "data": {
      "text/plain": [
       "32"
      ]
     },
     "execution_count": 29,
     "metadata": {},
     "output_type": "execute_result"
    }
   ],
   "source": [
    "rangeSumBST(tree, low, high)"
   ]
  }
 ],
 "metadata": {
  "kernelspec": {
   "display_name": "Python 3",
   "language": "python",
   "name": "python3"
  },
  "language_info": {
   "codemirror_mode": {
    "name": "ipython",
    "version": 3
   },
   "file_extension": ".py",
   "mimetype": "text/x-python",
   "name": "python",
   "nbconvert_exporter": "python",
   "pygments_lexer": "ipython3",
   "version": "3.7.6"
  },
  "latex_envs": {
   "LaTeX_envs_menu_present": true,
   "autoclose": false,
   "autocomplete": true,
   "bibliofile": "biblio.bib",
   "cite_by": "apalike",
   "current_citInitial": 1,
   "eqLabelWithNumbers": true,
   "eqNumInitial": 1,
   "hotkeys": {
    "equation": "Ctrl-E",
    "itemize": "Ctrl-I"
   },
   "labels_anchors": false,
   "latex_user_defs": false,
   "report_style_numbering": false,
   "user_envs_cfg": false
  },
  "toc": {
   "base_numbering": 1,
   "nav_menu": {},
   "number_sections": true,
   "sideBar": true,
   "skip_h1_title": false,
   "title_cell": "Table of Contents",
   "title_sidebar": "Contents",
   "toc_cell": false,
   "toc_position": {},
   "toc_section_display": true,
   "toc_window_display": false
  }
 },
 "nbformat": 4,
 "nbformat_minor": 4
}
