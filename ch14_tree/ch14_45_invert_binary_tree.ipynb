{
 "cells": [
  {
   "cell_type": "markdown",
   "metadata": {},
   "source": [
    "리트코드 이진 트리 반전: https://leetcode.com/problems/invert-binary-tree/"
   ]
  },
  {
   "cell_type": "code",
   "execution_count": 1,
   "metadata": {},
   "outputs": [],
   "source": [
    "import collections\n",
    "import heapq\n",
    "import functools\n",
    "import itertools\n",
    "import re\n",
    "import sys\n",
    "import math\n",
    "import bisect\n",
    "from typing import *"
   ]
  },
  {
   "cell_type": "code",
   "execution_count": 2,
   "metadata": {},
   "outputs": [],
   "source": [
    "class TreeNode:\n",
    "     def __init__(self, val=0, left=None, right=None):\n",
    "         self.val = val\n",
    "         self.left = left\n",
    "         self.right = right"
   ]
  },
  {
   "cell_type": "code",
   "execution_count": 3,
   "metadata": {},
   "outputs": [],
   "source": [
    "def toBinaryTree(list: List) -> TreeNode:\n",
    "    size = len(list)\n",
    "    idx = 1\n",
    "    \n",
    "    if size == 0:\n",
    "        return None\n",
    "    \n",
    "    def recursive(i):\n",
    "        if i > size or list[i - 1] is None:\n",
    "            return None\n",
    "        \n",
    "        node = TreeNode(list[i - 1])\n",
    "        node.left = recursive(2 * i)\n",
    "        node.right = recursive(2 * i + 1)\n",
    "        \n",
    "        return node\n",
    "        \n",
    "    return recursive(idx)\n",
    "\n",
    "def printTree(root: TreeNode) -> int:\n",
    "    if root is None:\n",
    "        print(\"Tree is empty.\")\n",
    "    \n",
    "    q = collections.deque([root])\n",
    "    \n",
    "    while q:\n",
    "        for _ in range(len(q)):\n",
    "            cur = q.popleft()\n",
    "            if cur.left:\n",
    "                q.append(cur.left)\n",
    "            if cur.right:\n",
    "                q.append(cur.right)\n",
    "            print(cur.val, end = \" \")\n",
    "        print()"
   ]
  },
  {
   "cell_type": "code",
   "execution_count": 4,
   "metadata": {},
   "outputs": [],
   "source": [
    "root = [4,2,7,1,3,6,9]\n",
    "tree = toBinaryTree(root)"
   ]
  },
  {
   "cell_type": "code",
   "execution_count": 5,
   "metadata": {},
   "outputs": [
    {
     "name": "stdout",
     "output_type": "stream",
     "text": [
      "4 \n",
      "2 7 \n",
      "1 3 6 9 \n"
     ]
    }
   ],
   "source": [
    "printTree(tree)"
   ]
  },
  {
   "cell_type": "markdown",
   "metadata": {},
   "source": [
    "# 파이써닉한 풀이 "
   ]
  },
  {
   "cell_type": "code",
   "execution_count": 6,
   "metadata": {},
   "outputs": [],
   "source": [
    "def invertTree(root: Optional[TreeNode]) -> Optional[TreeNode]:\n",
    "    if root:\n",
    "        root.left, root.right = invertTree(root.right), invertTree(root.left)\n",
    "        return root\n",
    "    # return None 생략 가능"
   ]
  },
  {
   "cell_type": "code",
   "execution_count": 7,
   "metadata": {},
   "outputs": [
    {
     "name": "stdout",
     "output_type": "stream",
     "text": [
      "4 \n",
      "7 2 \n",
      "9 6 3 1 \n"
     ]
    }
   ],
   "source": [
    "tree = toBinaryTree(root)\n",
    "printTree(invertTree(tree))"
   ]
  },
  {
   "cell_type": "markdown",
   "metadata": {},
   "source": [
    "쭉 내려가다 리프노드를 넘어 노드가 존재하지 않으면 백트래킹을 하면서 아래에서부터 바꿔지게 된다. <br>\n",
    "파이썬은 return None을 명시하지 않아도 알아서 return None을 해주므로 없어도 된다. <br>"
   ]
  },
  {
   "cell_type": "markdown",
   "metadata": {},
   "source": [
    "# 반복 구조로 BFS"
   ]
  },
  {
   "cell_type": "code",
   "execution_count": 8,
   "metadata": {},
   "outputs": [],
   "source": [
    "def invertTree(root: Optional[TreeNode]) -> Optional[TreeNode]:\n",
    "    queue = collections.deque([root])\n",
    "    \n",
    "    while queue:\n",
    "        node = queue.popleft()\n",
    "        # 부모 노드로부터 하향식 스왑\n",
    "        if node:\n",
    "            node.left, node.right = node.right, node.left\n",
    "            \n",
    "            queue.append(node.left)\n",
    "            queue.append(node.right)\n",
    "    \n",
    "    return root"
   ]
  },
  {
   "cell_type": "code",
   "execution_count": 9,
   "metadata": {},
   "outputs": [
    {
     "name": "stdout",
     "output_type": "stream",
     "text": [
      "4 \n",
      "7 2 \n",
      "9 6 3 1 \n"
     ]
    }
   ],
   "source": [
    "tree = toBinaryTree(root)\n",
    "printTree(invertTree(tree))"
   ]
  },
  {
   "cell_type": "markdown",
   "metadata": {},
   "source": [
    "위의 재귀와 백트래킹을 사용한 풀이와 다르게 BFS로 위에서부터 아래로 바뀐다."
   ]
  },
  {
   "cell_type": "markdown",
   "metadata": {},
   "source": [
    "# 반복구조로 DFS "
   ]
  },
  {
   "cell_type": "code",
   "execution_count": 10,
   "metadata": {},
   "outputs": [],
   "source": [
    "def invertTree(root: Optional[TreeNode]) -> Optional[TreeNode]:\n",
    "    stack = collections.deque([root])\n",
    "    \n",
    "    while stack:\n",
    "        node = stack.pop()\n",
    "        # 부모 노드로부터 하향식 스왑\n",
    "        if node:\n",
    "            node.left, node.right = node.right, node.left\n",
    "            \n",
    "            stack.append(node.left)\n",
    "            stack.append(node.right)\n",
    "    \n",
    "    return root"
   ]
  },
  {
   "cell_type": "code",
   "execution_count": 11,
   "metadata": {},
   "outputs": [
    {
     "name": "stdout",
     "output_type": "stream",
     "text": [
      "4 \n",
      "7 2 \n",
      "9 6 3 1 \n"
     ]
    }
   ],
   "source": [
    "tree = toBinaryTree(root)\n",
    "printTree(invertTree(tree))"
   ]
  },
  {
   "cell_type": "markdown",
   "metadata": {},
   "source": [
    "BFS에서 큐로 구현하던 것을 스택으로 변경하여 DFS로 바꾸어 주었다. <br>\n",
    "이 풀이는 부모 노드를 먼저 탐색하는 전위 순회이다."
   ]
  },
  {
   "cell_type": "markdown",
   "metadata": {},
   "source": [
    "# 반복 구조로 DFS 후위 순회 "
   ]
  },
  {
   "cell_type": "code",
   "execution_count": 12,
   "metadata": {},
   "outputs": [],
   "source": [
    "def invertTree(root: Optional[TreeNode]) -> Optional[TreeNode]:\n",
    "    stack = collections.deque([root])\n",
    "    \n",
    "    while stack:\n",
    "        node = stack.pop()\n",
    "        # 부모 노드로부터 하향식 스왑\n",
    "        if node:\n",
    "            stack.append(node.left)\n",
    "            stack.append(node.right)\n",
    "            \n",
    "            node.left, node.right = node.right, node.left\n",
    "            \n",
    "    return root"
   ]
  },
  {
   "cell_type": "markdown",
   "metadata": {},
   "source": [
    "이것은 부모 노드를 맨 나중에 탐색하는 후위 순회 방식이다."
   ]
  }
 ],
 "metadata": {
  "kernelspec": {
   "display_name": "Python 3",
   "language": "python",
   "name": "python3"
  },
  "language_info": {
   "codemirror_mode": {
    "name": "ipython",
    "version": 3
   },
   "file_extension": ".py",
   "mimetype": "text/x-python",
   "name": "python",
   "nbconvert_exporter": "python",
   "pygments_lexer": "ipython3",
   "version": "3.7.6"
  },
  "latex_envs": {
   "LaTeX_envs_menu_present": true,
   "autoclose": false,
   "autocomplete": true,
   "bibliofile": "biblio.bib",
   "cite_by": "apalike",
   "current_citInitial": 1,
   "eqLabelWithNumbers": true,
   "eqNumInitial": 1,
   "hotkeys": {
    "equation": "Ctrl-E",
    "itemize": "Ctrl-I"
   },
   "labels_anchors": false,
   "latex_user_defs": false,
   "report_style_numbering": false,
   "user_envs_cfg": false
  },
  "toc": {
   "base_numbering": 1,
   "nav_menu": {},
   "number_sections": true,
   "sideBar": true,
   "skip_h1_title": false,
   "title_cell": "Table of Contents",
   "title_sidebar": "Contents",
   "toc_cell": false,
   "toc_position": {},
   "toc_section_display": true,
   "toc_window_display": false
  }
 },
 "nbformat": 4,
 "nbformat_minor": 4
}
