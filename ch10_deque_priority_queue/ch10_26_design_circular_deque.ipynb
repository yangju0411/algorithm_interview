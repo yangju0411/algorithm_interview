{
 "cells": [
  {
   "cell_type": "markdown",
   "metadata": {},
   "source": [
    "리트코드 원형 데크 디자인: https://leetcode.com/problems/design-circular-deque/"
   ]
  },
  {
   "cell_type": "code",
   "execution_count": 1,
   "metadata": {
    "ExecuteTime": {
     "end_time": "2021-08-04T09:36:29.887555Z",
     "start_time": "2021-08-04T09:36:29.866344Z"
    }
   },
   "outputs": [],
   "source": [
    "import collections\n",
    "import heapq\n",
    "import functools\n",
    "import itertools\n",
    "import re\n",
    "import sys\n",
    "import math\n",
    "import bisect\n",
    "from typing import *"
   ]
  },
  {
   "cell_type": "markdown",
   "metadata": {},
   "source": [
    "# 이중 연결 리스트를 이용한 데크 구현 "
   ]
  },
  {
   "cell_type": "code",
   "execution_count": 2,
   "metadata": {
    "ExecuteTime": {
     "end_time": "2021-08-04T09:36:29.916212Z",
     "start_time": "2021-08-04T09:36:29.892530Z"
    }
   },
   "outputs": [],
   "source": [
    "# 이중 연결 리스트\n",
    "class ListNode:\n",
    "    def __init__(self, value: int = 0, left = None, right = None):\n",
    "        self.val = value\n",
    "        self.left = left\n",
    "        self.right = right"
   ]
  },
  {
   "cell_type": "code",
   "execution_count": 3,
   "metadata": {
    "ExecuteTime": {
     "end_time": "2021-08-04T09:36:29.965262Z",
     "start_time": "2021-08-04T09:36:29.921427Z"
    }
   },
   "outputs": [],
   "source": [
    "class MyCircularDeque:\n",
    "\n",
    "    def __init__(self, k: int):\n",
    "        self.head, self.tail = ListNode(None), ListNode(None)\n",
    "        self.k, self.len = k, 0 # k는 담을 수 있는 최대 원소의 개수\n",
    "        self.head.right, self.tail.left = self.tail, self.head\n",
    "        \n",
    "\n",
    "    def insertFront(self, value: int) -> bool:\n",
    "        if self.len == self.k:\n",
    "            return False\n",
    "        self.len += 1\n",
    "        self._add(self.head, ListNode(value))\n",
    "        return True\n",
    "        \n",
    "\n",
    "    def insertLast(self, value: int) -> bool:\n",
    "        if self.len == self.k:\n",
    "            return False\n",
    "        self.len += 1\n",
    "        self._add(self.tail.left, ListNode(value))\n",
    "        return True\n",
    "        \n",
    "\n",
    "    def deleteFront(self) -> bool:\n",
    "        if self.len == 0:\n",
    "            return False\n",
    "        self.len -= 1\n",
    "        self._del(self.head)\n",
    "        return True\n",
    "        \n",
    "\n",
    "    def deleteLast(self) -> bool:\n",
    "        if self.len == 0:\n",
    "            return False\n",
    "        self.len -= 1\n",
    "        self._del(self.tail.left.left)\n",
    "        return True\n",
    "        \n",
    "\n",
    "    def getFront(self) -> int:\n",
    "        return self.head.right.val if self.len else -1\n",
    "        \n",
    "\n",
    "    def getRear(self) -> int:\n",
    "        return self.tail.left.val if self.len else -1\n",
    "        \n",
    "\n",
    "    def isEmpty(self) -> bool:\n",
    "        return self.len == 0\n",
    "\n",
    "    def isFull(self) -> bool:\n",
    "        return self.len == self.k\n",
    "        \n",
    "    def _add(self, node: ListNode, new: ListNode): # 인자로 받은 노드의 오른쪽에 새로운 노드 삽입\n",
    "        n = node.right\n",
    "        node.right = new\n",
    "        new.left, new.right = node, n\n",
    "        n.left = new\n",
    "        \n",
    "    def _del(self, node: ListNode): # 인자로 받은 노드의 오른쪽을 지움\n",
    "        n = node.right.right\n",
    "        node.right = n\n",
    "        n.left = node"
   ]
  },
  {
   "cell_type": "markdown",
   "metadata": {},
   "source": [
    "head와 tail은 빈 값을 갖는 노드로 두어 새로운 원소가 추가될 시 insertFirst는 head의 오른쪽 Last는 tail의 왼쪽으로 추가해 나간다."
   ]
  },
  {
   "cell_type": "markdown",
   "metadata": {},
   "source": [
    "원형 큐의 이점은 파이썬 이외의 언어에서 배열로 구현할 때 빈 공간을 사용할 수 있게 하는 이점을 위해 쓰는 구조인데 이렇게 이중 연결 리스트로 구현하는 것은 그 이점을 제대로 살릴 수 없는 풀이이다. "
   ]
  }
 ],
 "metadata": {
  "kernelspec": {
   "display_name": "Python 3",
   "language": "python",
   "name": "python3"
  },
  "language_info": {
   "codemirror_mode": {
    "name": "ipython",
    "version": 3
   },
   "file_extension": ".py",
   "mimetype": "text/x-python",
   "name": "python",
   "nbconvert_exporter": "python",
   "pygments_lexer": "ipython3",
   "version": "3.7.1"
  },
  "toc": {
   "base_numbering": 1,
   "nav_menu": {},
   "number_sections": true,
   "sideBar": true,
   "skip_h1_title": false,
   "title_cell": "Table of Contents",
   "title_sidebar": "Contents",
   "toc_cell": false,
   "toc_position": {},
   "toc_section_display": true,
   "toc_window_display": false
  }
 },
 "nbformat": 4,
 "nbformat_minor": 2
}
