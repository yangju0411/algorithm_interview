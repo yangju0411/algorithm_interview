{
 "cells": [
  {
   "cell_type": "markdown",
   "metadata": {},
   "source": [
    "리트코드 k개 정렬 리스트 병합: https://leetcode.com/problems/merge-k-sorted-lists/"
   ]
  },
  {
   "cell_type": "code",
   "execution_count": 1,
   "metadata": {
    "ExecuteTime": {
     "end_time": "2021-08-05T03:58:22.690576Z",
     "start_time": "2021-08-05T03:58:22.683848Z"
    }
   },
   "outputs": [],
   "source": [
    "import collections\n",
    "import heapq\n",
    "import functools\n",
    "import itertools\n",
    "import re\n",
    "import sys\n",
    "import math\n",
    "import bisect\n",
    "from typing import *"
   ]
  },
  {
   "cell_type": "code",
   "execution_count": 2,
   "metadata": {
    "ExecuteTime": {
     "end_time": "2021-08-05T03:58:22.848857Z",
     "start_time": "2021-08-05T03:58:22.842005Z"
    }
   },
   "outputs": [],
   "source": [
    "class ListNode:\n",
    "     def __init__(self, val=0, next=None):\n",
    "         self.val = val\n",
    "         self.next = next"
   ]
  },
  {
   "cell_type": "code",
   "execution_count": 3,
   "metadata": {
    "ExecuteTime": {
     "end_time": "2021-08-05T03:58:23.017686Z",
     "start_time": "2021-08-05T03:58:23.010162Z"
    }
   },
   "outputs": [],
   "source": [
    "def toLinkedList(list: List) -> ListNode:\n",
    "    root = cur = ListNode(None)\n",
    "    for i in list:\n",
    "        cur.next = ListNode(i)\n",
    "        cur = cur.next\n",
    "    return root.next"
   ]
  },
  {
   "cell_type": "code",
   "execution_count": 4,
   "metadata": {
    "ExecuteTime": {
     "end_time": "2021-08-05T03:58:23.185352Z",
     "start_time": "2021-08-05T03:58:23.178588Z"
    }
   },
   "outputs": [],
   "source": [
    "def printLinkedList(head: ListNode):\n",
    "    cur = head\n",
    "    while cur:\n",
    "        print(cur.val, end = \" \")\n",
    "        cur = cur.next"
   ]
  },
  {
   "cell_type": "code",
   "execution_count": 5,
   "metadata": {
    "ExecuteTime": {
     "end_time": "2021-08-05T03:58:23.354188Z",
     "start_time": "2021-08-05T03:58:23.346793Z"
    }
   },
   "outputs": [],
   "source": [
    "lists = []\n",
    "for lst in [[1,4,5],[1,3,4],[2,6]]:\n",
    "    lists.append(toLinkedList(lst))"
   ]
  },
  {
   "cell_type": "code",
   "execution_count": 6,
   "metadata": {
    "ExecuteTime": {
     "end_time": "2021-08-05T03:58:23.750924Z",
     "start_time": "2021-08-05T03:58:23.738341Z"
    }
   },
   "outputs": [
    {
     "name": "stdout",
     "output_type": "stream",
     "text": [
      "1 4 5 \n",
      "1 3 4 \n",
      "2 6 \n"
     ]
    }
   ],
   "source": [
    "for lst in lists:\n",
    "    printLinkedList(lst)\n",
    "    print()"
   ]
  },
  {
   "cell_type": "markdown",
   "metadata": {},
   "source": [
    "오름차순으로 정렬된 리스트를 병합하는 문제"
   ]
  },
  {
   "cell_type": "markdown",
   "metadata": {},
   "source": [
    "# 우선순위 큐를 이용한 리스트 병합 "
   ]
  },
  {
   "cell_type": "code",
   "execution_count": 7,
   "metadata": {
    "ExecuteTime": {
     "end_time": "2021-08-05T03:58:25.182123Z",
     "start_time": "2021-08-05T03:58:25.170105Z"
    }
   },
   "outputs": [],
   "source": [
    "def mergeKLists(lists: List[ListNode]) -> ListNode:\n",
    "    root = result = ListNode(None)\n",
    "    heap = []\n",
    "    \n",
    "    # 각 연결 리스트의 루트를 힙에 저장\n",
    "    for i in range(len(lists)):\n",
    "        if lists[i]:\n",
    "            heapq.heappush(heap, (lists[i].val, i, lists[i])) # 중복을 방지하기 위해 리스트 원소 값과 함께 인덱스(키)를 튜플로 삽입\n",
    "    \n",
    "    while heap:\n",
    "        node = heapq.heappop(heap)\n",
    "        idx = node[1]\n",
    "        result.next = node[2]\n",
    "        \n",
    "        result = result.next\n",
    "        if result.next:\n",
    "            heapq.heappush(heap, (result.next.val, idx, result.next))\n",
    "    \n",
    "    return root.next"
   ]
  },
  {
   "cell_type": "code",
   "execution_count": 8,
   "metadata": {
    "ExecuteTime": {
     "end_time": "2021-08-05T03:59:05.939470Z",
     "start_time": "2021-08-05T03:59:05.930738Z"
    }
   },
   "outputs": [
    {
     "name": "stdout",
     "output_type": "stream",
     "text": [
      "1 1 2 3 4 4 5 6 "
     ]
    }
   ],
   "source": [
    "printLinkedList(mergeKLists(lists))"
   ]
  },
  {
   "cell_type": "markdown",
   "metadata": {},
   "source": [
    "**heapq 모듈**: 리스트를 힙처럼 다룰 수 있게 해주는 모듈임. <br>\n",
    "**heappush()**: 인자로 준 리스트를 힙으로 사용하여 원소를 추가해줌. <br>\n",
    "**heappop()**: 인자로 받은 힙에서 힙 불변성을 유지하면서 가장 작은 항목 pop함"
   ]
  },
  {
   "cell_type": "markdown",
   "metadata": {},
   "source": [
    "이 알고리즘은 우선순위 큐 구현에 힙을 사용하며 힙에 연결 리스트의 값들을 넣어 병합한다. <br>\n",
    "heappush로 (연결 리스트의 루트 노드의 값, 연결 리스트의 lists 인덱스, 연결 리스트의 루트 노드 레퍼런스) 튜플을 힙에 넣어준다. <br>\n",
    "이렇게 튜플로 넣어주는 이유는 값만 넣어주면 중복되기 때문이다. <br>\n",
    "힙 구조 특성상 느슨한 정렬 상태로 저장되어 heappop 하게 되면 최소 값을 가진 노드가 튀어나오게 된다. <br>\n",
    "맨 처음에는 각 연결 리스트의 루트 노드의 정보가 담긴 튜플들이 힙에 저장되어 있는데 pop을 해주면서 초기화 과정에서 생성한 빈 노드 result의 next가 pop하는 노드를 가리키게 하며 그 다음 그 연결 리스트의 노드의 튜플을 다시 heappush 해준다. <br>\n",
    "힙이 빌 때까지 즉, 각 연결 리스트의 모든 노드를 힙에 pop했다 push하는 과정을 마치면 root 노드의 뒤로 재정렬된 연결 리스트가 형성된다."
   ]
  },
  {
   "cell_type": "markdown",
   "metadata": {},
   "source": [
    "파이썬에서는 우선순위 큐 풀이에 PriorityQueue 모듈이 아닌 heapq 모듈을 사용한다고 한다. PriorityQueue 모듈도 내부적으로는 heapq 모듈이 사용된다. <br>\n",
    "둘의 차이점은 heapq는 스레드 세이프를 지원하지 않고 PriorityQueue는 지원한다. 스레드 세이프란 멀티 스레드 과정에서 다른 스레드의 개입에도 값이 변경되지 않는다는 것이다. <br>\n",
    "파이썬은 GIL(Global Interpreter Lock: 하나의 스레드가 자원을 독점하고 나머지는 접근할 수 없게 하는 것)이라는 특성을 가지고 있어 멀티스레드가 의미가 없기 때문에 스레드 세이프를 보장하는 PriorityQueue를 굳이 쓸 필요가 없어 대부분 우선순위 큐 구현은 heapq로 한다고 한다."
   ]
  }
 ],
 "metadata": {
  "kernelspec": {
   "display_name": "Python 3",
   "language": "python",
   "name": "python3"
  },
  "language_info": {
   "codemirror_mode": {
    "name": "ipython",
    "version": 3
   },
   "file_extension": ".py",
   "mimetype": "text/x-python",
   "name": "python",
   "nbconvert_exporter": "python",
   "pygments_lexer": "ipython3",
   "version": "3.7.1"
  },
  "toc": {
   "base_numbering": 1,
   "nav_menu": {},
   "number_sections": true,
   "sideBar": true,
   "skip_h1_title": false,
   "title_cell": "Table of Contents",
   "title_sidebar": "Contents",
   "toc_cell": false,
   "toc_position": {},
   "toc_section_display": true,
   "toc_window_display": false
  }
 },
 "nbformat": 4,
 "nbformat_minor": 2
}
