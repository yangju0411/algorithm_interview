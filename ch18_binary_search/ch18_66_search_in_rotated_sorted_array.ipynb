{
 "cells": [
  {
   "cell_type": "markdown",
   "metadata": {},
   "source": [
    "리트코드 회전 정렬된 배열 검색: https://leetcode.com/problems/search-in-rotated-sorted-array/"
   ]
  },
  {
   "cell_type": "code",
   "execution_count": 1,
   "metadata": {},
   "outputs": [],
   "source": [
    "import collections\n",
    "import heapq\n",
    "import functools\n",
    "import itertools\n",
    "import re\n",
    "import sys\n",
    "import math\n",
    "import bisect\n",
    "from typing import *"
   ]
  },
  {
   "cell_type": "code",
   "execution_count": 2,
   "metadata": {},
   "outputs": [],
   "source": [
    "nums = [4,5,6,7,0,1,2]\n",
    "target = 0"
   ]
  },
  {
   "cell_type": "markdown",
   "metadata": {},
   "source": [
    "주어진 nums 배열은 정렬된 배열에서 특정한 피벗을 기준으로 회전된 상태이다. <br>\n",
    "예를 들어 위의 nums는 [0, 1, 2, 4, 5, 6, 7]에서 [4,5,6,7,0,1,2]로 [0 - 3]만큼 회전된 상태이다. <br>\n",
    "시간 복잡도 O(log n)안에 회전된 배열에서 이진 검색으로 target 값의 인덱스를 찾는 문제이다."
   ]
  },
  {
   "cell_type": "markdown",
   "metadata": {},
   "source": [
    "# 피벗을 기준으로 한 이진 탐색 "
   ]
  },
  {
   "cell_type": "code",
   "execution_count": 3,
   "metadata": {},
   "outputs": [],
   "source": [
    "def search(nums: List[int], target: int) -> int:\n",
    "    # 예외 처리\n",
    "    if not nums:\n",
    "        return -1\n",
    "    \n",
    "    # 최솟값을 찾아 피벗 설정\n",
    "    left, right = 0, len(nums) - 1\n",
    "    while left < right:\n",
    "        mid = left + (right - left) // 2\n",
    "        \n",
    "        if nums[mid] > nums[right]:\n",
    "            left = mid + 1\n",
    "        else:\n",
    "            right = mid\n",
    "    \n",
    "    pivot = left\n",
    "    \n",
    "    # 피벗을 기준으로 이진 검색\n",
    "    left, right = 0, len(nums) - 1\n",
    "    while left <= right:\n",
    "        mid = left + (right - left) // 2\n",
    "        mid_pivot = (mid + pivot) % len(nums)\n",
    "        \n",
    "        if nums[mid_pivot] < target:\n",
    "            left = mid + 1\n",
    "        elif nums[mid_pivot] > target:\n",
    "            right = mid - 1\n",
    "        else:\n",
    "            return mid_pivot\n",
    "    return -1"
   ]
  },
  {
   "cell_type": "code",
   "execution_count": 4,
   "metadata": {},
   "outputs": [
    {
     "data": {
      "text/plain": [
       "4"
      ]
     },
     "execution_count": 4,
     "metadata": {},
     "output_type": "execute_result"
    }
   ],
   "source": [
    "search(nums, target)"
   ]
  },
  {
   "cell_type": "markdown",
   "metadata": {},
   "source": [
    "이진 검색은 정렬된 상태일 때만 사용가능하므로 이렇게 회전이 되었을 경우에는 수정이 필요하다. <br>\n",
    "먼저 이진 검색을 응용하여 회전의 기준이 되는 최솟값(피벗)을 찾아준다. <br>\n",
    "그 후 피벗을 바탕으로 원래 이진 검색에서 인덱스를 수정하여 이진 검색을 진행한다. <br>\n",
    "mod 연산을 해주는 이유는 mid와 pivot을 더했을 때 배열의 길이를 넘길 경우 회전시켜주기 위해서이다."
   ]
  }
 ],
 "metadata": {
  "kernelspec": {
   "display_name": "Python 3",
   "language": "python",
   "name": "python3"
  },
  "language_info": {
   "codemirror_mode": {
    "name": "ipython",
    "version": 3
   },
   "file_extension": ".py",
   "mimetype": "text/x-python",
   "name": "python",
   "nbconvert_exporter": "python",
   "pygments_lexer": "ipython3",
   "version": "3.7.6"
  },
  "latex_envs": {
   "LaTeX_envs_menu_present": true,
   "autoclose": false,
   "autocomplete": true,
   "bibliofile": "biblio.bib",
   "cite_by": "apalike",
   "current_citInitial": 1,
   "eqLabelWithNumbers": true,
   "eqNumInitial": 1,
   "hotkeys": {
    "equation": "Ctrl-E",
    "itemize": "Ctrl-I"
   },
   "labels_anchors": false,
   "latex_user_defs": false,
   "report_style_numbering": false,
   "user_envs_cfg": false
  },
  "toc": {
   "base_numbering": 1,
   "nav_menu": {},
   "number_sections": true,
   "sideBar": true,
   "skip_h1_title": false,
   "title_cell": "Table of Contents",
   "title_sidebar": "Contents",
   "toc_cell": false,
   "toc_position": {},
   "toc_section_display": true,
   "toc_window_display": false
  }
 },
 "nbformat": 4,
 "nbformat_minor": 4
}
