{
 "cells": [
  {
   "cell_type": "markdown",
   "metadata": {},
   "source": [
    "리트코드 두 배열의 교집합: https://leetcode.com/problems/intersection-of-two-arrays/"
   ]
  },
  {
   "cell_type": "code",
   "execution_count": 1,
   "metadata": {},
   "outputs": [],
   "source": [
    "import collections\n",
    "import heapq\n",
    "import functools\n",
    "import itertools\n",
    "import re\n",
    "import sys\n",
    "import math\n",
    "import bisect\n",
    "from typing import *"
   ]
  },
  {
   "cell_type": "code",
   "execution_count": 2,
   "metadata": {},
   "outputs": [],
   "source": [
    "nums1 = [1,2,2,1]\n",
    "nums2 = [2,2]"
   ]
  },
  {
   "cell_type": "markdown",
   "metadata": {},
   "source": [
    "# 브루트 포스로 계산 "
   ]
  },
  {
   "cell_type": "code",
   "execution_count": 3,
   "metadata": {},
   "outputs": [],
   "source": [
    "def intersection(nums1: List[int], nums2: List[int]) -> List[int]:\n",
    "    result: Set = set()\n",
    "    for n1 in nums1:\n",
    "        for n2 in nums2:\n",
    "            if n1 == n2:\n",
    "                result.add(n1)\n",
    "    \n",
    "    return result"
   ]
  },
  {
   "cell_type": "code",
   "execution_count": 4,
   "metadata": {},
   "outputs": [
    {
     "data": {
      "text/plain": [
       "{2}"
      ]
     },
     "execution_count": 4,
     "metadata": {},
     "output_type": "execute_result"
    }
   ],
   "source": [
    "intersection(nums1, nums2)"
   ]
  },
  {
   "cell_type": "markdown",
   "metadata": {},
   "source": [
    "브루트 포스로 모든 원소를 비교하여 같을 경우 결과 집합에 넣어준다. <br>\n",
    "파이썬의 집합 자료구조를 사용하여 중복을 알아서 처리해준다."
   ]
  },
  {
   "cell_type": "markdown",
   "metadata": {},
   "source": [
    "# 이진 검색으로 일치 여부 판별 "
   ]
  },
  {
   "cell_type": "code",
   "execution_count": 5,
   "metadata": {},
   "outputs": [],
   "source": [
    "def intersection(nums1: List[int], nums2: List[int]) -> List[int]:\n",
    "    result: Set = set()\n",
    "    nums2.sort()\n",
    "    \n",
    "    for n1 in nums1:\n",
    "        # 이진 검색으로 일치 여부 판별\n",
    "        i2 = bisect.bisect_left(nums2, n1) # 이진 검색으로 인덱스 반환\n",
    "        if len(nums2) > 0 and len(nums2) > i2 and n1 == nums2[i2]:\n",
    "            result.add(n1)\n",
    "    \n",
    "    return result"
   ]
  },
  {
   "cell_type": "code",
   "execution_count": 6,
   "metadata": {},
   "outputs": [
    {
     "data": {
      "text/plain": [
       "{2}"
      ]
     },
     "execution_count": 6,
     "metadata": {},
     "output_type": "execute_result"
    }
   ],
   "source": [
    "intersection(nums1, nums2)"
   ]
  },
  {
   "cell_type": "markdown",
   "metadata": {},
   "source": [
    "한 쪽 집합을 정렬한 후 정렬하지 않은 쪽 집합을 순회하며 원소를 정렬한 집합에서 이진 검색하여 일치하면 결과 집합에 추가한다. <br>\n",
    "len(nums2) >0과 len(nums2) > i2의 조건은 예외 처리 조건이다. <br>\n",
    "시간복잡도는 정렬에서 O(nlogn), 이진 검색에서 O(logn)이므로 전체 O(nlogn)이 되므로 위의 브루트 포스 방식보다 효율적이다. "
   ]
  },
  {
   "cell_type": "markdown",
   "metadata": {},
   "source": [
    "# 투 포인터로 일치 여부 판별"
   ]
  },
  {
   "cell_type": "code",
   "execution_count": 7,
   "metadata": {},
   "outputs": [],
   "source": [
    "def intersection(nums1: List[int], nums2: List[int]) -> List[int]:\n",
    "    result: Set = set()\n",
    "    # 양쪽 모두 정렬\n",
    "    nums1.sort()\n",
    "    nums2.sort()\n",
    "    i = j = 0\n",
    "    \n",
    "    # 투 포인터 우측으로 이동하며 일치 여부 판별\n",
    "    while i < len(nums1) and j < len(nums2):\n",
    "        if nums1[i] > nums2[j]:\n",
    "            j += 1\n",
    "        elif nums1[i] < nums2[j]:\n",
    "            i += 1\n",
    "        else:\n",
    "            result.add(nums1[i])\n",
    "            i += 1\n",
    "            j += 1\n",
    "    \n",
    "    return result"
   ]
  },
  {
   "cell_type": "code",
   "execution_count": 8,
   "metadata": {},
   "outputs": [
    {
     "data": {
      "text/plain": [
       "{2}"
      ]
     },
     "execution_count": 8,
     "metadata": {},
     "output_type": "execute_result"
    }
   ],
   "source": [
    "intersection(nums1, nums2)"
   ]
  },
  {
   "cell_type": "markdown",
   "metadata": {},
   "source": [
    "양 쪽 집합을 모두 정렬한 후 투 포인터를 사용하여 양 집합을 순회하는데 일치하면 값이 작은 쪽의 포인터를 한 칸씩 이동하며 일치할 경우엔 교집합에 추가하고 둘 다 옮겨준다. 어느 한 쪽의 포인터가 끝까지 도달하면 알고리즘이 종료된다. <br>\n",
    "이 경우엔 정렬에 O(nlogn), 투포인터 순회에 O(n)이므로 전체 O(nlogn)이다."
   ]
  }
 ],
 "metadata": {
  "kernelspec": {
   "display_name": "Python 3",
   "language": "python",
   "name": "python3"
  },
  "language_info": {
   "codemirror_mode": {
    "name": "ipython",
    "version": 3
   },
   "file_extension": ".py",
   "mimetype": "text/x-python",
   "name": "python",
   "nbconvert_exporter": "python",
   "pygments_lexer": "ipython3",
   "version": "3.7.6"
  },
  "latex_envs": {
   "LaTeX_envs_menu_present": true,
   "autoclose": false,
   "autocomplete": true,
   "bibliofile": "biblio.bib",
   "cite_by": "apalike",
   "current_citInitial": 1,
   "eqLabelWithNumbers": true,
   "eqNumInitial": 1,
   "hotkeys": {
    "equation": "Ctrl-E",
    "itemize": "Ctrl-I"
   },
   "labels_anchors": false,
   "latex_user_defs": false,
   "report_style_numbering": false,
   "user_envs_cfg": false
  },
  "toc": {
   "base_numbering": 1,
   "nav_menu": {},
   "number_sections": true,
   "sideBar": true,
   "skip_h1_title": false,
   "title_cell": "Table of Contents",
   "title_sidebar": "Contents",
   "toc_cell": false,
   "toc_position": {},
   "toc_section_display": true,
   "toc_window_display": false
  }
 },
 "nbformat": 4,
 "nbformat_minor": 4
}
