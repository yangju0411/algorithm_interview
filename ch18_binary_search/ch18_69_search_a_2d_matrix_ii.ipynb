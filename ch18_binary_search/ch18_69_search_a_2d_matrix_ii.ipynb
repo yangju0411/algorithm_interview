{
 "cells": [
  {
   "cell_type": "markdown",
   "metadata": {},
   "source": [
    "리트코드 2D 행렬 검색 II: https://leetcode.com/problems/search-a-2d-matrix-ii/"
   ]
  },
  {
   "cell_type": "code",
   "execution_count": 1,
   "metadata": {},
   "outputs": [],
   "source": [
    "import collections\n",
    "import heapq\n",
    "import functools\n",
    "import itertools\n",
    "import re\n",
    "import sys\n",
    "import math\n",
    "import bisect\n",
    "from typing import *"
   ]
  },
  {
   "cell_type": "code",
   "execution_count": 2,
   "metadata": {},
   "outputs": [],
   "source": [
    "matrix = [[1,4,7,11,15],[2,5,8,12,19],[3,6,9,16,22],[10,13,14,17,24],[18,21,23,26,30]]\n",
    "target = 5"
   ]
  },
  {
   "cell_type": "markdown",
   "metadata": {},
   "source": [
    "2차원 행렬에서 목표 값을 찾는 효율적인 알고리즘을 구현하는 문제이다. <br>\n",
    "한 행과 한 열은 오름차순으로 정렬되어 있다."
   ]
  },
  {
   "cell_type": "markdown",
   "metadata": {},
   "source": [
    "# 첫 행의 맨 뒤에서 탐색 "
   ]
  },
  {
   "cell_type": "code",
   "execution_count": 5,
   "metadata": {},
   "outputs": [],
   "source": [
    "def searchMatrix(matrix: List[List[int]], target: int) -> bool:\n",
    "    # 예외처리\n",
    "    if not matrix:\n",
    "        return False\n",
    "    \n",
    "    # 첫 행의 맨 뒤\n",
    "    row = 0\n",
    "    col = len(matrix[0]) - 1\n",
    "    \n",
    "    while row <= len(matrix) - 1 and col >= 0:\n",
    "        if target == matrix[row][col]:\n",
    "            return True\n",
    "        # 타겟이 작으면 왼쪽으로 이동\n",
    "        elif target < matrix[row][col]:\n",
    "            col -= 1\n",
    "        #타겟이 크면 아래로 이동\n",
    "        elif target > matrix[row][col]:\n",
    "            row += 1\n",
    "    return False"
   ]
  },
  {
   "cell_type": "code",
   "execution_count": 6,
   "metadata": {},
   "outputs": [
    {
     "data": {
      "text/plain": [
       "True"
      ]
     },
     "execution_count": 6,
     "metadata": {},
     "output_type": "execute_result"
    }
   ],
   "source": [
    "searchMatrix(matrix, target)"
   ]
  },
  {
   "cell_type": "markdown",
   "metadata": {},
   "source": [
    "정렬되어 있기 때문에 이진 검색을 사용하여 풀어야할 것처럼 보이지만 이 문제를 이진 검색으로 풀기는 어렵다. <br>\n",
    "행에서 이진 검색으로 타겟을 찾을 수는 있지만 열에서 이진 검색을 사용하려면 2차원 인덱싱을 사용해야하는데 이 경우는 인덱싱 자체의 복잡도가 O(n)을 소모하기 때문에 이진 검색의 O(logn)의 장점을 활용하기 어렵다. <br>\n",
    "첫 행의 맨 뒤 숫자를 포인터로 지정하여 타겟이 해당 포인터로 가리키는 수보다 크면 포인터를 아래로 이동하고 작으면 왼쪽으로 이동하는 것을 반복하여 타겟값을 찾는다."
   ]
  },
  {
   "cell_type": "markdown",
   "metadata": {},
   "source": [
    "# 파이써닉 풀이 "
   ]
  },
  {
   "cell_type": "code",
   "execution_count": 7,
   "metadata": {},
   "outputs": [],
   "source": [
    "def searchMatrix(matrix: List[List[int]], target: int) -> bool:\n",
    "    return any(target in row for row in matrix)"
   ]
  },
  {
   "cell_type": "code",
   "execution_count": 8,
   "metadata": {},
   "outputs": [
    {
     "data": {
      "text/plain": [
       "True"
      ]
     },
     "execution_count": 8,
     "metadata": {},
     "output_type": "execute_result"
    }
   ],
   "source": [
    "searchMatrix(matrix, target)"
   ]
  },
  {
   "cell_type": "markdown",
   "metadata": {},
   "source": [
    "파이썬의 any함수는 포함된 값 중 어느 하나라도 True 이면 True를 출력한다. 각 행에 in 연산자를 사용하여 target을 찾고 각 행의 결과 중 어느 하나라도 True가 있으면 True가 출력된다. <br>\n",
    "반대로 all 함수는 모든 것이 True여야 True가 반환된다."
   ]
  }
 ],
 "metadata": {
  "kernelspec": {
   "display_name": "Python 3",
   "language": "python",
   "name": "python3"
  },
  "language_info": {
   "codemirror_mode": {
    "name": "ipython",
    "version": 3
   },
   "file_extension": ".py",
   "mimetype": "text/x-python",
   "name": "python",
   "nbconvert_exporter": "python",
   "pygments_lexer": "ipython3",
   "version": "3.7.6"
  },
  "latex_envs": {
   "LaTeX_envs_menu_present": true,
   "autoclose": false,
   "autocomplete": true,
   "bibliofile": "biblio.bib",
   "cite_by": "apalike",
   "current_citInitial": 1,
   "eqLabelWithNumbers": true,
   "eqNumInitial": 1,
   "hotkeys": {
    "equation": "Ctrl-E",
    "itemize": "Ctrl-I"
   },
   "labels_anchors": false,
   "latex_user_defs": false,
   "report_style_numbering": false,
   "user_envs_cfg": false
  },
  "toc": {
   "base_numbering": 1,
   "nav_menu": {},
   "number_sections": true,
   "sideBar": true,
   "skip_h1_title": false,
   "title_cell": "Table of Contents",
   "title_sidebar": "Contents",
   "toc_cell": false,
   "toc_position": {},
   "toc_section_display": true,
   "toc_window_display": false
  }
 },
 "nbformat": 4,
 "nbformat_minor": 4
}
