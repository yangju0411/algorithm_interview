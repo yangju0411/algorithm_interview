{
 "cells": [
  {
   "cell_type": "markdown",
   "metadata": {},
   "source": [
    "리트코드 두 수의 합 II: https://leetcode.com/problems/two-sum-ii-input-array-is-sorted/"
   ]
  },
  {
   "cell_type": "code",
   "execution_count": 1,
   "metadata": {},
   "outputs": [],
   "source": [
    "import collections\n",
    "import heapq\n",
    "import functools\n",
    "import itertools\n",
    "import re\n",
    "import sys\n",
    "import math\n",
    "import bisect\n",
    "from typing import *"
   ]
  },
  {
   "cell_type": "code",
   "execution_count": 2,
   "metadata": {},
   "outputs": [],
   "source": [
    "numbers = [2,7,11,15]\n",
    "target = 9"
   ]
  },
  {
   "cell_type": "markdown",
   "metadata": {},
   "source": [
    "이전에 풀었던 두 수의 합 문제와 다르게 정렬된 배열이 주어진다."
   ]
  },
  {
   "cell_type": "markdown",
   "metadata": {},
   "source": [
    "# 투 포인터"
   ]
  },
  {
   "cell_type": "code",
   "execution_count": 3,
   "metadata": {},
   "outputs": [],
   "source": [
    "def twoSum(numbers: List[int], target: int) -> List[int]:\n",
    "    left, right = 0, len(numbers) - 1\n",
    "    while not left == right:\n",
    "        if numbers[left] + numbers[right] < target:\n",
    "            left += 1\n",
    "        elif numbers[left] + numbers[right] > target:\n",
    "            right -= 1\n",
    "        else:\n",
    "            return left + 1, right + 1"
   ]
  },
  {
   "cell_type": "code",
   "execution_count": 4,
   "metadata": {},
   "outputs": [
    {
     "data": {
      "text/plain": [
       "(1, 2)"
      ]
     },
     "execution_count": 4,
     "metadata": {},
     "output_type": "execute_result"
    }
   ],
   "source": [
    "twoSum(numbers, target)"
   ]
  },
  {
   "cell_type": "markdown",
   "metadata": {},
   "source": [
    "앞에 나왔던 문제와 다르게 정렬된 배열이 주어지기 때문에 투 포인터로 문제를 풀 수 있다. <br>\n",
    "인덱스는 0부터 시작하는 것이 아닌 1부터 시작하는 것이라고 문제에 주어지므로 리턴 값에는 + 1을 해준다. <br>\n",
    "투포인터 풀이는 O(n)의 시간 복잡도를 가진다."
   ]
  },
  {
   "cell_type": "markdown",
   "metadata": {},
   "source": [
    "# 이진 검색 "
   ]
  },
  {
   "cell_type": "code",
   "execution_count": 5,
   "metadata": {},
   "outputs": [],
   "source": [
    "def twoSum(numbers: List[int], target: int) -> List[int]:\n",
    "    for k, v in enumerate(numbers):\n",
    "        left, right = k + 1, len(numbers) - 1\n",
    "        expected = target - v\n",
    "        # 이진 검색으로 나머지 값 판별\n",
    "        while left <= right:\n",
    "            mid = left + (right - left) // 2\n",
    "            if numbers[mid] < expected:\n",
    "                left = mid + 1\n",
    "            elif numbers[mid] > expected:\n",
    "                right = mid - 1\n",
    "            else:\n",
    "                return k + 1, mid + 1"
   ]
  },
  {
   "cell_type": "code",
   "execution_count": 6,
   "metadata": {},
   "outputs": [
    {
     "data": {
      "text/plain": [
       "(1, 2)"
      ]
     },
     "execution_count": 6,
     "metadata": {},
     "output_type": "execute_result"
    }
   ],
   "source": [
    "twoSum(numbers, target)"
   ]
  },
  {
   "cell_type": "markdown",
   "metadata": {},
   "source": [
    "정렬된 배열이므로 이진 검색을 사용할 수 있다. 반복으로 순회하며 목표값에서 현재 수를 빼준 수를 이진 검색으로 배열에서 찾는다. <br>\n",
    "O(logn)인 이진 검색을 n번 반복하므로 이 풀이는 O(nlogn)의 복잡도를 가진다. 투포인터 풀이보다 느려졌다."
   ]
  },
  {
   "cell_type": "markdown",
   "metadata": {},
   "source": [
    "# bisect 모듈 + 슬라이싱 "
   ]
  },
  {
   "cell_type": "code",
   "execution_count": 7,
   "metadata": {},
   "outputs": [],
   "source": [
    "def twoSum(numbers: List[int], target: int) -> List[int]:\n",
    "    for k, v in enumerate(numbers):\n",
    "        expected = target - v\n",
    "        nums = numbers[k + 1:]\n",
    "        i = bisect.bisect_left(nums, expected)\n",
    "        if i < len(nums) and numbers[i + k + 1] == expected:\n",
    "            return k + 1, i + k + 2"
   ]
  },
  {
   "cell_type": "code",
   "execution_count": 8,
   "metadata": {},
   "outputs": [
    {
     "data": {
      "text/plain": [
       "(1, 2)"
      ]
     },
     "execution_count": 8,
     "metadata": {},
     "output_type": "execute_result"
    }
   ],
   "source": [
    "twoSum(numbers, target)"
   ]
  },
  {
   "cell_type": "markdown",
   "metadata": {},
   "source": [
    "슬라이싱을 사용하면 풀이가 엄청 느려진다. bisect_left의 lo 패러미터를 이용해 왼쪽 범위를 제한해 슬라이싱을 사용하지 않아도 된다."
   ]
  },
  {
   "cell_type": "markdown",
   "metadata": {},
   "source": [
    "# bisect 모듈 + 슬라이싱 제거"
   ]
  },
  {
   "cell_type": "code",
   "execution_count": 9,
   "metadata": {},
   "outputs": [],
   "source": [
    "def twoSum(numbers: List[int], target: int) -> List[int]:\n",
    "    for k, v in enumerate(numbers):\n",
    "        expected = target - v\n",
    "        i = bisect.bisect_left(numbers, expected, lo = k + 1)\n",
    "        if i < len(numbers) and numbers[i] == expected:\n",
    "            return k + 1, i + 1"
   ]
  },
  {
   "cell_type": "code",
   "execution_count": 10,
   "metadata": {},
   "outputs": [
    {
     "data": {
      "text/plain": [
       "(1, 2)"
      ]
     },
     "execution_count": 10,
     "metadata": {},
     "output_type": "execute_result"
    }
   ],
   "source": [
    "twoSum(numbers, target)"
   ]
  },
  {
   "cell_type": "markdown",
   "metadata": {},
   "source": [
    "슬라이싱을 제거하고 이진 검색을 모듈로 대체하니 투포인터 풀이와 속도가 거의 비슷해졌다. <br>\n",
    "파이썬의 슬라이싱은 매번 새롭게 객체를 생성해서 할당하므로 엄청 큰 배열의 경우 슬라이싱으로 새로운 객체를 생성하는 데 상당한 시간이 들며 거기에 배열의 기를 새로 계산해야하여 그에 따른 코스트가 소모된다. 따라서 테스트 케이스의 입력값이 클 경우 슬라이싱이 비효율적일 수 있다."
   ]
  }
 ],
 "metadata": {
  "kernelspec": {
   "display_name": "Python 3",
   "language": "python",
   "name": "python3"
  },
  "language_info": {
   "codemirror_mode": {
    "name": "ipython",
    "version": 3
   },
   "file_extension": ".py",
   "mimetype": "text/x-python",
   "name": "python",
   "nbconvert_exporter": "python",
   "pygments_lexer": "ipython3",
   "version": "3.7.6"
  },
  "latex_envs": {
   "LaTeX_envs_menu_present": true,
   "autoclose": false,
   "autocomplete": true,
   "bibliofile": "biblio.bib",
   "cite_by": "apalike",
   "current_citInitial": 1,
   "eqLabelWithNumbers": true,
   "eqNumInitial": 1,
   "hotkeys": {
    "equation": "Ctrl-E",
    "itemize": "Ctrl-I"
   },
   "labels_anchors": false,
   "latex_user_defs": false,
   "report_style_numbering": false,
   "user_envs_cfg": false
  },
  "toc": {
   "base_numbering": 1,
   "nav_menu": {},
   "number_sections": true,
   "sideBar": true,
   "skip_h1_title": false,
   "title_cell": "Table of Contents",
   "title_sidebar": "Contents",
   "toc_cell": false,
   "toc_position": {},
   "toc_section_display": true,
   "toc_window_display": false
  }
 },
 "nbformat": 4,
 "nbformat_minor": 4
}
