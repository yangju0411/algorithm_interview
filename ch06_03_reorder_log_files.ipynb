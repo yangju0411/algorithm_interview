{
 "cells": [
  {
   "cell_type": "markdown",
   "metadata": {},
   "source": [
    "리트코드 로그파일 재정렬: https://leetcode.com/problems/reorder-data-in-log-files/"
   ]
  },
  {
   "cell_type": "code",
   "execution_count": 1,
   "metadata": {
    "ExecuteTime": {
     "end_time": "2021-06-21T08:39:38.215046Z",
     "start_time": "2021-06-21T08:39:38.208007Z"
    }
   },
   "outputs": [],
   "source": [
    "import collections\n",
    "import heapq\n",
    "import functools\n",
    "import itertools\n",
    "import re\n",
    "import sys\n",
    "import math\n",
    "import bisect\n",
    "from typing import *"
   ]
  },
  {
   "cell_type": "markdown",
   "metadata": {},
   "source": [
    "<p>각각의 로그가 space로 구분된 문자열로 주어진다. 이 때 첫 단어는 식별자이다. <br>\n",
    "문자로 된 로그 letter-logs는 식별자를 제외한 모든 단어가 소문자로만 구성되어 있다. <br>\n",
    "숫자로 된 로그 digit-logs는 식별자를 제외한 모든 단어가 숫자로만 구성되어 있다.\n",
    "</p>\n",
    "<p>\n",
    "    **정렬 기준** <br>\n",
    "    1. 문자 로그는 모든 숫자 로그보다 앞에 온다.<br>\n",
    "    2. 문자로그끼리는 사전순 lexicograpgically으로 정렬된다. 식별자의 경우는 순서에 영향을 주지 않지만 문자 로그에서 본문이 동일할 경우 식별자의 사전 순으로 동차처리한다.<br>\n",
    "    3. 숫자 로그는 기존 순서 그대로 간다.\n",
    "    </p>"
   ]
  },
  {
   "cell_type": "code",
   "execution_count": 2,
   "metadata": {
    "ExecuteTime": {
     "end_time": "2021-06-21T08:49:35.147263Z",
     "start_time": "2021-06-21T08:49:35.140767Z"
    }
   },
   "outputs": [],
   "source": [
    "logs1 = [\"dig1 8 1 5 1\",\"let1 art can\",\"dig2 3 6\",\"let2 own kit dig\",\"let3 art zero\"]\n",
    "logs2 = [\"a1 9 2 3 1\",\"g1 act car\",\"zo4 4 7\",\"ab1 off key dog\",\"a8 act zoo\"]"
   ]
  },
  {
   "cell_type": "markdown",
   "metadata": {},
   "source": [
    "# 람다와 +연산자를 이용"
   ]
  },
  {
   "cell_type": "code",
   "execution_count": 4,
   "metadata": {
    "ExecuteTime": {
     "end_time": "2021-06-21T08:58:59.970802Z",
     "start_time": "2021-06-21T08:58:59.959966Z"
    }
   },
   "outputs": [],
   "source": [
    "def reorderLogFiles(logs: List[str]) -> List[str]:\n",
    "    digits, letters = [], []\n",
    "    for log in logs:\n",
    "        if log.split()[1].isdigit(): # 식별자를 제외한 첫 로그가 숫자인 경우\n",
    "            digits.append(log)\n",
    "        else:\n",
    "            letters.append(log)\n",
    "    \n",
    "    letters.sort(key = lambda x: (x.split()[1:], x.split()[0])) # 첫 정렬 기준은 식별자 이외의 로그, 두번째는 식별자\n",
    "    \n",
    "    return letters + digits"
   ]
  },
  {
   "cell_type": "code",
   "execution_count": 5,
   "metadata": {
    "ExecuteTime": {
     "end_time": "2021-06-21T08:59:16.943961Z",
     "start_time": "2021-06-21T08:59:16.934597Z"
    }
   },
   "outputs": [
    {
     "data": {
      "text/plain": [
       "['let1 art can',\n",
       " 'let3 art zero',\n",
       " 'let2 own kit dig',\n",
       " 'dig1 8 1 5 1',\n",
       " 'dig2 3 6']"
      ]
     },
     "execution_count": 5,
     "metadata": {},
     "output_type": "execute_result"
    }
   ],
   "source": [
    "reorderLogFiles(logs1)"
   ]
  },
  {
   "cell_type": "code",
   "execution_count": 6,
   "metadata": {
    "ExecuteTime": {
     "end_time": "2021-06-21T08:59:21.327855Z",
     "start_time": "2021-06-21T08:59:21.319315Z"
    }
   },
   "outputs": [
    {
     "data": {
      "text/plain": [
       "['g1 act car', 'a8 act zoo', 'ab1 off key dog', 'a1 9 2 3 1', 'zo4 4 7']"
      ]
     },
     "execution_count": 6,
     "metadata": {},
     "output_type": "execute_result"
    }
   ],
   "source": [
    "reorderLogFiles(logs2)"
   ]
  },
  {
   "cell_type": "markdown",
   "metadata": {},
   "source": [
    "우선 문자 로그가 숫자 로그보다 앞에 온다는 규칙을 지키기 위해 문자 로그와 숫자 로그를 분리한다. 숫자로그는 순서를 유지해주기만 하면 되므로 별도의 처리를 하지 않고 문자 로그만 정렬 후 나중에 문자로그가 앞서게 + 연산자로 합쳐준다. 파이썬에서 리스트 간의 + 연산자는 리스트를 병합한다. <br>\n",
    "숫자 로그와 문자 로그를 분리하는 기준은 split()함수를 통해 space로 구분된 문자들을 분리한 것 중 인덱스 1번(즉, 2번째로 식별자 이후 첫 로그)이 isdigit()에 걸리면 숫자 로그, 아니면 문자 로그이다. <br>\n",
    "이후 문자 로그들을 저장한 리스트를 정렬해주는데 이 때 sort() 메서드에 정렬 기준으로 람다 함수를 사용한다. 식별자를 제외한 로그들의 사전 순으로 정렬하고 전부 일치하여 동차일 경우 그 다음 정렬 기준으로 식별자로 정렬해준다.\n"
   ]
  },
  {
   "cell_type": "markdown",
   "metadata": {},
   "source": [
    "## 일반 함수 사용"
   ]
  },
  {
   "cell_type": "markdown",
   "metadata": {},
   "source": [
    "람다 표현식은 식별자 없이 실행 가능한 함수를 말한다. 함수 선언 없이도 하나의 표현식으로 간단하게 함수를 나타낼 수 있다. <br>\n",
    "람다 식을 사용하지 않고 함수로도 풀 수 있다."
   ]
  },
  {
   "cell_type": "code",
   "execution_count": 7,
   "metadata": {
    "ExecuteTime": {
     "end_time": "2021-06-21T09:06:26.772128Z",
     "start_time": "2021-06-21T09:06:26.766175Z"
    }
   },
   "outputs": [],
   "source": [
    "def func(x):\n",
    "    return x.split()[1], x.split()[0]"
   ]
  },
  {
   "cell_type": "code",
   "execution_count": 8,
   "metadata": {
    "ExecuteTime": {
     "end_time": "2021-06-21T09:06:40.816555Z",
     "start_time": "2021-06-21T09:06:40.807388Z"
    }
   },
   "outputs": [],
   "source": [
    "def reorderLogFiles(logs: List[str]) -> List[str]:\n",
    "    digits, letters = [], []\n",
    "    for log in logs:\n",
    "        if log.split()[1].isdigit(): # 식별자를 제외한 첫 로그가 숫자인 경우\n",
    "            digits.append(log)\n",
    "        else:\n",
    "            letters.append(log)\n",
    "    \n",
    "    letters.sort(key = func) # 첫 정렬 기준은 식별자 이외의 로그, 두번째는 식별자\n",
    "    \n",
    "    return letters + digits"
   ]
  },
  {
   "cell_type": "code",
   "execution_count": 9,
   "metadata": {
    "ExecuteTime": {
     "end_time": "2021-06-21T09:06:48.006794Z",
     "start_time": "2021-06-21T09:06:47.998635Z"
    }
   },
   "outputs": [
    {
     "data": {
      "text/plain": [
       "['let1 art can',\n",
       " 'let3 art zero',\n",
       " 'let2 own kit dig',\n",
       " 'dig1 8 1 5 1',\n",
       " 'dig2 3 6']"
      ]
     },
     "execution_count": 9,
     "metadata": {},
     "output_type": "execute_result"
    }
   ],
   "source": [
    "reorderLogFiles(logs1)"
   ]
  }
 ],
 "metadata": {
  "kernelspec": {
   "display_name": "Python 3",
   "language": "python",
   "name": "python3"
  },
  "language_info": {
   "codemirror_mode": {
    "name": "ipython",
    "version": 3
   },
   "file_extension": ".py",
   "mimetype": "text/x-python",
   "name": "python",
   "nbconvert_exporter": "python",
   "pygments_lexer": "ipython3",
   "version": "3.7.1"
  },
  "toc": {
   "base_numbering": 1,
   "nav_menu": {},
   "number_sections": true,
   "sideBar": true,
   "skip_h1_title": false,
   "title_cell": "Table of Contents",
   "title_sidebar": "Contents",
   "toc_cell": false,
   "toc_position": {},
   "toc_section_display": true,
   "toc_window_display": false
  }
 },
 "nbformat": 4,
 "nbformat_minor": 2
}
