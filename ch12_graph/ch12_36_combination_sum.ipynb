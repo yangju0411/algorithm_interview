{
 "cells": [
  {
   "cell_type": "markdown",
   "metadata": {},
   "source": [
    "리트코드 조합의 합: https://leetcode.com/problems/combination-sum/"
   ]
  },
  {
   "cell_type": "code",
   "execution_count": 1,
   "metadata": {},
   "outputs": [],
   "source": [
    "import collections\n",
    "import heapq\n",
    "import functools\n",
    "import itertools\n",
    "import re\n",
    "import sys\n",
    "import math\n",
    "import bisect\n",
    "from typing import *"
   ]
  },
  {
   "cell_type": "code",
   "execution_count": 2,
   "metadata": {},
   "outputs": [],
   "source": [
    "candidates = [2,3,6,7]\n",
    "target = 7"
   ]
  },
  {
   "cell_type": "markdown",
   "metadata": {},
   "source": [
    "# DFS로 중복 조합 그래프 탐색 "
   ]
  },
  {
   "cell_type": "code",
   "execution_count": 3,
   "metadata": {},
   "outputs": [],
   "source": [
    "def combinationSum(candidates: List[int], target: int) -> List[List[int]]:\n",
    "    result = []\n",
    "    \n",
    "    def dfs(csum, index, path):\n",
    "        # 종료 조건\n",
    "        if csum < 0: # 목표보다 크면 종료\n",
    "            return\n",
    "        if csum == 0: # 목표와 일치하면  path에 추가하고 종료\n",
    "            result.append(path)\n",
    "            return\n",
    "        \n",
    "        # 자신부터 하위 원소까지 나열 재귀 호출\n",
    "        for i in range(index, len(candidates)):\n",
    "            dfs(csum - candidates[i], i, path + [candidates[i]])\n",
    "            \n",
    "    dfs(target, 0, [])\n",
    "    return result"
   ]
  },
  {
   "cell_type": "code",
   "execution_count": 4,
   "metadata": {},
   "outputs": [
    {
     "data": {
      "text/plain": [
       "[[2, 2, 3], [7]]"
      ]
     },
     "execution_count": 4,
     "metadata": {},
     "output_type": "execute_result"
    }
   ],
   "source": [
    "combinationSum(candidates, target)"
   ]
  },
  {
   "cell_type": "markdown",
   "metadata": {},
   "source": [
    "csum의 초기값은 target이며 재귀할 때 현재 수를 빼준다. 기본적으로 빼기나 음수가 없고 양수를 더하는 과정이기 때문에 종료 조건으로는 csum이 0보다 작은지, 일치하는지만 파악하면 된다. <br>\n",
    "csum이 0이 된다면 target과 일치하는 것이므로 현재까지의 경로(path)를 result에 저장한다. <br>\n",
    "csum이 0보다 작아진다면 목표값보다 현재 조합이 크다는 뜻이다. 만약 빼기가 있었을 경우는 달랐겠지만 이 문제는 양수의 더하기이므로 개선의 여지가 없으므로 종료한다."
   ]
  }
 ],
 "metadata": {
  "kernelspec": {
   "display_name": "Python 3",
   "language": "python",
   "name": "python3"
  },
  "language_info": {
   "codemirror_mode": {
    "name": "ipython",
    "version": 3
   },
   "file_extension": ".py",
   "mimetype": "text/x-python",
   "name": "python",
   "nbconvert_exporter": "python",
   "pygments_lexer": "ipython3",
   "version": "3.7.6"
  },
  "latex_envs": {
   "LaTeX_envs_menu_present": true,
   "autoclose": false,
   "autocomplete": true,
   "bibliofile": "biblio.bib",
   "cite_by": "apalike",
   "current_citInitial": 1,
   "eqLabelWithNumbers": true,
   "eqNumInitial": 1,
   "hotkeys": {
    "equation": "Ctrl-E",
    "itemize": "Ctrl-I"
   },
   "labels_anchors": false,
   "latex_user_defs": false,
   "report_style_numbering": false,
   "user_envs_cfg": false
  },
  "toc": {
   "base_numbering": 1,
   "nav_menu": {},
   "number_sections": true,
   "sideBar": true,
   "skip_h1_title": false,
   "title_cell": "Table of Contents",
   "title_sidebar": "Contents",
   "toc_cell": false,
   "toc_position": {},
   "toc_section_display": true,
   "toc_window_display": false
  }
 },
 "nbformat": 4,
 "nbformat_minor": 4
}
