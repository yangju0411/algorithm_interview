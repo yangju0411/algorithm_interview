{
 "cells": [
  {
   "cell_type": "markdown",
   "metadata": {},
   "source": [
    "리트코드 코스 스케쥴: https://leetcode.com/problems/course-schedule/"
   ]
  },
  {
   "cell_type": "code",
   "execution_count": 1,
   "metadata": {},
   "outputs": [],
   "source": [
    "import collections\n",
    "import heapq\n",
    "import functools\n",
    "import itertools\n",
    "import re\n",
    "import sys\n",
    "import math\n",
    "import bisect\n",
    "from typing import *"
   ]
  },
  {
   "cell_type": "code",
   "execution_count": 2,
   "metadata": {},
   "outputs": [],
   "source": [
    "numCourses1 = 2\n",
    "prerequisites1 = [[1,0]]"
   ]
  },
  {
   "cell_type": "code",
   "execution_count": 3,
   "metadata": {},
   "outputs": [],
   "source": [
    "numCourses2 = 2\n",
    "prerequisites2 = [[1,0],[0,1]]"
   ]
  },
  {
   "cell_type": "markdown",
   "metadata": {},
   "source": [
    "그래프가 순환 구조인지를 판별하는 문제이다. <br>\n",
    "예를 들어 첫 번째 테스트 케이스는 코스의 개수가 2개로 1을 완료하려면 0을 끝내면 된다라는 뜻이다. 이는 순환 구조가 아니다. <br>\n",
    "반면 두 번째 테스트 케이스는 1을 끝내려면 0을, 0을 끝내려면 1을 끝내야 하므로 순환이다."
   ]
  },
  {
   "cell_type": "markdown",
   "metadata": {},
   "source": [
    "# DFS로 순환 구조 판별"
   ]
  },
  {
   "cell_type": "code",
   "execution_count": 4,
   "metadata": {},
   "outputs": [],
   "source": [
    "def canFinish(numCourses: int, prerequisites: List[List[int]]) -> bool:\n",
    "    graph = collections.defaultdict(list)\n",
    "    # 그래프 구성\n",
    "    for x, y in prerequisites:\n",
    "        graph[x].append(y)\n",
    "    \n",
    "    traced = set() # 방문한 정점 저장\n",
    "    \n",
    "    def dfs(i):\n",
    "        # 순환 구조이면 False\n",
    "        if i in traced:\n",
    "            return False\n",
    "        \n",
    "        traced.add(i)\n",
    "        for y in graph[i]:\n",
    "            if not dfs(y):\n",
    "                return False\n",
    "        # 탐색 종료 후 순환 노드 삭제\n",
    "        traced.remove(i)\n",
    "        \n",
    "        return True\n",
    "    \n",
    "    # 순환 구조 판별\n",
    "    for x in list(graph):\n",
    "        if not dfs(x):\n",
    "            return False\n",
    "    \n",
    "    return True"
   ]
  },
  {
   "cell_type": "code",
   "execution_count": 5,
   "metadata": {},
   "outputs": [
    {
     "data": {
      "text/plain": [
       "True"
      ]
     },
     "execution_count": 5,
     "metadata": {},
     "output_type": "execute_result"
    }
   ],
   "source": [
    "canFinish(numCourses1, prerequisites1)"
   ]
  },
  {
   "cell_type": "code",
   "execution_count": 6,
   "metadata": {},
   "outputs": [
    {
     "data": {
      "text/plain": [
       "False"
      ]
     },
     "execution_count": 6,
     "metadata": {},
     "output_type": "execute_result"
    }
   ],
   "source": [
    "canFinish(numCourses2, prerequisites2)"
   ]
  },
  {
   "cell_type": "markdown",
   "metadata": {},
   "source": [
    "DFS를 통해 순환 구조를 파악한다. <br>\n",
    "이미 방문한 정점 목록을 저장할 traced set를 만들어주고 탐색한다. <br>\n",
    "탐색할 때 이미 방문한 정점을 다시 방문한다면 순환 구조이므로 False를 반환한다. <br>\n",
    "그리고 traced에서 노드를 삭제하는 과정도 거쳐야 하는데 이는 그대로 놔두면 형제 노드가 방문한 노드도 남게 되어 순환이라고 잘못 판단하기 때문이다."
   ]
  },
  {
   "cell_type": "markdown",
   "metadata": {},
   "source": [
    "# 가지치기를 이용한 최적화 "
   ]
  },
  {
   "cell_type": "code",
   "execution_count": 7,
   "metadata": {},
   "outputs": [],
   "source": [
    "def canFinish(numCourses: int, prerequisites: List[List[int]]) -> bool:\n",
    "    graph = collections.defaultdict(list)\n",
    "    # 그래프 구성\n",
    "    for x, y in prerequisites:\n",
    "        graph[x].append(y)\n",
    "    \n",
    "    traced = set() # 방문한 정점 저장\n",
    "    visited = set() # 방문한 정점 저장\n",
    "    \n",
    "    def dfs(i):\n",
    "        # 순환 구조이면 False\n",
    "        if i in traced:\n",
    "            return False\n",
    "        \n",
    "        if i in visited:\n",
    "            return True\n",
    "        \n",
    "        traced.add(i)\n",
    "        for y in graph[i]:\n",
    "            if not dfs(y):\n",
    "                return False\n",
    "        # 탐색 종료 후 순환 노드 삭제\n",
    "        traced.remove(i)\n",
    "        \n",
    "        # 탐색 종료 후 방문 노드 추가\n",
    "        visited.add(i)\n",
    "        \n",
    "        return True\n",
    "    \n",
    "    # 순환 구조 판별\n",
    "    for x in list(graph):\n",
    "        if not dfs(x):\n",
    "            return False\n",
    "    \n",
    "    return True"
   ]
  },
  {
   "cell_type": "code",
   "execution_count": 8,
   "metadata": {},
   "outputs": [
    {
     "data": {
      "text/plain": [
       "True"
      ]
     },
     "execution_count": 8,
     "metadata": {},
     "output_type": "execute_result"
    }
   ],
   "source": [
    "canFinish(numCourses1, prerequisites1)"
   ]
  },
  {
   "cell_type": "code",
   "execution_count": 9,
   "metadata": {},
   "outputs": [
    {
     "data": {
      "text/plain": [
       "False"
      ]
     },
     "execution_count": 9,
     "metadata": {},
     "output_type": "execute_result"
    }
   ],
   "source": [
    "canFinish(numCourses2, prerequisites2)"
   ]
  },
  {
   "cell_type": "markdown",
   "metadata": {},
   "source": [
    "DFS에 가지치기가 들어간 풀이이다. <br>\n",
    "방문한 정점을 저장하는 visited set을 새로 추가한다. <br>\n",
    "traced와 visited 모두 방문한 정점을 저장하니까 헷갈릴 수 있는데 차이는 탐색 전후로 노드를 추가하는 시점이다.<br>\n",
    "traced는 순환 구조를 발견했을 시 false를 반환하기 위한 용도이고 visited는 이미 탐색이 완료된 그래프를 불필요하게 탐색하지 않도록 가지치기하는 용도이다. 이렇게 가지치기를 적용하여 불필요한 탐색을 줄여 더 빠른 속도로 풀이할 수 있다."
   ]
  }
 ],
 "metadata": {
  "kernelspec": {
   "display_name": "Python 3",
   "language": "python",
   "name": "python3"
  },
  "language_info": {
   "codemirror_mode": {
    "name": "ipython",
    "version": 3
   },
   "file_extension": ".py",
   "mimetype": "text/x-python",
   "name": "python",
   "nbconvert_exporter": "python",
   "pygments_lexer": "ipython3",
   "version": "3.7.6"
  },
  "latex_envs": {
   "LaTeX_envs_menu_present": true,
   "autoclose": false,
   "autocomplete": true,
   "bibliofile": "biblio.bib",
   "cite_by": "apalike",
   "current_citInitial": 1,
   "eqLabelWithNumbers": true,
   "eqNumInitial": 1,
   "hotkeys": {
    "equation": "Ctrl-E",
    "itemize": "Ctrl-I"
   },
   "labels_anchors": false,
   "latex_user_defs": false,
   "report_style_numbering": false,
   "user_envs_cfg": false
  },
  "toc": {
   "base_numbering": 1,
   "nav_menu": {},
   "number_sections": true,
   "sideBar": true,
   "skip_h1_title": false,
   "title_cell": "Table of Contents",
   "title_sidebar": "Contents",
   "toc_cell": false,
   "toc_position": {},
   "toc_section_display": true,
   "toc_window_display": false
  }
 },
 "nbformat": 4,
 "nbformat_minor": 4
}
