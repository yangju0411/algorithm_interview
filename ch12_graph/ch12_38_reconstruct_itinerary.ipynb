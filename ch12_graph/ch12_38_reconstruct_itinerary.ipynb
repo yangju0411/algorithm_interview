{
 "cells": [
  {
   "cell_type": "markdown",
   "metadata": {},
   "source": [
    "리트코드 일정 재구성: https://leetcode.com/problems/reconstruct-itinerary/"
   ]
  },
  {
   "cell_type": "code",
   "execution_count": 1,
   "metadata": {},
   "outputs": [],
   "source": [
    "import collections\n",
    "import heapq\n",
    "import functools\n",
    "import itertools\n",
    "import re\n",
    "import sys\n",
    "import math\n",
    "import bisect\n",
    "from typing import *"
   ]
  },
  {
   "cell_type": "code",
   "execution_count": 2,
   "metadata": {},
   "outputs": [],
   "source": [
    "tickets1 = [[\"MUC\",\"LHR\"],[\"JFK\",\"MUC\"],[\"SFO\",\"SJC\"],[\"LHR\",\"SFO\"]]\n",
    "tickets2 = [[\"JFK\",\"SFO\"],[\"JFK\",\"ATL\"],[\"SFO\",\"ATL\"],[\"ATL\",\"JFK\"],[\"ATL\",\"SFO\"]]"
   ]
  },
  {
   "cell_type": "markdown",
   "metadata": {},
   "source": [
    "# DFS로 일정 그래프 구성 "
   ]
  },
  {
   "cell_type": "code",
   "execution_count": 3,
   "metadata": {},
   "outputs": [],
   "source": [
    "def findItinerary(tickets: List[List[str]]) -> List[str]:\n",
    "    graph = collections.defaultdict(list)\n",
    "    # 그래프 순서대로 구성\n",
    "    for a, b in sorted(tickets):\n",
    "        graph[a].append(b)\n",
    "    # 노드: [목표 노드의 리스트]\n",
    "    \n",
    "    route = []\n",
    "    def dfs(a):\n",
    "        # 첫번째 값을 읽어 어휘 순 방문\n",
    "        while graph[a]:\n",
    "            dfs(graph[a].pop(0))\n",
    "        route.append(a)\n",
    "        \n",
    "    dfs('JFK') # JFK에서 출발하므로\n",
    "    # 다시 뒤집어 어휘 순 결과로\n",
    "    return route[::-1]"
   ]
  },
  {
   "cell_type": "code",
   "execution_count": 4,
   "metadata": {},
   "outputs": [
    {
     "data": {
      "text/plain": [
       "['JFK', 'MUC', 'LHR', 'SFO', 'SJC']"
      ]
     },
     "execution_count": 4,
     "metadata": {},
     "output_type": "execute_result"
    }
   ],
   "source": [
    "findItinerary(tickets1)"
   ]
  },
  {
   "cell_type": "code",
   "execution_count": 5,
   "metadata": {},
   "outputs": [
    {
     "data": {
      "text/plain": [
       "['JFK', 'ATL', 'JFK', 'SFO', 'ATL', 'SFO']"
      ]
     },
     "execution_count": 5,
     "metadata": {},
     "output_type": "execute_result"
    }
   ],
   "source": [
    "findItinerary(tickets2)"
   ]
  },
  {
   "cell_type": "markdown",
   "metadata": {},
   "source": [
    "그래프는 딕셔너리를 통해 구성하며 출발지: [도착지 리스트] 형태로 구성한다. <br>\n",
    "문제 조건에 JFK부터 출발하며 사전순으로 방문하라고 나와 있으므로 정렬하여 딕셔너리에 넣어준다. <br>\n",
    "도착지 리스트를 pop해가며 dfs하며 route에 추가한 후 이를 역순으로 뒤집어 결과를 반환한다. "
   ]
  },
  {
   "cell_type": "markdown",
   "metadata": {},
   "source": [
    "# 스택 연산으로 큐 최적화 "
   ]
  },
  {
   "cell_type": "code",
   "execution_count": 6,
   "metadata": {},
   "outputs": [],
   "source": [
    "def findItinerary(tickets: List[List[str]]) -> List[str]:\n",
    "    graph = collections.defaultdict(list)\n",
    "    # 그래프 순서대로 구성\n",
    "    for a, b in sorted(tickets, reverse = True):\n",
    "        graph[a].append(b)\n",
    "    # 노드: [목표 노드의 리스트]\n",
    "    \n",
    "    route = []\n",
    "    def dfs(a):\n",
    "        # 첫번째 값을 읽어 어휘 순 방문\n",
    "        while graph[a]:\n",
    "            dfs(graph[a].pop())\n",
    "        route.append(a)\n",
    "        \n",
    "    dfs('JFK') # JFK에서 출발하므로\n",
    "    # 다시 뒤집어 어휘 순 결과로\n",
    "    return route[::-1]"
   ]
  },
  {
   "cell_type": "code",
   "execution_count": 7,
   "metadata": {},
   "outputs": [
    {
     "data": {
      "text/plain": [
       "['JFK', 'MUC', 'LHR', 'SFO', 'SJC']"
      ]
     },
     "execution_count": 7,
     "metadata": {},
     "output_type": "execute_result"
    }
   ],
   "source": [
    "findItinerary(tickets1)"
   ]
  },
  {
   "cell_type": "code",
   "execution_count": 8,
   "metadata": {},
   "outputs": [
    {
     "data": {
      "text/plain": [
       "['JFK', 'ATL', 'JFK', 'SFO', 'ATL', 'SFO']"
      ]
     },
     "execution_count": 8,
     "metadata": {},
     "output_type": "execute_result"
    }
   ],
   "source": [
    "findItinerary(tickets2)"
   ]
  },
  {
   "cell_type": "markdown",
   "metadata": {},
   "source": [
    "딕셔너리에 넣을 때 역순으로 정렬하여 넣어준다. <br>\n",
    "이렇게 하면 리스트의 O(n) 복잡도를 갖는 pop(0) 연산이 아닌 pop() 메서드를 쓸 수 있다."
   ]
  },
  {
   "cell_type": "markdown",
   "metadata": {},
   "source": [
    "# 재귀가 아닌 스택을 사용한 반복"
   ]
  },
  {
   "cell_type": "code",
   "execution_count": 9,
   "metadata": {},
   "outputs": [],
   "source": [
    "def findItinerary(tickets: List[List[str]]) -> List[str]:\n",
    "    graph = collections.defaultdict(list)\n",
    "    # 그래프 순서대로 구성\n",
    "    for a, b in sorted(tickets):\n",
    "        graph[a].append(b)\n",
    "    # 노드: [목표 노드의 리스트]\n",
    "    \n",
    "    route, stack = [], ['JFK'] # 시작지점은 JFK\n",
    "    while stack:\n",
    "        # 반복으로 스택을 구성하되 막히는 부분에서 풀어내는 처리\n",
    "        while graph[stack[-1]]:\n",
    "            stack.append(graph[stack[-1]].pop(0))\n",
    "        route.append(stack.pop())\n",
    "    \n",
    "    # 다시 뒤집어 어휘 순 결과로\n",
    "    return route[::-1]"
   ]
  },
  {
   "cell_type": "code",
   "execution_count": 10,
   "metadata": {},
   "outputs": [
    {
     "data": {
      "text/plain": [
       "['JFK', 'MUC', 'LHR', 'SFO', 'SJC']"
      ]
     },
     "execution_count": 10,
     "metadata": {},
     "output_type": "execute_result"
    }
   ],
   "source": [
    "findItinerary(tickets1)"
   ]
  },
  {
   "cell_type": "code",
   "execution_count": 11,
   "metadata": {},
   "outputs": [
    {
     "data": {
      "text/plain": [
       "['JFK', 'ATL', 'JFK', 'SFO', 'ATL', 'SFO']"
      ]
     },
     "execution_count": 11,
     "metadata": {},
     "output_type": "execute_result"
    }
   ],
   "source": [
    "findItinerary(tickets2)"
   ]
  }
 ],
 "metadata": {
  "kernelspec": {
   "display_name": "Python 3",
   "language": "python",
   "name": "python3"
  },
  "language_info": {
   "codemirror_mode": {
    "name": "ipython",
    "version": 3
   },
   "file_extension": ".py",
   "mimetype": "text/x-python",
   "name": "python",
   "nbconvert_exporter": "python",
   "pygments_lexer": "ipython3",
   "version": "3.7.6"
  },
  "latex_envs": {
   "LaTeX_envs_menu_present": true,
   "autoclose": false,
   "autocomplete": true,
   "bibliofile": "biblio.bib",
   "cite_by": "apalike",
   "current_citInitial": 1,
   "eqLabelWithNumbers": true,
   "eqNumInitial": 1,
   "hotkeys": {
    "equation": "Ctrl-E",
    "itemize": "Ctrl-I"
   },
   "labels_anchors": false,
   "latex_user_defs": false,
   "report_style_numbering": false,
   "user_envs_cfg": false
  },
  "toc": {
   "base_numbering": 1,
   "nav_menu": {},
   "number_sections": true,
   "sideBar": true,
   "skip_h1_title": false,
   "title_cell": "Table of Contents",
   "title_sidebar": "Contents",
   "toc_cell": false,
   "toc_position": {},
   "toc_section_display": true,
   "toc_window_display": false
  }
 },
 "nbformat": 4,
 "nbformat_minor": 4
}
