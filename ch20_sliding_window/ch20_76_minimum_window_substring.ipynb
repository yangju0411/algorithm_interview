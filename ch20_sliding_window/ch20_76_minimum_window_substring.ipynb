{
 "cells": [
  {
   "cell_type": "markdown",
   "metadata": {},
   "source": [
    "리트코드 부분 문자열이 포함된 최소 윈도우: https://leetcode.com/problems/minimum-window-substring/"
   ]
  },
  {
   "cell_type": "code",
   "execution_count": 1,
   "metadata": {},
   "outputs": [],
   "source": [
    "import collections\n",
    "import heapq\n",
    "import functools\n",
    "import itertools\n",
    "import re\n",
    "import sys\n",
    "import math\n",
    "import bisect\n",
    "from typing import *"
   ]
  },
  {
   "cell_type": "code",
   "execution_count": 2,
   "metadata": {},
   "outputs": [],
   "source": [
    "s = \"ADOBECODEBANC\"\n",
    "t = \"ABC\""
   ]
  },
  {
   "cell_type": "markdown",
   "metadata": {},
   "source": [
    "s에서 t에 있는 문자들을 모두 포함하는 최소 크기의 슬라이딩 윈도우를 찾는 문제\n",
    "O(n)의 제한이 있다."
   ]
  },
  {
   "cell_type": "markdown",
   "metadata": {},
   "source": [
    "# 모든 윈도우 크기를 브루트 포스로 탐색"
   ]
  },
  {
   "cell_type": "code",
   "execution_count": 3,
   "metadata": {},
   "outputs": [],
   "source": [
    "def minWindow(s: str, t: str) -> str:\n",
    "    def contains(s_substr_lst: List, t_lst: List):\n",
    "        for t_elem in t_lst:\n",
    "            if t_elem in s_substr_lst:\n",
    "                s_substr_lst.remove(t_elem)\n",
    "            else:\n",
    "                return False\n",
    "        return True\n",
    "\n",
    "    if not s or not t:\n",
    "        return ''\n",
    "\n",
    "    window_size = len(t)\n",
    "\n",
    "    for size in range(window_size, len(s) + 1):\n",
    "        for left in range(len(s) - size + 1):\n",
    "            s_substr = s[left:left + size]\n",
    "            if contains(list(s_substr), list(t)):\n",
    "                return s_substr\n",
    "    return ''"
   ]
  },
  {
   "cell_type": "code",
   "execution_count": 4,
   "metadata": {},
   "outputs": [
    {
     "data": {
      "text/plain": [
       "'BANC'"
      ]
     },
     "execution_count": 4,
     "metadata": {},
     "output_type": "execute_result"
    }
   ],
   "source": [
    "minWindow(s, t)"
   ]
  },
  {
   "cell_type": "markdown",
   "metadata": {},
   "source": [
    "t의 크기부터 시작하여 모든 크기의 윈도우를 탐색하는 방식이다. <br>\n",
    "O(n^2)의 복잡도를 갖기 때문에 TLE가 뜬다."
   ]
  },
  {
   "cell_type": "markdown",
   "metadata": {},
   "source": [
    "# 투 포인터, 슬라이딩 윈도우로 최적화 "
   ]
  },
  {
   "cell_type": "code",
   "execution_count": 5,
   "metadata": {},
   "outputs": [],
   "source": [
    "def minWindow(s: str, t: str) -> str:\n",
    "    need = collections.Counter(t)\n",
    "    missing = len(t)\n",
    "    left = start = end = 0\n",
    "\n",
    "    # 오른쪽 포인터 이동\n",
    "    for right, char in enumerate(s, 1):\n",
    "        missing -= need[char] > 0\n",
    "        need[char] -= 1\n",
    "\n",
    "        # 필요 문자가 0이면 왼쪽 포인터 이동 판단\n",
    "        if missing == 0:\n",
    "            while left < right and need[s[left]] < 0:\n",
    "                need[s[left]] += 1\n",
    "                left += 1\n",
    "\n",
    "            if not end or right - left <= end - start:\n",
    "                start, end = left, right\n",
    "            need[s[left]] += 1\n",
    "            missing += 1\n",
    "            left += 1\n",
    "    return s[start:end]"
   ]
  },
  {
   "cell_type": "code",
   "execution_count": 6,
   "metadata": {},
   "outputs": [
    {
     "data": {
      "text/plain": [
       "'BANC'"
      ]
     },
     "execution_count": 6,
     "metadata": {},
     "output_type": "execute_result"
    }
   ],
   "source": [
    "minWindow(s, t)"
   ]
  },
  {
   "cell_type": "markdown",
   "metadata": {},
   "source": [
    "Counter로 t에서 필요한 문자와 그 수를 세준다. <br>\n",
    "투 포인터를 사용하는데 오른쪽 포인터를 움직여 문자들을 순회하며 문자를 찾으면 Counter로 세둔 것을 하나씩 줄인다. missing은 전체 필요한 문자 수로 이 역시도 줄여줘야 한다. <br>\n",
    "다 찾았으면 0에 위치한 왼쪽 포인터를 줄일 수 있는지 살펴본다. 불필요한 문자를 가리키고 있다면 포인터를 앞으로 이동시켜 최종적으로 윈도우가 최소 크기가 되게 한다."
   ]
  },
  {
   "cell_type": "markdown",
   "metadata": {},
   "source": [
    "# Counter로 좀 더 편리한 풀이 "
   ]
  },
  {
   "cell_type": "code",
   "execution_count": 7,
   "metadata": {},
   "outputs": [],
   "source": [
    "def minWindow(s: str, t: str) -> str:\n",
    "    t_count = collections.Counter(t)\n",
    "    current_count = collections.Counter()\n",
    "\n",
    "    start = float('-inf')\n",
    "    end = float('inf')\n",
    "\n",
    "    left = 0\n",
    "    # 오른쪽 포인터 이동\n",
    "    for right, char in enumerate(s, 1):\n",
    "        current_count[char] += 1\n",
    "\n",
    "        # AND 연산 결과로 왼쪽 포인터 이동 판단\n",
    "        while current_count & t_count == t_count:\n",
    "            if right - left < end - start:\n",
    "                start, end = left, right\n",
    "            current_count[s[left]] -= 1\n",
    "            left += 1\n",
    "\n",
    "    return s[start: end] if end - start <= len(s) else ''"
   ]
  },
  {
   "cell_type": "code",
   "execution_count": 8,
   "metadata": {},
   "outputs": [
    {
     "data": {
      "text/plain": [
       "'BANC'"
      ]
     },
     "execution_count": 8,
     "metadata": {},
     "output_type": "execute_result"
    }
   ],
   "source": [
    "minWindow(s, t)"
   ]
  },
  {
   "cell_type": "markdown",
   "metadata": {},
   "source": [
    "missing을 사용하지 않고 Counter의 AND 연산을 사용해 모든 결과가 포함되는지 여부를 확인할 수 있다."
   ]
  }
 ],
 "metadata": {
  "kernelspec": {
   "display_name": "Python 3",
   "language": "python",
   "name": "python3"
  },
  "language_info": {
   "codemirror_mode": {
    "name": "ipython",
    "version": 3
   },
   "file_extension": ".py",
   "mimetype": "text/x-python",
   "name": "python",
   "nbconvert_exporter": "python",
   "pygments_lexer": "ipython3",
   "version": "3.7.6"
  },
  "latex_envs": {
   "LaTeX_envs_menu_present": true,
   "autoclose": false,
   "autocomplete": true,
   "bibliofile": "biblio.bib",
   "cite_by": "apalike",
   "current_citInitial": 1,
   "eqLabelWithNumbers": true,
   "eqNumInitial": 1,
   "hotkeys": {
    "equation": "Ctrl-E",
    "itemize": "Ctrl-I"
   },
   "labels_anchors": false,
   "latex_user_defs": false,
   "report_style_numbering": false,
   "user_envs_cfg": false
  },
  "toc": {
   "base_numbering": 1,
   "nav_menu": {},
   "number_sections": true,
   "sideBar": true,
   "skip_h1_title": false,
   "title_cell": "Table of Contents",
   "title_sidebar": "Contents",
   "toc_cell": false,
   "toc_position": {},
   "toc_section_display": true,
   "toc_window_display": false
  }
 },
 "nbformat": 4,
 "nbformat_minor": 4
}
