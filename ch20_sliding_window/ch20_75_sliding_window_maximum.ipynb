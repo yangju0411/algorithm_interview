{
 "cells": [
  {
   "cell_type": "markdown",
   "metadata": {},
   "source": [
    "리트코드 최대 슬라이딩 윈도우: https://leetcode.com/problems/sliding-window-maximum/"
   ]
  },
  {
   "cell_type": "code",
   "execution_count": 1,
   "metadata": {},
   "outputs": [],
   "source": [
    "import collections\n",
    "import heapq\n",
    "import functools\n",
    "import itertools\n",
    "import re\n",
    "import sys\n",
    "import math\n",
    "import bisect\n",
    "from typing import *"
   ]
  },
  {
   "cell_type": "code",
   "execution_count": 2,
   "metadata": {},
   "outputs": [],
   "source": [
    "nums = [1,3,-1,-3,5,3,6,7]\n",
    "k = 3"
   ]
  },
  {
   "cell_type": "markdown",
   "metadata": {},
   "source": [
    "슬라이딩 윈도우의 사이즈 k가 주어지고 k크기 슬라이딩 윈도우를 맨 오른쪽까지 움직였을 때 슬라이딩 윈도우 내에서 최댓값이었던 것들을 출력하는 문제"
   ]
  },
  {
   "cell_type": "markdown",
   "metadata": {},
   "source": [
    "# 브루트 포스로 계산 "
   ]
  },
  {
   "cell_type": "code",
   "execution_count": 3,
   "metadata": {},
   "outputs": [],
   "source": [
    "def maxSlidingWindow(nums: List[int], k: int) -> List[int]:\n",
    "    if not nums:\n",
    "        return nums\n",
    "    \n",
    "    r = []\n",
    "    for i in range(len(nums) - k + 1): # 슬라이딩 윈도우 중심점이 갈 수 있는 범위\n",
    "        r.append(max(nums[i:i + k]))\n",
    "        \n",
    "    return r"
   ]
  },
  {
   "cell_type": "code",
   "execution_count": 4,
   "metadata": {},
   "outputs": [
    {
     "data": {
      "text/plain": [
       "[3, 3, 5, 5, 6, 7]"
      ]
     },
     "execution_count": 4,
     "metadata": {},
     "output_type": "execute_result"
    }
   ],
   "source": [
    "maxSlidingWindow(nums, k)"
   ]
  },
  {
   "cell_type": "markdown",
   "metadata": {},
   "source": [
    "슬라이딩 윈도우를 오른쪽으로 옮겨가며 최댓값들을 결과 리스트에 넣는다. <br>\n",
    "시간 복잡도는 O(kn)이다."
   ]
  },
  {
   "cell_type": "markdown",
   "metadata": {},
   "source": [
    "# 큐를 이용한 최적화 "
   ]
  },
  {
   "cell_type": "code",
   "execution_count": 5,
   "metadata": {},
   "outputs": [],
   "source": [
    "def maxSlidingWindow(nums: List[int], k: int) -> List[int]:\n",
    "    results = []\n",
    "    window = collections.deque()\n",
    "    current_max = float('-inf')\n",
    "    current_remain = 0\n",
    "    \n",
    "    for i, v in enumerate(nums):\n",
    "        window.append(v)\n",
    "        current_remain += 1\n",
    "        if i < k - 1:\n",
    "            continue\n",
    "            \n",
    "        # 새로 추가된 값이 기존 최댓값보다 크면 교체\n",
    "        if current_max == float('-inf'):\n",
    "            current_max = max(window)\n",
    "        elif v > current_max:\n",
    "            current_max = v\n",
    "            while current_remain:\n",
    "                window.popleft()\n",
    "                current_remain -= 1\n",
    "        \n",
    "        results.append(current_max)\n",
    "        \n",
    "        # 최댓값이 윈도우에서 빠지면 초기화\n",
    "        if current_max == window.popleft():\n",
    "            current_max = float('-inf')\n",
    "    \n",
    "    return results"
   ]
  },
  {
   "cell_type": "code",
   "execution_count": 6,
   "metadata": {},
   "outputs": [
    {
     "ename": "IndexError",
     "evalue": "pop from an empty deque",
     "output_type": "error",
     "traceback": [
      "\u001b[1;31m---------------------------------------------------------------------------\u001b[0m",
      "\u001b[1;31mIndexError\u001b[0m                                Traceback (most recent call last)",
      "\u001b[1;32m<ipython-input-6-abec0989d970>\u001b[0m in \u001b[0;36m<module>\u001b[1;34m\u001b[0m\n\u001b[1;32m----> 1\u001b[1;33m \u001b[0mmaxSlidingWindow\u001b[0m\u001b[1;33m(\u001b[0m\u001b[0mnums\u001b[0m\u001b[1;33m,\u001b[0m \u001b[0mk\u001b[0m\u001b[1;33m)\u001b[0m\u001b[1;33m\u001b[0m\u001b[1;33m\u001b[0m\u001b[0m\n\u001b[0m",
      "\u001b[1;32m<ipython-input-5-13afeb874190>\u001b[0m in \u001b[0;36mmaxSlidingWindow\u001b[1;34m(nums, k)\u001b[0m\n\u001b[0;32m     17\u001b[0m             \u001b[0mcurrent_max\u001b[0m \u001b[1;33m=\u001b[0m \u001b[0mv\u001b[0m\u001b[1;33m\u001b[0m\u001b[1;33m\u001b[0m\u001b[0m\n\u001b[0;32m     18\u001b[0m             \u001b[1;32mwhile\u001b[0m \u001b[0mcurrent_remain\u001b[0m\u001b[1;33m:\u001b[0m\u001b[1;33m\u001b[0m\u001b[1;33m\u001b[0m\u001b[0m\n\u001b[1;32m---> 19\u001b[1;33m                 \u001b[0mwindow\u001b[0m\u001b[1;33m.\u001b[0m\u001b[0mpopleft\u001b[0m\u001b[1;33m(\u001b[0m\u001b[1;33m)\u001b[0m\u001b[1;33m\u001b[0m\u001b[1;33m\u001b[0m\u001b[0m\n\u001b[0m\u001b[0;32m     20\u001b[0m                 \u001b[0mcurrent_remain\u001b[0m \u001b[1;33m-=\u001b[0m \u001b[1;36m1\u001b[0m\u001b[1;33m\u001b[0m\u001b[1;33m\u001b[0m\u001b[0m\n\u001b[0;32m     21\u001b[0m \u001b[1;33m\u001b[0m\u001b[0m\n",
      "\u001b[1;31mIndexError\u001b[0m: pop from an empty deque"
     ]
    }
   ],
   "source": [
    "maxSlidingWindow(nums, k)"
   ]
  },
  {
   "cell_type": "markdown",
   "metadata": {},
   "source": [
    "윈도우 전체의 최댓값을 계산하는 방식이 아닌 이전의 최댓값을 저장해둔 후 윈도우가 이동하면서 새로운 값을 만날 때만 저장해둔 최댓값과 비교하는 방식을 취하여 계산의 효율을 높혔다. <br>\n",
    "윈도우의 원소는 큐를 만들어 저장해둔 후 이탈할 경우 큐에서 제거하면서 만약 최댓값이었을 경우에는 current_max를 다시 -inf로 돌린다. "
   ]
  },
  {
   "cell_type": "markdown",
   "metadata": {},
   "source": [
    "## TLE 개선"
   ]
  },
  {
   "cell_type": "code",
   "execution_count": null,
   "metadata": {},
   "outputs": [],
   "source": [
    "def maxSlidingWindow(nums: List[int], k: int) -> List[int]:\n",
    "    results = []\n",
    "    window = []\n",
    "    max_idx = 0\n",
    "    \n",
    "    for i, v in enumerate(nums):\n",
    "        if window and i - window[0] == k:\n",
    "            window.pop(0)\n",
    "        \n",
    "        while window and v > nums[window[-1]]:\n",
    "            window.pop()\n",
    "            \n",
    "        window.append(i)\n",
    "        \n",
    "        if i >= k - 1:\n",
    "            results.append(nums[window[0]])\n",
    "    return results"
   ]
  },
  {
   "cell_type": "code",
   "execution_count": null,
   "metadata": {},
   "outputs": [],
   "source": [
    "maxSlidingWindow(nums, k)"
   ]
  },
  {
   "cell_type": "markdown",
   "metadata": {},
   "source": [
    "테스트 케이스 변경으로 책에 나온 최적화 코드도 TLE에 걸린다. 윈도우 사이즈가 매우 커져서 max()를 사용하는 부분이 효율적이지 못한 듯 하다. 인터넷을 찾아보니 값이 아닌 인덱스를 큐에 저장하는 형태로 최적화한 코드가 나왔다. <br>\n",
    "전체 윈도우에 max()를 사용하는 방식이 아닌 최댓값을 만나면 필요없는 작은 값들을 윈도우에서 전부 제거하는 방식이라 효율적이다."
   ]
  }
 ],
 "metadata": {
  "kernelspec": {
   "display_name": "Python 3",
   "language": "python",
   "name": "python3"
  },
  "language_info": {
   "codemirror_mode": {
    "name": "ipython",
    "version": 3
   },
   "file_extension": ".py",
   "mimetype": "text/x-python",
   "name": "python",
   "nbconvert_exporter": "python",
   "pygments_lexer": "ipython3",
   "version": "3.7.6"
  },
  "latex_envs": {
   "LaTeX_envs_menu_present": true,
   "autoclose": false,
   "autocomplete": true,
   "bibliofile": "biblio.bib",
   "cite_by": "apalike",
   "current_citInitial": 1,
   "eqLabelWithNumbers": true,
   "eqNumInitial": 1,
   "hotkeys": {
    "equation": "Ctrl-E",
    "itemize": "Ctrl-I"
   },
   "labels_anchors": false,
   "latex_user_defs": false,
   "report_style_numbering": false,
   "user_envs_cfg": false
  },
  "toc": {
   "base_numbering": 1,
   "nav_menu": {},
   "number_sections": true,
   "sideBar": true,
   "skip_h1_title": false,
   "title_cell": "Table of Contents",
   "title_sidebar": "Contents",
   "toc_cell": false,
   "toc_position": {},
   "toc_section_display": true,
   "toc_window_display": false
  }
 },
 "nbformat": 4,
 "nbformat_minor": 4
}
