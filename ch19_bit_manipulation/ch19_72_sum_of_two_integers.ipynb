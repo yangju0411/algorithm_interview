{
 "cells": [
  {
   "cell_type": "markdown",
   "metadata": {},
   "source": [
    "리트코드 두 정수의 합: https://leetcode.com/problems/sum-of-two-integers/"
   ]
  },
  {
   "cell_type": "code",
   "execution_count": 1,
   "metadata": {},
   "outputs": [],
   "source": [
    "import collections\n",
    "import heapq\n",
    "import functools\n",
    "import itertools\n",
    "import re\n",
    "import sys\n",
    "import math\n",
    "import bisect\n",
    "from typing import *"
   ]
  },
  {
   "cell_type": "code",
   "execution_count": 2,
   "metadata": {},
   "outputs": [],
   "source": [
    "a = 1\n",
    "b = 2"
   ]
  },
  {
   "cell_type": "markdown",
   "metadata": {},
   "source": [
    "+, - 연산자를 사용하지 않고 두 정수의 합 구하는 문제"
   ]
  },
  {
   "cell_type": "markdown",
   "metadata": {},
   "source": [
    "# 전 가산기 구현 "
   ]
  },
  {
   "cell_type": "code",
   "execution_count": 3,
   "metadata": {},
   "outputs": [],
   "source": [
    "def getSum(a: int, b: int) -> int:\n",
    "    MASK = 0xFFFFFFFF\n",
    "    INT_MAX = 0x7FFFFFFF\n",
    "\n",
    "    a_bin = bin(a & MASK)[2:].zfill(32)\n",
    "    b_bin = bin(b & MASK)[2:].zfill(32)\n",
    "\n",
    "    result = []\n",
    "    carry = 0\n",
    "    sum = 0\n",
    "    for i in range(32):\n",
    "        A = int(a_bin[31 - i])\n",
    "        B = int(b_bin[31 - i])\n",
    "\n",
    "        # 전가산기 구현\n",
    "        Q1 = A & B\n",
    "        Q2 = A ^ B\n",
    "        Q3 = Q2 & carry\n",
    "        sum = carry ^ Q2\n",
    "        carry = Q1 | Q3\n",
    "\n",
    "        result.append(str(sum))\n",
    "    if carry == 1:\n",
    "        result.append('1')\n",
    "\n",
    "    # 초과 자릿수 처리\n",
    "    result = int(''.join(result[::-1]), 2) & MASK\n",
    "    # 음수 처리\n",
    "    if result > INT_MAX:\n",
    "        result = ~(result ^ MASK)\n",
    "\n",
    "    return result"
   ]
  },
  {
   "cell_type": "code",
   "execution_count": 4,
   "metadata": {},
   "outputs": [],
   "source": [
    "getSum(a, b)"
   ]
  },
  {
   "cell_type": "markdown",
   "metadata": {},
   "source": [
    "전가산기를 파이썬으로 직접 구현하여 문제를 푼다.<br>\n",
    "비트 별로 처리하기 위해 bin으로 이진수 형태로 만들어준 것에 슬라이싱[2:]로 0b를 떼어 비트만 string형태로 가져오고 zfill 메소드로 32비트를 0으로 꽉 채워준다. 음수일 경우에는 앞에 bin 안에서 11111....인 MASK와 & 연산을 해주어 이미 32비트 꼴로 나타내어져 있다. <br>\n",
    "이제 비트 하나 하나를 반복으로 전가산기로 작업해주어 덧셈을 처리해준다."
   ]
  },
  {
   "cell_type": "markdown",
   "metadata": {},
   "source": [
    "# 좀 더 간소하게 구현된 전가산기"
   ]
  },
  {
   "cell_type": "code",
   "execution_count": 5,
   "metadata": {},
   "outputs": [],
   "source": [
    "def getSum(a: int, b: int) -> int:\n",
    "    MASK = 0xFFFFFFFF\n",
    "    INT_MAX = 0x7FFFFFFF\n",
    "    # 합, 자릿수 처리\n",
    "    while b != 0:\n",
    "        a, b = (a ^ b) & MASK, ((a & b) << 1) & MASK\n",
    "\n",
    "    # 음수 처리\n",
    "    if a > INT_MAX:\n",
    "        a = ~(a ^ MASK)\n",
    "    return a"
   ]
  },
  {
   "cell_type": "code",
   "execution_count": 6,
   "metadata": {},
   "outputs": [],
   "source": [
    "getSum(a, b)"
   ]
  }
 ],
 "metadata": {
  "kernelspec": {
   "display_name": "Python 3",
   "language": "python",
   "name": "python3"
  },
  "language_info": {
   "codemirror_mode": {
    "name": "ipython",
    "version": 3
   },
   "file_extension": ".py",
   "mimetype": "text/x-python",
   "name": "python",
   "nbconvert_exporter": "python",
   "pygments_lexer": "ipython3",
   "version": "3.7.6"
  },
  "latex_envs": {
   "LaTeX_envs_menu_present": true,
   "autoclose": false,
   "autocomplete": true,
   "bibliofile": "biblio.bib",
   "cite_by": "apalike",
   "current_citInitial": 1,
   "eqLabelWithNumbers": true,
   "eqNumInitial": 1,
   "hotkeys": {
    "equation": "Ctrl-E",
    "itemize": "Ctrl-I"
   },
   "labels_anchors": false,
   "latex_user_defs": false,
   "report_style_numbering": false,
   "user_envs_cfg": false
  },
  "toc": {
   "base_numbering": 1,
   "nav_menu": {},
   "number_sections": true,
   "sideBar": true,
   "skip_h1_title": false,
   "title_cell": "Table of Contents",
   "title_sidebar": "Contents",
   "toc_cell": false,
   "toc_position": {},
   "toc_section_display": true,
   "toc_window_display": false
  }
 },
 "nbformat": 4,
 "nbformat_minor": 4
}
