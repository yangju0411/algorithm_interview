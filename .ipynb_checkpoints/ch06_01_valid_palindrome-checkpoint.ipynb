{
 "cells": [
  {
   "cell_type": "markdown",
   "metadata": {},
   "source": [
    "리트코드 유효한 팰린드롬: https://leetcode.com/problems/vaild-palindrome/"
   ]
  },
  {
   "cell_type": "code",
   "execution_count": 1,
   "metadata": {
    "ExecuteTime": {
     "end_time": "2021-06-21T06:09:38.444176Z",
     "start_time": "2021-06-21T06:09:38.436910Z"
    }
   },
   "outputs": [],
   "source": [
    "import collections\n",
    "import heapq\n",
    "import functools\n",
    "import itertools\n",
    "import re\n",
    "import sys\n",
    "import math\n",
    "import bisect\n",
    "from typing import *"
   ]
  },
  {
   "cell_type": "code",
   "execution_count": 2,
   "metadata": {
    "ExecuteTime": {
     "end_time": "2021-06-21T06:09:38.461978Z",
     "start_time": "2021-06-21T06:09:38.449750Z"
    }
   },
   "outputs": [],
   "source": [
    "str1 = \"A man, a plan, a canal: Panama\"\n",
    "str2 = \"race a car\""
   ]
  },
  {
   "cell_type": "markdown",
   "metadata": {},
   "source": [
    "# 리스트로 변환 풀이 "
   ]
  },
  {
   "cell_type": "code",
   "execution_count": 3,
   "metadata": {
    "ExecuteTime": {
     "end_time": "2021-06-21T06:09:38.482888Z",
     "start_time": "2021-06-21T06:09:38.468750Z"
    }
   },
   "outputs": [],
   "source": [
    "# 책 풀이\n",
    "def isPalindrome(s: str) -> bool:\n",
    "    strs = []\n",
    "    for char in s:\n",
    "        if char.isalnum():\n",
    "            strs.append(char.lower())\n",
    "\n",
    "    while len(strs) > 1:\n",
    "        if strs.pop(0) != strs.pop():\n",
    "            return False\n",
    "    return True"
   ]
  },
  {
   "cell_type": "code",
   "execution_count": 4,
   "metadata": {
    "ExecuteTime": {
     "end_time": "2021-06-21T06:09:38.505741Z",
     "start_time": "2021-06-21T06:09:38.490025Z"
    },
    "scrolled": true
   },
   "outputs": [
    {
     "data": {
      "text/plain": [
       "True"
      ]
     },
     "execution_count": 4,
     "metadata": {},
     "output_type": "execute_result"
    }
   ],
   "source": [
    "isPalindrome(str1)"
   ]
  },
  {
   "cell_type": "code",
   "execution_count": 5,
   "metadata": {
    "ExecuteTime": {
     "end_time": "2021-06-21T06:09:38.523967Z",
     "start_time": "2021-06-21T06:09:38.513756Z"
    }
   },
   "outputs": [
    {
     "data": {
      "text/plain": [
       "False"
      ]
     },
     "execution_count": 5,
     "metadata": {},
     "output_type": "execute_result"
    }
   ],
   "source": [
    "isPalindrome(str2)"
   ]
  },
  {
   "cell_type": "code",
   "execution_count": 6,
   "metadata": {
    "ExecuteTime": {
     "end_time": "2021-06-21T06:09:38.537807Z",
     "start_time": "2021-06-21T06:09:38.529553Z"
    }
   },
   "outputs": [],
   "source": [
    "# 내 풀이 - 리스트 컴프리헨션 사용\n",
    "def isPalindrome(s: str) -> bool:\n",
    "    strs = [c.lower() for c in s if c.isalnum()]\n",
    "\n",
    "    while len(strs) > 1:\n",
    "        if strs.pop(0) != strs.pop():\n",
    "            return False\n",
    "    return True"
   ]
  },
  {
   "cell_type": "code",
   "execution_count": 7,
   "metadata": {
    "ExecuteTime": {
     "end_time": "2021-06-21T06:09:38.560259Z",
     "start_time": "2021-06-21T06:09:38.547255Z"
    }
   },
   "outputs": [
    {
     "data": {
      "text/plain": [
       "True"
      ]
     },
     "execution_count": 7,
     "metadata": {},
     "output_type": "execute_result"
    }
   ],
   "source": [
    "isPalindrome(str1)"
   ]
  },
  {
   "cell_type": "code",
   "execution_count": 8,
   "metadata": {
    "ExecuteTime": {
     "end_time": "2021-06-21T06:09:38.578141Z",
     "start_time": "2021-06-21T06:09:38.564783Z"
    }
   },
   "outputs": [
    {
     "data": {
      "text/plain": [
       "False"
      ]
     },
     "execution_count": 8,
     "metadata": {},
     "output_type": "execute_result"
    }
   ],
   "source": [
    "isPalindrome(str2)"
   ]
  },
  {
   "cell_type": "markdown",
   "metadata": {},
   "source": [
    "팰린드롬(회문)의 풀이 방법 중 문자열을 스택의 LIFO 특성을 활용하여 앞 문자와 뒷 문자를 비교하는 것이 있다. <br>\n",
    "파이썬에서는 List에서 스택과 같은 pop() 메서드를 지원하는데 이를 활용하여 앞 문자와 뒷 문자를 각각 pop()하여 비교한다. <br>\n",
    "이 때 한 번이라도 불일치하면 회문이 아니므로 False를 반환한다. 그리고 최종적으로 모두 pop하여 리스트가 비게 되면 반복문을 탈출하게 되고 이는 회문이므로 True를 반환한다. <br>\n",
    "문제에서 영문자와 숫자만 대상으로 하며 대소문자 구분을 해주지 않는다 하였으므로 lower()와 isalnum()을 사용했다.\n"
   ]
  },
  {
   "cell_type": "markdown",
   "metadata": {},
   "source": [
    "# deque 자료구조 사용"
   ]
  },
  {
   "cell_type": "code",
   "execution_count": 9,
   "metadata": {
    "ExecuteTime": {
     "end_time": "2021-06-21T06:09:38.596027Z",
     "start_time": "2021-06-21T06:09:38.582794Z"
    }
   },
   "outputs": [],
   "source": [
    "# 책풀이\n",
    "def isPalindrome(s: str) -> bool:\n",
    "    strs: Deque = collections.deque()\n",
    "    \n",
    "    for char in s:\n",
    "        if char.isalnum():\n",
    "            strs.append(char.lower())\n",
    "    \n",
    "    while len(strs) > 1:\n",
    "        if strs.popleft() != strs.pop():\n",
    "            return False\n",
    "    \n",
    "    return True    "
   ]
  },
  {
   "cell_type": "code",
   "execution_count": 10,
   "metadata": {
    "ExecuteTime": {
     "end_time": "2021-06-21T06:09:38.617944Z",
     "start_time": "2021-06-21T06:09:38.600393Z"
    }
   },
   "outputs": [
    {
     "data": {
      "text/plain": [
       "True"
      ]
     },
     "execution_count": 10,
     "metadata": {},
     "output_type": "execute_result"
    }
   ],
   "source": [
    "isPalindrome(str1)"
   ]
  },
  {
   "cell_type": "code",
   "execution_count": 11,
   "metadata": {
    "ExecuteTime": {
     "end_time": "2021-06-21T06:09:38.635815Z",
     "start_time": "2021-06-21T06:09:38.622084Z"
    }
   },
   "outputs": [
    {
     "data": {
      "text/plain": [
       "False"
      ]
     },
     "execution_count": 11,
     "metadata": {},
     "output_type": "execute_result"
    }
   ],
   "source": [
    "isPalindrome(str2)"
   ]
  },
  {
   "cell_type": "code",
   "execution_count": 12,
   "metadata": {
    "ExecuteTime": {
     "end_time": "2021-06-21T06:09:38.654534Z",
     "start_time": "2021-06-21T06:09:38.640995Z"
    }
   },
   "outputs": [],
   "source": [
    "# 내 풀이 - 리스트 컴프리헨션 후 deque로 변환\n",
    "def isPalindrome(s: str) -> bool:\n",
    "    strs = collections.deque([c.lower() for c in s if c.isalnum()])\n",
    "    \n",
    "    while len(strs) > 1:\n",
    "        if strs.popleft() != strs.pop():\n",
    "            return False\n",
    "    \n",
    "    return True    "
   ]
  },
  {
   "cell_type": "code",
   "execution_count": 13,
   "metadata": {
    "ExecuteTime": {
     "end_time": "2021-06-21T06:09:38.680358Z",
     "start_time": "2021-06-21T06:09:38.659161Z"
    }
   },
   "outputs": [
    {
     "data": {
      "text/plain": [
       "True"
      ]
     },
     "execution_count": 13,
     "metadata": {},
     "output_type": "execute_result"
    }
   ],
   "source": [
    "isPalindrome(str1)"
   ]
  },
  {
   "cell_type": "code",
   "execution_count": 14,
   "metadata": {
    "ExecuteTime": {
     "end_time": "2021-06-21T06:09:38.697441Z",
     "start_time": "2021-06-21T06:09:38.684566Z"
    }
   },
   "outputs": [
    {
     "data": {
      "text/plain": [
       "False"
      ]
     },
     "execution_count": 14,
     "metadata": {},
     "output_type": "execute_result"
    }
   ],
   "source": [
    "isPalindrome(str2)"
   ]
  },
  {
   "cell_type": "markdown",
   "metadata": {},
   "source": [
    "리스트를 사용한 풀이에서는 첫 문자를 반환하기 위해 pop(0)을 사용했지만 이는 O(n)의 시간 복잡도를 지닌다. <br>\n",
    "같은 기능을 수행할 수 있는 deque 자료구조의 popleft()는 O(1)의 복잡도를 지니므로 deque 자료구조를 사용하여 성능을 줄일 수 있다."
   ]
  },
  {
   "cell_type": "markdown",
   "metadata": {},
   "source": [
    "# 정규식과 슬라이싱 사용 "
   ]
  },
  {
   "cell_type": "code",
   "execution_count": 15,
   "metadata": {
    "ExecuteTime": {
     "end_time": "2021-06-21T06:09:38.713748Z",
     "start_time": "2021-06-21T06:09:38.701927Z"
    }
   },
   "outputs": [],
   "source": [
    "def isPalindrome(s: str) -> bool:\n",
    "    s = s.lower()\n",
    "    s = re.sub('[^a-z0-9]', '', s)\n",
    "    \n",
    "    return s == s[::-1]"
   ]
  },
  {
   "cell_type": "code",
   "execution_count": 16,
   "metadata": {
    "ExecuteTime": {
     "end_time": "2021-06-21T06:09:38.732810Z",
     "start_time": "2021-06-21T06:09:38.718878Z"
    }
   },
   "outputs": [
    {
     "data": {
      "text/plain": [
       "True"
      ]
     },
     "execution_count": 16,
     "metadata": {},
     "output_type": "execute_result"
    }
   ],
   "source": [
    "isPalindrome(str1)"
   ]
  },
  {
   "cell_type": "code",
   "execution_count": 17,
   "metadata": {
    "ExecuteTime": {
     "end_time": "2021-06-21T06:09:38.748905Z",
     "start_time": "2021-06-21T06:09:38.737888Z"
    }
   },
   "outputs": [
    {
     "data": {
      "text/plain": [
       "False"
      ]
     },
     "execution_count": 17,
     "metadata": {},
     "output_type": "execute_result"
    }
   ],
   "source": [
    "isPalindrome(str2)"
   ]
  },
  {
   "cell_type": "markdown",
   "metadata": {},
   "source": [
    "파이썬의 정규표현식과 문자열 슬라이싱 기능을 활용한 풀이이다. <br>\n",
    "파이썬에서는 c언어와 다르게 연산자를 통한 문자열 직접 비교가 가능하다."
   ]
  },
  {
   "cell_type": "markdown",
   "metadata": {},
   "source": [
    "## 정규표현식"
   ]
  },
  {
   "cell_type": "markdown",
   "metadata": {},
   "source": [
    "파이썬의 정규표현식 처리에는 re 모듈을 사용한다. <br>\n",
    "re 모듈의 sub() 메소드는 패턴과 일치하는 부분문자열을 다른 문자열로 변경해주는 메소드이다. <br>\n",
    "**sub(패턴, 대체문자열, 문자열)** <br>\n",
    "여기서 사용된 '[^a-z0-9]'는 숫자와 알파벳 소문자를 제외한 패턴을 찾아내는 것이다. 그리고 그것을 공백 문자열로 대체하여 주어 결과적으로는 s 문자열에 알파벳 소문자와 숫자만을 남긴 것이다."
   ]
  },
  {
   "cell_type": "markdown",
   "metadata": {},
   "source": [
    "## 문자열 슬라이싱"
   ]
  },
  {
   "cell_type": "markdown",
   "metadata": {},
   "source": [
    "파이썬에서 제공하는 문자열 슬라이싱 기능은 위치를 지정하면 해당 위치의 배열 포인터를 얻어 이를 통해 연결된 객체를 찾아 실제 값을 찾아낸다. 이 과정은 내부적으로 c로 구현되어 있고 매우 빠르다.<br>\n",
    "문자열을 리스트나 deque로 변환하여 작업하는 것도 진행하는 것도 효율적이지만 이는 변환 과정에서 자원이 소모되기 때문에 문자열 슬라이싱을 하는 쪽이 대부분 더 효율적이다."
   ]
  },
  {
   "cell_type": "markdown",
   "metadata": {},
   "source": [
    "***str[start : end : step]*** <br>\n",
    "문자열 슬라이싱의 기본 구조는 위와 같으며 본 문제 풀이에서는 s[::-1]로 사용하여 start와 end는 비우고 step에 -1을 넣어주어 역방향으로 한 단계씩 올라가게 두어 문자열을 뒤집는 효과가 났다."
   ]
  },
  {
   "cell_type": "markdown",
   "metadata": {},
   "source": [
    "슬라이싱을 응용한 방법 중에는 문자열을 복사하는 것도 있다. <br>\n",
    "파이썬에서 **a = \"abc\"; b = a**처럼 코드를 작성하면 b에 a의 문자열이 복사되는 것이 아닌 b와 a 모두 같은 객체를 참조하게 된다. <br>\n",
    "그러므로 복사를 원한다면 **b = a[:]** 와 같이 a 전체를 슬라이싱해주면 된다."
   ]
  }
 ],
 "metadata": {
  "kernelspec": {
   "display_name": "Python 3",
   "language": "python",
   "name": "python3"
  },
  "language_info": {
   "codemirror_mode": {
    "name": "ipython",
    "version": 3
   },
   "file_extension": ".py",
   "mimetype": "text/x-python",
   "name": "python",
   "nbconvert_exporter": "python",
   "pygments_lexer": "ipython3",
   "version": "3.7.1"
  },
  "toc": {
   "base_numbering": 1,
   "nav_menu": {},
   "number_sections": true,
   "sideBar": true,
   "skip_h1_title": false,
   "title_cell": "Table of Contents",
   "title_sidebar": "Contents",
   "toc_cell": false,
   "toc_position": {},
   "toc_section_display": true,
   "toc_window_display": false
  }
 },
 "nbformat": 4,
 "nbformat_minor": 2
}
