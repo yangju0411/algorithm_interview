{
 "cells": [
  {
   "cell_type": "markdown",
   "metadata": {},
   "source": [
    "리트코드 해시맵 디자인: https://leetcode.com/problems/design-hashmap/"
   ]
  },
  {
   "cell_type": "code",
   "execution_count": 1,
   "metadata": {
    "ExecuteTime": {
     "end_time": "2021-08-05T13:05:16.634073Z",
     "start_time": "2021-08-05T13:05:16.627290Z"
    }
   },
   "outputs": [],
   "source": [
    "import collections\n",
    "import heapq\n",
    "import functools\n",
    "import itertools\n",
    "import re\n",
    "import sys\n",
    "import math\n",
    "import bisect\n",
    "from typing import *"
   ]
  },
  {
   "cell_type": "markdown",
   "metadata": {},
   "source": [
    "# 개별 체이닝 방식을 이용한 해시 테이블 구현 "
   ]
  },
  {
   "cell_type": "code",
   "execution_count": 2,
   "metadata": {
    "ExecuteTime": {
     "end_time": "2021-08-05T13:05:16.648119Z",
     "start_time": "2021-08-05T13:05:16.638578Z"
    }
   },
   "outputs": [],
   "source": [
    "# 체이닝을 위한 클래스 정의\n",
    "class ListNode:\n",
    "    def __init__(self, key = None, value = None):\n",
    "        self.key = key\n",
    "        self.value = value\n",
    "        self.next = None"
   ]
  },
  {
   "cell_type": "code",
   "execution_count": 3,
   "metadata": {
    "ExecuteTime": {
     "end_time": "2021-08-05T13:05:16.684057Z",
     "start_time": "2021-08-05T13:05:16.654043Z"
    }
   },
   "outputs": [],
   "source": [
    "class MyHashMap:\n",
    "\n",
    "    def __init__(self):\n",
    "        self.size = 1000\n",
    "        self.table = collections.defaultdict(ListNode) # 간편하게 초기값을 가지는 defaultdict 선언\n",
    "        \n",
    "    def put(self, key: int, value: int) -> None:\n",
    "        index = key % self.size # 해쉬함수\n",
    "        if self.table[index].value is None: # 충돌이 나지 않는 경우\n",
    "            self.table[index] = ListNode(key, value)\n",
    "            return\n",
    "        # 충돌이 일어난 경우 연결 리스트로 체이닝\n",
    "        p = self.table[index]\n",
    "        while p:\n",
    "            if p.key == key:\n",
    "                p.value = value\n",
    "                return\n",
    "            if p.next is None:\n",
    "                break\n",
    "            p = p.next\n",
    "        \n",
    "        p.next = ListNode(key = key, value = value)\n",
    "\n",
    "    def get(self, key: int) -> int:\n",
    "        index = key % self.size\n",
    "        if self.table[index].value is None:\n",
    "            return -1 # 인덱스에 값이 존재하지 않을 경우 -1 반환하라고 문제 조건에 나옴\n",
    "        p = self.table[index]\n",
    "        while p:\n",
    "            if p.key == key:\n",
    "                return p.value\n",
    "            p = p.next\n",
    "            \n",
    "        return -1 # 인덱스에 값은 존재하나 키가 일치하는 것은 없으므로 -1 반환\n",
    "        \n",
    "\n",
    "    def remove(self, key: int) -> None:\n",
    "        index = key % self.size\n",
    "        if self.table[index].value is None:\n",
    "            return\n",
    "        \n",
    "        # 인덱스의 첫번째 노드일 경우\n",
    "        p = self.table[index]\n",
    "        if p.key == key:\n",
    "            self.table[index] = ListNode() if p.next is None else p.next # 다음 노드가 존재하면 그걸로 대체\n",
    "            return\n",
    "\n",
    "        # 연결 리스트 노드 삭제\n",
    "        prev = p\n",
    "        while p:\n",
    "            if p.key == key:\n",
    "                prev.next = p.next\n",
    "                return\n",
    "            prev, p = p, p.next        "
   ]
  },
  {
   "cell_type": "markdown",
   "metadata": {},
   "source": [
    "체이닝 방식을 사용해서 해쉬맵을 구현한다. 체이닝 방식이란 인덱스가 중복되어 해쉬 충돌이 일어났을 때 연결 리스트 등으로 같은 자리에 여러 값을 넣을 수 있게 하는 것이다."
   ]
  }
 ],
 "metadata": {
  "kernelspec": {
   "display_name": "Python 3",
   "language": "python",
   "name": "python3"
  },
  "language_info": {
   "codemirror_mode": {
    "name": "ipython",
    "version": 3
   },
   "file_extension": ".py",
   "mimetype": "text/x-python",
   "name": "python",
   "nbconvert_exporter": "python",
   "pygments_lexer": "ipython3",
   "version": "3.7.1"
  },
  "toc": {
   "base_numbering": 1,
   "nav_menu": {},
   "number_sections": true,
   "sideBar": true,
   "skip_h1_title": false,
   "title_cell": "Table of Contents",
   "title_sidebar": "Contents",
   "toc_cell": false,
   "toc_position": {},
   "toc_section_display": true,
   "toc_window_display": false
  }
 },
 "nbformat": 4,
 "nbformat_minor": 2
}
