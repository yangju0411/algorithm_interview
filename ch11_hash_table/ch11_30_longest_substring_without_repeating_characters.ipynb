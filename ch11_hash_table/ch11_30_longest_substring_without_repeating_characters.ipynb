{
 "cells": [
  {
   "cell_type": "markdown",
   "metadata": {},
   "source": [
    "리트코드 중복 문자 없는 가장 긴 부분 문자열: https://leetcode.com/problems/longest-substring-without-repeating-characters/"
   ]
  },
  {
   "cell_type": "code",
   "execution_count": 1,
   "metadata": {
    "ExecuteTime": {
     "end_time": "2021-08-06T12:16:08.826613Z",
     "start_time": "2021-08-06T12:16:08.819415Z"
    }
   },
   "outputs": [],
   "source": [
    "import collections\n",
    "import heapq\n",
    "import functools\n",
    "import itertools\n",
    "import re\n",
    "import sys\n",
    "import math\n",
    "import bisect\n",
    "from typing import *"
   ]
  },
  {
   "cell_type": "code",
   "execution_count": 2,
   "metadata": {
    "ExecuteTime": {
     "end_time": "2021-08-06T12:18:17.498949Z",
     "start_time": "2021-08-06T12:18:17.493990Z"
    }
   },
   "outputs": [],
   "source": [
    "s1 = \"abcabcbb\"\n",
    "s2 = \"bbbbb\""
   ]
  },
  {
   "cell_type": "markdown",
   "metadata": {},
   "source": [
    "# 슬라이딩 윈도우와 투 포인터로 사이즈 조절 "
   ]
  },
  {
   "cell_type": "code",
   "execution_count": 3,
   "metadata": {
    "ExecuteTime": {
     "end_time": "2021-08-06T12:34:55.872117Z",
     "start_time": "2021-08-06T12:34:55.861862Z"
    }
   },
   "outputs": [],
   "source": [
    "def lengthOfLongestSubstring(s: str) -> int:\n",
    "    used = {} # 이전에 문자가 나온 위치 저장하는 딕셔너리\n",
    "    max_length =  start = 0\n",
    "    for index, char in enumerate(s):\n",
    "        if char in used and start <= used[char]: #이미 등장한 문자라면 start 갱신\n",
    "            start = used[char] + 1\n",
    "        else: # 최대 부분 문자열 길이 갱신\n",
    "            max_length = max(max_length, index - start + 1)\n",
    "        # 현재 문자의 위치 삽입\n",
    "        used[char] = index\n",
    "    return max_length"
   ]
  },
  {
   "cell_type": "code",
   "execution_count": 4,
   "metadata": {
    "ExecuteTime": {
     "end_time": "2021-08-06T12:41:39.174131Z",
     "start_time": "2021-08-06T12:41:39.163491Z"
    }
   },
   "outputs": [
    {
     "data": {
      "text/plain": [
       "3"
      ]
     },
     "execution_count": 4,
     "metadata": {},
     "output_type": "execute_result"
    }
   ],
   "source": [
    "lengthOfLongestSubstring(s1)"
   ]
  },
  {
   "cell_type": "code",
   "execution_count": 5,
   "metadata": {
    "ExecuteTime": {
     "end_time": "2021-08-06T12:41:47.997922Z",
     "start_time": "2021-08-06T12:41:47.990253Z"
    }
   },
   "outputs": [
    {
     "data": {
      "text/plain": [
       "1"
      ]
     },
     "execution_count": 5,
     "metadata": {},
     "output_type": "execute_result"
    }
   ],
   "source": [
    "lengthOfLongestSubstring(s2)"
   ]
  },
  {
   "cell_type": "markdown",
   "metadata": {},
   "source": [
    "슬라이딩 윈도우의 시작 지점을 start 포인터로 두고 만나는 문자의 위치들을 딕셔너리에 저장해 기억해둔 후 슬라이딩 윈도우 범위 내에서 중복된 문자가 나온다면 start 지점을 이전 문자 위치의 다음 위치로 옮겨 슬라이딩 윈도우를 옮겨 주는 풀이이다. <br>"
   ]
  }
 ],
 "metadata": {
  "kernelspec": {
   "display_name": "Python 3",
   "language": "python",
   "name": "python3"
  },
  "language_info": {
   "codemirror_mode": {
    "name": "ipython",
    "version": 3
   },
   "file_extension": ".py",
   "mimetype": "text/x-python",
   "name": "python",
   "nbconvert_exporter": "python",
   "pygments_lexer": "ipython3",
   "version": "3.7.1"
  },
  "toc": {
   "base_numbering": 1,
   "nav_menu": {},
   "number_sections": true,
   "sideBar": true,
   "skip_h1_title": false,
   "title_cell": "Table of Contents",
   "title_sidebar": "Contents",
   "toc_cell": false,
   "toc_position": {},
   "toc_section_display": true,
   "toc_window_display": false
  }
 },
 "nbformat": 4,
 "nbformat_minor": 2
}
