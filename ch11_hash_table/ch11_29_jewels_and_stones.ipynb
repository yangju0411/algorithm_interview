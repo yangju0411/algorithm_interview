{
 "cells": [
  {
   "cell_type": "markdown",
   "metadata": {},
   "source": [
    "리트코드 보석과 돌: https://leetcode.com/problems/jewels-and-stones/"
   ]
  },
  {
   "cell_type": "code",
   "execution_count": 1,
   "metadata": {
    "ExecuteTime": {
     "end_time": "2021-08-05T13:26:09.386826Z",
     "start_time": "2021-08-05T13:26:09.380713Z"
    }
   },
   "outputs": [],
   "source": [
    "import collections\n",
    "import heapq\n",
    "import functools\n",
    "import itertools\n",
    "import re\n",
    "import sys\n",
    "import math\n",
    "import bisect\n",
    "from typing import *"
   ]
  },
  {
   "cell_type": "code",
   "execution_count": 3,
   "metadata": {
    "ExecuteTime": {
     "end_time": "2021-08-05T13:29:29.461759Z",
     "start_time": "2021-08-05T13:29:29.456231Z"
    }
   },
   "outputs": [],
   "source": [
    "jewels = \"aA\"\n",
    "stones = \"aAAbbbb\""
   ]
  },
  {
   "cell_type": "markdown",
   "metadata": {},
   "source": [
    "# 해시 테이블을 이용한 풀이"
   ]
  },
  {
   "cell_type": "code",
   "execution_count": 4,
   "metadata": {
    "ExecuteTime": {
     "end_time": "2021-08-05T13:42:47.969626Z",
     "start_time": "2021-08-05T13:42:47.960338Z"
    }
   },
   "outputs": [],
   "source": [
    "def numJewelsInStones(jewels: str, stones: str) -> int:\n",
    "    freqs = {}\n",
    "    count = 0\n",
    "    \n",
    "    # 돌(S)의 빈도 수 계산\n",
    "    for char in stones:\n",
    "        if char not in freqs:\n",
    "            freqs[char] = 1\n",
    "        else:\n",
    "            freqs[char] += 1\n",
    "            \n",
    "    # 보석(J)의 빈도 수 합산\n",
    "    for char in jewels:\n",
    "        if char in freqs:\n",
    "            count += freqs[char]\n",
    "    \n",
    "    return count"
   ]
  },
  {
   "cell_type": "code",
   "execution_count": 5,
   "metadata": {
    "ExecuteTime": {
     "end_time": "2021-08-05T13:43:06.139559Z",
     "start_time": "2021-08-05T13:43:06.127979Z"
    }
   },
   "outputs": [
    {
     "data": {
      "text/plain": [
       "3"
      ]
     },
     "execution_count": 5,
     "metadata": {},
     "output_type": "execute_result"
    }
   ],
   "source": [
    "numJewelsInStones(jewels, stones)"
   ]
  },
  {
   "cell_type": "markdown",
   "metadata": {},
   "source": [
    "파이썬의 해쉬 테이블을 구현한 딕셔너리 자료형으로 간단하게 구현되었다. <br>\n",
    "최종적으로 빈도 수를 합산하여 결과를 구한다."
   ]
  },
  {
   "cell_type": "markdown",
   "metadata": {},
   "source": [
    "# defaultdict를 이용한 비교 생략 "
   ]
  },
  {
   "cell_type": "code",
   "execution_count": 6,
   "metadata": {
    "ExecuteTime": {
     "end_time": "2021-08-05T13:47:29.793468Z",
     "start_time": "2021-08-05T13:47:29.784486Z"
    }
   },
   "outputs": [],
   "source": [
    "def numJewelsInStones(jewels: str, stones: str) -> int:\n",
    "    freqs = collections.defaultdict(int)\n",
    "    count = 0\n",
    "    \n",
    "    for char in stones:\n",
    "        freqs[char] += 1\n",
    "    \n",
    "    for char in jewels:\n",
    "        count += freqs[char]\n",
    "        \n",
    "    return count"
   ]
  },
  {
   "cell_type": "markdown",
   "metadata": {},
   "source": [
    "defaultdict는 초기 값을 줄 수 있고 키가 존재하는지 여부를 확인하는 코드를 따로 작성해줄 필요 없어서 코드가 간결해진다."
   ]
  },
  {
   "cell_type": "markdown",
   "metadata": {},
   "source": [
    "# Counter로 계산 생략"
   ]
  },
  {
   "cell_type": "code",
   "execution_count": 7,
   "metadata": {
    "ExecuteTime": {
     "end_time": "2021-08-05T13:50:19.328432Z",
     "start_time": "2021-08-05T13:50:19.321354Z"
    }
   },
   "outputs": [],
   "source": [
    "def numJewelsInStones(jewels: str, stones: str) -> int:\n",
    "    freqs = collections.Counter(stones)\n",
    "    count = 0\n",
    "    \n",
    "    for char in jewels:\n",
    "        count += freqs[char]\n",
    "        \n",
    "    return count"
   ]
  },
  {
   "cell_type": "markdown",
   "metadata": {},
   "source": [
    "카운터를 이용해 따로 stones를 카운트하는 코드를 작성할 필요가 없다."
   ]
  },
  {
   "cell_type": "markdown",
   "metadata": {},
   "source": [
    "# 파이써닉한 풀이 "
   ]
  },
  {
   "cell_type": "code",
   "execution_count": 8,
   "metadata": {
    "ExecuteTime": {
     "end_time": "2021-08-05T13:51:56.264303Z",
     "start_time": "2021-08-05T13:51:56.257133Z"
    }
   },
   "outputs": [],
   "source": [
    "def numJewelsInStones(jewels: str, stones: str) -> int:\n",
    "    return sum(s in jewels for s in stones)"
   ]
  },
  {
   "cell_type": "markdown",
   "metadata": {},
   "source": [
    "stones의 문자가 jewels에 속하는지 여부를 판단하여 bool 타입으로 반환하는 리스트 컴프리헨션을 작성해 sum으로 합해주면 그 보석의 개수가 나온다.<br>\n",
    "이 풀이가"
   ]
  }
 ],
 "metadata": {
  "kernelspec": {
   "display_name": "Python 3",
   "language": "python",
   "name": "python3"
  },
  "language_info": {
   "codemirror_mode": {
    "name": "ipython",
    "version": 3
   },
   "file_extension": ".py",
   "mimetype": "text/x-python",
   "name": "python",
   "nbconvert_exporter": "python",
   "pygments_lexer": "ipython3",
   "version": "3.7.1"
  },
  "toc": {
   "base_numbering": 1,
   "nav_menu": {},
   "number_sections": true,
   "sideBar": true,
   "skip_h1_title": false,
   "title_cell": "Table of Contents",
   "title_sidebar": "Contents",
   "toc_cell": false,
   "toc_position": {},
   "toc_section_display": true,
   "toc_window_display": false
  }
 },
 "nbformat": 4,
 "nbformat_minor": 2
}
